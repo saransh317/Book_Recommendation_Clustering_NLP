{
  "nbformat": 4,
  "nbformat_minor": 0,
  "metadata": {
    "colab": {
      "name": "Clustering_Books",
      "provenance": [],
      "collapsed_sections": [],
      "authorship_tag": "ABX9TyO0M5e0HEQyQ7w5YjfikJbo"
    },
    "kernelspec": {
      "name": "python3",
      "display_name": "Python 3"
    }
  },
  "cells": [
    {
      "cell_type": "code",
      "metadata": {
        "id": "kHiiNIOs30mj",
        "colab": {
          "base_uri": "https://localhost:8080/"
        },
        "outputId": "e532dff4-db11-4182-e69f-bc1e44f20cbc"
      },
      "source": [
        "import pandas as pd\n",
        "import numpy as np\n",
        "import os\n",
        "import glob\n",
        "import re\n",
        "import pickle\n",
        "from tqdm import tqdm\n",
        "import nltk # Natural Language ToolKit\n",
        "from gensim import corpora # Dictionaries\n",
        "from nltk.stem import PorterStemmer # Porter stemming\n",
        "from gensim.models import TfidfModel # TF-IDF models\n",
        "from gensim import similarities # Similarity computations\n",
        "from sklearn.cluster import KMeans\n",
        "from scipy import spatial\n",
        "import matplotlib.pyplot as plt\n",
        "import seaborn as sns\n",
        "plt.rcParams[\"figure.figsize\"] = (20,10)\n",
        "import json\n",
        "%matplotlib inline\n",
        "tqdm.pandas()"
      ],
      "execution_count": null,
      "outputs": [
        {
          "output_type": "stream",
          "text": [
            "/usr/local/lib/python3.7/dist-packages/tqdm/std.py:658: FutureWarning: The Panel class is removed from pandas. Accessing it from the top-level namespace will also be removed in the next version\n",
            "  from pandas import Panel\n"
          ],
          "name": "stderr"
        }
      ]
    },
    {
      "cell_type": "markdown",
      "metadata": {
        "id": "kJL_-b2fixg0"
      },
      "source": [
        "Application :<b>Clustering books based on their description"
      ]
    },
    {
      "cell_type": "code",
      "metadata": {
        "colab": {
          "base_uri": "https://localhost:8080/"
        },
        "id": "gBqDKIAoxqxW",
        "outputId": "ae9eed02-21b9-4a70-9408-58b36fa9a877"
      },
      "source": [
        "nltk.download('stopwords')"
      ],
      "execution_count": null,
      "outputs": [
        {
          "output_type": "stream",
          "text": [
            "[nltk_data] Downloading package stopwords to /root/nltk_data...\n",
            "[nltk_data]   Package stopwords is already up-to-date!\n"
          ],
          "name": "stdout"
        },
        {
          "output_type": "execute_result",
          "data": {
            "text/plain": [
              "True"
            ]
          },
          "metadata": {
            "tags": []
          },
          "execution_count": 2
        }
      ]
    },
    {
      "cell_type": "code",
      "metadata": {
        "colab": {
          "base_uri": "https://localhost:8080/",
          "height": 514
        },
        "id": "Ktqni4UJvIcj",
        "outputId": "433d202e-113c-4802-af26-71005fa53994"
      },
      "source": [
        "books_df = pd.read_csv('/content/Books_seperate.csv')\n",
        "print('Shape of Dataset: ',books_df.shape)\n",
        "books_df.head()"
      ],
      "execution_count": null,
      "outputs": [
        {
          "output_type": "stream",
          "text": [
            "Shape of Dataset:  (1250, 14)\n"
          ],
          "name": "stdout"
        },
        {
          "output_type": "execute_result",
          "data": {
            "text/html": [
              "<div>\n",
              "<style scoped>\n",
              "    .dataframe tbody tr th:only-of-type {\n",
              "        vertical-align: middle;\n",
              "    }\n",
              "\n",
              "    .dataframe tbody tr th {\n",
              "        vertical-align: top;\n",
              "    }\n",
              "\n",
              "    .dataframe thead th {\n",
              "        text-align: right;\n",
              "    }\n",
              "</style>\n",
              "<table border=\"1\" class=\"dataframe\">\n",
              "  <thead>\n",
              "    <tr style=\"text-align: right;\">\n",
              "      <th></th>\n",
              "      <th>publication_date</th>\n",
              "      <th>euro_price</th>\n",
              "      <th>type</th>\n",
              "      <th>category</th>\n",
              "      <th>name</th>\n",
              "      <th>subtitle</th>\n",
              "      <th>author</th>\n",
              "      <th>isSecondHand</th>\n",
              "      <th>publisher</th>\n",
              "      <th>language</th>\n",
              "      <th>no_of_pages</th>\n",
              "      <th>weight</th>\n",
              "      <th>salesRank</th>\n",
              "      <th>short_blurb</th>\n",
              "    </tr>\n",
              "  </thead>\n",
              "  <tbody>\n",
              "    <tr>\n",
              "      <th>0</th>\n",
              "      <td>20-Aug-20</td>\n",
              "      <td>9.60</td>\n",
              "      <td>Paperback</td>\n",
              "      <td>history</td>\n",
              "      <td>The Royal Netherlands Navy of World War II</td>\n",
              "      <td>NaN</td>\n",
              "      <td>Ryan Noppen, Paul Wright (illustrator)</td>\n",
              "      <td>False</td>\n",
              "      <td>Bloomsbury Publishing (UK)</td>\n",
              "      <td>English</td>\n",
              "      <td>48</td>\n",
              "      <td>5.0</td>\n",
              "      <td>25358.0</td>\n",
              "      <td>In the late 19th and early 20th century, a com...</td>\n",
              "    </tr>\n",
              "    <tr>\n",
              "      <th>1</th>\n",
              "      <td>21-Jan-20</td>\n",
              "      <td>2.90</td>\n",
              "      <td>Paperback</td>\n",
              "      <td>literature</td>\n",
              "      <td>Fascism and Democracy</td>\n",
              "      <td>NaN</td>\n",
              "      <td>George Orwell (author)</td>\n",
              "      <td>False</td>\n",
              "      <td>Penguin Books Ltd</td>\n",
              "      <td>English</td>\n",
              "      <td>48</td>\n",
              "      <td>5.6</td>\n",
              "      <td>2852.0</td>\n",
              "      <td>'Fascism and Democracy' collects five brillian...</td>\n",
              "    </tr>\n",
              "    <tr>\n",
              "      <th>2</th>\n",
              "      <td>5-Nov-20</td>\n",
              "      <td>10.77</td>\n",
              "      <td>Paperback</td>\n",
              "      <td>fiction</td>\n",
              "      <td>Interior Chinatown</td>\n",
              "      <td>A Novel</td>\n",
              "      <td>Charles Yu (author)</td>\n",
              "      <td>False</td>\n",
              "      <td>Europa Editions (UK) Ltd.</td>\n",
              "      <td>English</td>\n",
              "      <td>288</td>\n",
              "      <td>10.0</td>\n",
              "      <td>839.0</td>\n",
              "      <td>A deeply personal novel about race, pop cultur...</td>\n",
              "    </tr>\n",
              "    <tr>\n",
              "      <th>3</th>\n",
              "      <td>9-Nov-20</td>\n",
              "      <td>12.92</td>\n",
              "      <td>Paperback</td>\n",
              "      <td>artanddesign</td>\n",
              "      <td>Railroad Depots of Northwest Pennsylvania</td>\n",
              "      <td>NaN</td>\n",
              "      <td>Dan West (author)</td>\n",
              "      <td>False</td>\n",
              "      <td>Arcadia Publishing</td>\n",
              "      <td>English</td>\n",
              "      <td>128</td>\n",
              "      <td>16.0</td>\n",
              "      <td>3965.0</td>\n",
              "      <td>From 1860 until the decline of the railroads n...</td>\n",
              "    </tr>\n",
              "    <tr>\n",
              "      <th>4</th>\n",
              "      <td>9-Nov-20</td>\n",
              "      <td>12.92</td>\n",
              "      <td>Paperback</td>\n",
              "      <td>sports</td>\n",
              "      <td>Lost Ski Areas of Tahoe and Donner</td>\n",
              "      <td>NaN</td>\n",
              "      <td>Ingrid P. Wicken (author)</td>\n",
              "      <td>False</td>\n",
              "      <td>Arcadia Publishing</td>\n",
              "      <td>English</td>\n",
              "      <td>192</td>\n",
              "      <td>19.0</td>\n",
              "      <td>3371.0</td>\n",
              "      <td>At the beginning of the twentieth century, Lak...</td>\n",
              "    </tr>\n",
              "  </tbody>\n",
              "</table>\n",
              "</div>"
            ],
            "text/plain": [
              "  publication_date  ...                                        short_blurb\n",
              "0        20-Aug-20  ...  In the late 19th and early 20th century, a com...\n",
              "1        21-Jan-20  ...  'Fascism and Democracy' collects five brillian...\n",
              "2         5-Nov-20  ...  A deeply personal novel about race, pop cultur...\n",
              "3         9-Nov-20  ...  From 1860 until the decline of the railroads n...\n",
              "4         9-Nov-20  ...  At the beginning of the twentieth century, Lak...\n",
              "\n",
              "[5 rows x 14 columns]"
            ]
          },
          "metadata": {
            "tags": []
          },
          "execution_count": 3
        }
      ]
    },
    {
      "cell_type": "markdown",
      "metadata": {
        "id": "rMRwiUvNvvqB"
      },
      "source": [
        "For clustering books based on description, we need to remove from short description\n",
        "1. All non alpha-numeric characters\n",
        "2. Null description rows\n",
        "3. Empty Description rows\n",
        "4. HTML tags\n",
        "5. Punctuations\n",
        "6. Stopwords"
      ]
    },
    {
      "cell_type": "code",
      "metadata": {
        "colab": {
          "base_uri": "https://localhost:8080/"
        },
        "id": "ksi_OOZmvU9U",
        "outputId": "a9697961-9903-4509-bdeb-212d59042024"
      },
      "source": [
        "books_df['short_blurb'] = books_df['short_blurb'].str.replace(r'[\\W_]+', ' ')\n",
        "books_df = books_df[books_df['short_blurb'].notnull()]\n",
        "books_df = books_df[-(books_df['short_blurb'] == ' ')]\n",
        "books_df.shape"
      ],
      "execution_count": null,
      "outputs": [
        {
          "output_type": "execute_result",
          "data": {
            "text/plain": [
              "(1214, 14)"
            ]
          },
          "metadata": {
            "tags": []
          },
          "execution_count": 4
        }
      ]
    },
    {
      "cell_type": "markdown",
      "metadata": {
        "id": "lNDFHPckwd77"
      },
      "source": [
        "Split string into words"
      ]
    },
    {
      "cell_type": "code",
      "metadata": {
        "colab": {
          "base_uri": "https://localhost:8080/"
        },
        "id": "--ns4ZTXwXlZ",
        "outputId": "ecceeb8a-5f0b-421c-995f-18e7abba31fc"
      },
      "source": [
        "books_df['book_desc_split'] = books_df['short_blurb'].str.split()\n",
        "books_df['book_desc_split'].head()"
      ],
      "execution_count": null,
      "outputs": [
        {
          "output_type": "execute_result",
          "data": {
            "text/plain": [
              "0    [In, the, late, 19th, and, early, 20th, centur...\n",
              "1    [Fascism, and, Democracy, collects, five, bril...\n",
              "2    [A, deeply, personal, novel, about, race, pop,...\n",
              "3    [From, 1860, until, the, decline, of, the, rai...\n",
              "4    [At, the, beginning, of, the, twentieth, centu...\n",
              "Name: book_desc_split, dtype: object"
            ]
          },
          "metadata": {
            "tags": []
          },
          "execution_count": 5
        }
      ]
    },
    {
      "cell_type": "markdown",
      "metadata": {
        "id": "Na2DRL-KwvqC"
      },
      "source": [
        "Convert tokens to lowercase"
      ]
    },
    {
      "cell_type": "code",
      "metadata": {
        "colab": {
          "base_uri": "https://localhost:8080/",
          "height": 214
        },
        "id": "OdHHAaMVwrUq",
        "outputId": "f38607b5-7df2-4a2a-d7b7-291ceb21b450"
      },
      "source": [
        "books_df['book_desc_split'] = books_df.progress_apply(lambda row: [token.lower() for token in row['book_desc_split']] , \n",
        "                                          axis=1)\n",
        "books_df[['book_desc_split']].head()"
      ],
      "execution_count": null,
      "outputs": [
        {
          "output_type": "stream",
          "text": [
            "100%|██████████| 1214/1214 [00:00<00:00, 7078.83it/s]\n"
          ],
          "name": "stderr"
        },
        {
          "output_type": "execute_result",
          "data": {
            "text/html": [
              "<div>\n",
              "<style scoped>\n",
              "    .dataframe tbody tr th:only-of-type {\n",
              "        vertical-align: middle;\n",
              "    }\n",
              "\n",
              "    .dataframe tbody tr th {\n",
              "        vertical-align: top;\n",
              "    }\n",
              "\n",
              "    .dataframe thead th {\n",
              "        text-align: right;\n",
              "    }\n",
              "</style>\n",
              "<table border=\"1\" class=\"dataframe\">\n",
              "  <thead>\n",
              "    <tr style=\"text-align: right;\">\n",
              "      <th></th>\n",
              "      <th>book_desc_split</th>\n",
              "    </tr>\n",
              "  </thead>\n",
              "  <tbody>\n",
              "    <tr>\n",
              "      <th>0</th>\n",
              "      <td>[in, the, late, 19th, and, early, 20th, centur...</td>\n",
              "    </tr>\n",
              "    <tr>\n",
              "      <th>1</th>\n",
              "      <td>[fascism, and, democracy, collects, five, bril...</td>\n",
              "    </tr>\n",
              "    <tr>\n",
              "      <th>2</th>\n",
              "      <td>[a, deeply, personal, novel, about, race, pop,...</td>\n",
              "    </tr>\n",
              "    <tr>\n",
              "      <th>3</th>\n",
              "      <td>[from, 1860, until, the, decline, of, the, rai...</td>\n",
              "    </tr>\n",
              "    <tr>\n",
              "      <th>4</th>\n",
              "      <td>[at, the, beginning, of, the, twentieth, centu...</td>\n",
              "    </tr>\n",
              "  </tbody>\n",
              "</table>\n",
              "</div>"
            ],
            "text/plain": [
              "                                     book_desc_split\n",
              "0  [in, the, late, 19th, and, early, 20th, centur...\n",
              "1  [fascism, and, democracy, collects, five, bril...\n",
              "2  [a, deeply, personal, novel, about, race, pop,...\n",
              "3  [from, 1860, until, the, decline, of, the, rai...\n",
              "4  [at, the, beginning, of, the, twentieth, centu..."
            ]
          },
          "metadata": {
            "tags": []
          },
          "execution_count": 6
        }
      ]
    },
    {
      "cell_type": "code",
      "metadata": {
        "id": "kDlVWV2tw3Dg"
      },
      "source": [
        "#removing HTML tags\n",
        "def remove_html(text):\n",
        "    html_pattern = re.compile('<.*?>')\n",
        "    return html_pattern.sub(r'', text)"
      ],
      "execution_count": null,
      "outputs": []
    },
    {
      "cell_type": "code",
      "metadata": {
        "colab": {
          "base_uri": "https://localhost:8080/"
        },
        "id": "XlMgUc3sxE9U",
        "outputId": "13359261-d173-43a3-c0dc-bb119ffbb4f1"
      },
      "source": [
        "books_df['book_desc_split'] = books_df.progress_apply(lambda row: [remove_html(token) for token in row['book_desc_split']] , \n",
        "                                          axis=1)\n",
        "books_df['book_desc_split'].head()"
      ],
      "execution_count": null,
      "outputs": [
        {
          "output_type": "stream",
          "text": [
            "100%|██████████| 1214/1214 [00:00<00:00, 11990.84it/s]\n"
          ],
          "name": "stderr"
        },
        {
          "output_type": "execute_result",
          "data": {
            "text/plain": [
              "0    [in, the, late, 19th, and, early, 20th, centur...\n",
              "1    [fascism, and, democracy, collects, five, bril...\n",
              "2    [a, deeply, personal, novel, about, race, pop,...\n",
              "3    [from, 1860, until, the, decline, of, the, rai...\n",
              "4    [at, the, beginning, of, the, twentieth, centu...\n",
              "Name: book_desc_split, dtype: object"
            ]
          },
          "metadata": {
            "tags": []
          },
          "execution_count": 8
        }
      ]
    },
    {
      "cell_type": "code",
      "metadata": {
        "colab": {
          "base_uri": "https://localhost:8080/"
        },
        "id": "O1QDBKRYxHLU",
        "outputId": "58eef228-cf7f-45b7-c480-63c4e8c26973"
      },
      "source": [
        "books_df['book_desc_split'] = books_df.progress_apply(lambda row: [re.sub(r'\\W+', '', token) for token in row['book_desc_split']], axis=1)\n",
        "books_df['book_desc_split'].head()"
      ],
      "execution_count": null,
      "outputs": [
        {
          "output_type": "stream",
          "text": [
            "100%|██████████| 1214/1214 [00:00<00:00, 10165.37it/s]\n"
          ],
          "name": "stderr"
        },
        {
          "output_type": "execute_result",
          "data": {
            "text/plain": [
              "0    [in, the, late, 19th, and, early, 20th, centur...\n",
              "1    [fascism, and, democracy, collects, five, bril...\n",
              "2    [a, deeply, personal, novel, about, race, pop,...\n",
              "3    [from, 1860, until, the, decline, of, the, rai...\n",
              "4    [at, the, beginning, of, the, twentieth, centu...\n",
              "Name: book_desc_split, dtype: object"
            ]
          },
          "metadata": {
            "tags": []
          },
          "execution_count": 9
        }
      ]
    },
    {
      "cell_type": "code",
      "metadata": {
        "colab": {
          "base_uri": "https://localhost:8080/",
          "height": 214
        },
        "id": "PmwfHXR8xV3l",
        "outputId": "f3e18c1f-82e5-4964-d7f0-6d4d184b63ab"
      },
      "source": [
        "# Getting the English stop words from nltk\n",
        "stopwords = nltk.corpus.stopwords.words('english')\n",
        "books_df['book_desc_split'] = books_df.progress_apply(lambda row: [token for token in row['book_desc_split'] \n",
        "                                                       if token not in stopwords] , \n",
        "                                          axis=1)\n",
        "books_df[['book_desc_split']].head()"
      ],
      "execution_count": null,
      "outputs": [
        {
          "output_type": "stream",
          "text": [
            "100%|██████████| 1214/1214 [00:00<00:00, 7020.23it/s]\n"
          ],
          "name": "stderr"
        },
        {
          "output_type": "execute_result",
          "data": {
            "text/html": [
              "<div>\n",
              "<style scoped>\n",
              "    .dataframe tbody tr th:only-of-type {\n",
              "        vertical-align: middle;\n",
              "    }\n",
              "\n",
              "    .dataframe tbody tr th {\n",
              "        vertical-align: top;\n",
              "    }\n",
              "\n",
              "    .dataframe thead th {\n",
              "        text-align: right;\n",
              "    }\n",
              "</style>\n",
              "<table border=\"1\" class=\"dataframe\">\n",
              "  <thead>\n",
              "    <tr style=\"text-align: right;\">\n",
              "      <th></th>\n",
              "      <th>book_desc_split</th>\n",
              "    </tr>\n",
              "  </thead>\n",
              "  <tbody>\n",
              "    <tr>\n",
              "      <th>0</th>\n",
              "      <td>[late, 19th, early, 20th, century, combination...</td>\n",
              "    </tr>\n",
              "    <tr>\n",
              "      <th>1</th>\n",
              "      <td>[fascism, democracy, collects, five, brilliant...</td>\n",
              "    </tr>\n",
              "    <tr>\n",
              "      <th>2</th>\n",
              "      <td>[deeply, personal, novel, race, pop, culture, ...</td>\n",
              "    </tr>\n",
              "    <tr>\n",
              "      <th>3</th>\n",
              "      <td>[1860, decline, railroads, nearly, 100, years,...</td>\n",
              "    </tr>\n",
              "    <tr>\n",
              "      <th>4</th>\n",
              "      <td>[beginning, twentieth, century, lake, tahoe, d...</td>\n",
              "    </tr>\n",
              "  </tbody>\n",
              "</table>\n",
              "</div>"
            ],
            "text/plain": [
              "                                     book_desc_split\n",
              "0  [late, 19th, early, 20th, century, combination...\n",
              "1  [fascism, democracy, collects, five, brilliant...\n",
              "2  [deeply, personal, novel, race, pop, culture, ...\n",
              "3  [1860, decline, railroads, nearly, 100, years,...\n",
              "4  [beginning, twentieth, century, lake, tahoe, d..."
            ]
          },
          "metadata": {
            "tags": []
          },
          "execution_count": 10
        }
      ]
    },
    {
      "cell_type": "markdown",
      "metadata": {
        "id": "pMnq-lBxxzB2"
      },
      "source": [
        "Token -> Stem"
      ]
    },
    {
      "cell_type": "code",
      "metadata": {
        "colab": {
          "base_uri": "https://localhost:8080/",
          "height": 214
        },
        "id": "fP5XuRTVxj5U",
        "outputId": "dc06c7ec-dcba-4a7a-f07e-4cb98743d5e3"
      },
      "source": [
        "porter = PorterStemmer()\n",
        "books_df['book_desc_split'] = books_df.progress_apply(lambda row: [porter.stem(token) for token in row['book_desc_split']] , \n",
        "                                          axis=1)\n",
        "books_df[['book_desc_split']].head()"
      ],
      "execution_count": null,
      "outputs": [
        {
          "output_type": "stream",
          "text": [
            "100%|██████████| 1214/1214 [00:01<00:00, 990.29it/s]\n"
          ],
          "name": "stderr"
        },
        {
          "output_type": "execute_result",
          "data": {
            "text/html": [
              "<div>\n",
              "<style scoped>\n",
              "    .dataframe tbody tr th:only-of-type {\n",
              "        vertical-align: middle;\n",
              "    }\n",
              "\n",
              "    .dataframe tbody tr th {\n",
              "        vertical-align: top;\n",
              "    }\n",
              "\n",
              "    .dataframe thead th {\n",
              "        text-align: right;\n",
              "    }\n",
              "</style>\n",
              "<table border=\"1\" class=\"dataframe\">\n",
              "  <thead>\n",
              "    <tr style=\"text-align: right;\">\n",
              "      <th></th>\n",
              "      <th>book_desc_split</th>\n",
              "    </tr>\n",
              "  </thead>\n",
              "  <tbody>\n",
              "    <tr>\n",
              "      <th>0</th>\n",
              "      <td>[late, 19th, earli, 20th, centuri, combin, coa...</td>\n",
              "    </tr>\n",
              "    <tr>\n",
              "      <th>1</th>\n",
              "      <td>[fascism, democraci, collect, five, brilliant,...</td>\n",
              "    </tr>\n",
              "    <tr>\n",
              "      <th>2</th>\n",
              "      <td>[deepli, person, novel, race, pop, cultur, esc...</td>\n",
              "    </tr>\n",
              "    <tr>\n",
              "      <th>3</th>\n",
              "      <td>[1860, declin, railroad, nearli, 100, year, la...</td>\n",
              "    </tr>\n",
              "    <tr>\n",
              "      <th>4</th>\n",
              "      <td>[begin, twentieth, centuri, lake, taho, donner...</td>\n",
              "    </tr>\n",
              "  </tbody>\n",
              "</table>\n",
              "</div>"
            ],
            "text/plain": [
              "                                     book_desc_split\n",
              "0  [late, 19th, earli, 20th, centuri, combin, coa...\n",
              "1  [fascism, democraci, collect, five, brilliant,...\n",
              "2  [deepli, person, novel, race, pop, cultur, esc...\n",
              "3  [1860, declin, railroad, nearli, 100, year, la...\n",
              "4  [begin, twentieth, centuri, lake, taho, donner..."
            ]
          },
          "metadata": {
            "tags": []
          },
          "execution_count": 11
        }
      ]
    },
    {
      "cell_type": "markdown",
      "metadata": {
        "id": "k8n6XiLlx9Ba"
      },
      "source": [
        "Vectrorizing Token"
      ]
    },
    {
      "cell_type": "markdown",
      "metadata": {
        "id": "KUADDwYQ_SQA"
      },
      "source": [
        "![glove.JPG](data:image/jpeg;base64,/9j/4AAQSkZJRgABAQEAkACQAAD/4RD4RXhpZgAATU0AKgAAAAgABAE7AAIAAAAPAAAISodpAAQAAAABAAAIWpydAAEAAAAeAAAQ0uocAAcAAAgMAAAAPgAAAAAc6gAAAAgAAAAAAAAAAAAAAAAAAAAAAAAAAAAAAAAAAAAAAAAAAAAAAAAAAAAAAAAAAAAAAAAAAAAAAAAAAAAAAAAAAAAAAAAAAAAAAAAAAAAAAAAAAAAAAAAAAAAAAAAAAAAAAAAAAAAAAAAAAAAAAAAAAAAAAAAAAAAAAAAAAAAAAAAAAAAAAAAAAAAAAAAAAAAAAAAAAAAAAAAAAAAAAAAAAAAAAAAAAAAAAAAAAAAAAAAAAAAAAAAAAAAAAAAAAAAAAAAAAAAAAAAAAAAAAAAAAAAAAAAAAAAAAAAAAAAAAAAAAAAAAAAAAAAAAAAAAAAAAAAAAAAAAAAAAAAAAAAAAAAAAAAAAAAAAAAAAAAAAAAAAAAAAAAAAAAAAAAAAAAAAAAAAAAAAAAAAAAAAAAAAAAAAAAAAAAAAAAAAAAAAAAAAAAAAAAAAAAAAAAAAAAAAAAAAAAAAAAAAAAAAAAAAAAAAAAAAAAAAAAAAAAAAAAAAAAAAAAAAAAAAAAAAAAAAAAAAAAAAAAAAAAAAAAAAAAAAAAAAAAAAAAAAAAAAAAAAAAAAAAAAAAAAAAAAAAAAAAAAAAAAAAAAAAAAAAAAAAAAAAAAAAAAAAAAAAAAAAAAAAAAAAAAAAAAAAAAAAAAAAAAAAAAAAAAAAAAAAAAAAAAAAAAAAAAAAAAAAAAAAAAAAAAAAAAAAAAAAAAAAAAAAAAAAAAAAAAAAAAAAAAAAAAAAAAAAAAAAAAAAAAAAAAAAAAAAAAAAAAAAAAAAAAAAAAAAAAAAAAAAAAAAAAAAAAAAAAAAAAAAAAAAAAAAAAAAAAAAAAAAAAAAAAAAAAAAAAAAAAAAAAAAAAAAAAAAAAAAAAAAAAAAAAAAAAAAAAAAAAAAAAAAAAAAAAAAAAAAAAAAAAAAAAAAAAAAAAAAAAAAAAAAAAAAAAAAAAAAAAAAAAAAAAAAAAAAAAAAAAAAAAAAAAAAAAAAAAAAAAAAAAAAAAAAAAAAAAAAAAAAAAAAAAAAAAAAAAAAAAAAAAAAAAAAAAAAAAAAAAAAAAAAAAAAAAAAAAAAAAAAAAAAAAAAAAAAAAAAAAAAAAAAAAAAAAAAAAAAAAAAAAAAAAAAAAAAAAAAAAAAAAAAAAAAAAAAAAAAAAAAAAAAAAAAAAAAAAAAAAAAAAAAAAAAAAAAAAAAAAAAAAAAAAAAAAAAAAAAAAAAAAAAAAAAAAAAAAAAAAAAAAAAAAAAAAAAAAAAAAAAAAAAAAAAAAAAAAAAAAAAAAAAAAAAAAAAAAAAAAAAAAAAAAAAAAAAAAAAAAAAAAAAAAAAAAAAAAAAAAAAAAAAAAAAAAAAAAAAAAAAAAAAAAAAAAAAAAAAAAAAAAAAAAAAAAAAAAAAAAAAAAAAAAAAAAAAAAAAAAAAAAAAAAAAAAAAAAAAAAAAAAAAAAAAAAAAAAAAAAAAAAAAAAAAAAAAAAAAAAAAAAAAAAAAAAAAAAAAAAAAAAAAAAAAAAAAAAAAAAAAAAAAAAAAAAAAAAAAAAAAAAAAAAAAAAAAAAAAAAAAAAAAAAAAAAAAAAAAAAAAAAAAAAAAAAAAAAAAAAAAAAAAAAAAAAAAAAAAAAAAAAAAAAAAAAAAAAAAAAAAAAAAAAAAAAAAAAAAAAAAAAAAAAAAAAAAAAAAAAAAAAAAAAAAAAAAAAAAAAAAAAAAAAAAAAAAAAAAAAAAAAAAAAAAAAAAAAAAAAAAAAAAAAAAAAAAAAAAAAAAAAAAAAAAAAAAAAAAAAAAAAAAAAAAAAAAAAAAAAAAAAAAAAAAAAAAAAAAAAAAAAAAAAAAAAAAAAAAAAAAAAAAAAAAAAAAAAAAAAAAAAAAAAAAAAAAAAAAAAAAAAAAAAAAAAAAAAAAAAAAAAAAAAAAAAAAAAAAAAAAAAAAAAAAAAAAAAAAAAAAAAAAAAAAAAAAAAAAAAAAAAAAAAAAAAAAAAAAAAAAAAAAAAAAAAAAAAAAAAAAAAAAAAAAAAAAAAAAAAAAAAAAAAAAAAAAAAAAAAAAAAAAAAAAAAAAAAAAAAAAAAAAAAAAAAAAAAAAAAAAAAAAAAAAAAAAAAAAAAAAAAAAAAAAAAAAAAAAAAAAAAAAAAAAAAAAAAAAAAAAAAAAAAAAAAAAAAAAAAAAAAAAAAAAAAAAAAAAAAAAAAAAAAAAAAAAAAAAAAAAAAAAAAAAAAAAAAAAAAAAAAAAAAAAAAAAAAAAAAAAAAAAAAAAAAAAAAAAAAAAAAAAAAAAAAAAAAAAAAAAAAAAAAAAAAAAAAAAAAAAAAAAAAAAAAAAAAAAAAAAAAAAAAAAAAAAAAAAAAAAAAAAAAAAAAAAAAAAAAAAAAAAAAAAAAAAAAAAAAAAAAAAAAAAAAAAAAAAAAAAAAAAAAAAAAAAAAAAAAAAAAAAAAAAAAAAAAAAAAAAAAAAAAAAAAAAAAAAAAAAAAAAAAAAAAAAAAAAAAAAAAAAAAAAAAAAAAAAAAAAAAAAAAAAAAAAAAAAAAAAAAAAAAAAAAAAAAAAAAAAAAAAAAAAAAAAAAAAAAAAAAAAAAAAAAAAAAAAAAAAAAAAAAAAAAAAAAAAAAAAAAAAAAAAAAAAAAAAAAAAAAAAAAAAAAAAAAAAAAAAAAAAAAAAAAAAAAAAAAAAAAAAAAAAAAAAAAAAAAAAAAAAAAAAAAAAAAAAAAAAAAAAAAAAAAAAAAAAAAAAAAAAAAAAAAAAAAAAAAAAAAAAAAAAAAAAAAAAAAFNhcmFuc2ggU2F4ZW5hAAAABZADAAIAAAAUAAAQqJAEAAIAAAAUAAAQvJKRAAIAAAADMDIAAJKSAAIAAAADMDIAAOocAAcAAAgMAAAInAAAAAAc6gAAAAgAAAAAAAAAAAAAAAAAAAAAAAAAAAAAAAAAAAAAAAAAAAAAAAAAAAAAAAAAAAAAAAAAAAAAAAAAAAAAAAAAAAAAAAAAAAAAAAAAAAAAAAAAAAAAAAAAAAAAAAAAAAAAAAAAAAAAAAAAAAAAAAAAAAAAAAAAAAAAAAAAAAAAAAAAAAAAAAAAAAAAAAAAAAAAAAAAAAAAAAAAAAAAAAAAAAAAAAAAAAAAAAAAAAAAAAAAAAAAAAAAAAAAAAAAAAAAAAAAAAAAAAAAAAAAAAAAAAAAAAAAAAAAAAAAAAAAAAAAAAAAAAAAAAAAAAAAAAAAAAAAAAAAAAAAAAAAAAAAAAAAAAAAAAAAAAAAAAAAAAAAAAAAAAAAAAAAAAAAAAAAAAAAAAAAAAAAAAAAAAAAAAAAAAAAAAAAAAAAAAAAAAAAAAAAAAAAAAAAAAAAAAAAAAAAAAAAAAAAAAAAAAAAAAAAAAAAAAAAAAAAAAAAAAAAAAAAAAAAAAAAAAAAAAAAAAAAAAAAAAAAAAAAAAAAAAAAAAAAAAAAAAAAAAAAAAAAAAAAAAAAAAAAAAAAAAAAAAAAAAAAAAAAAAAAAAAAAAAAAAAAAAAAAAAAAAAAAAAAAAAAAAAAAAAAAAAAAAAAAAAAAAAAAAAAAAAAAAAAAAAAAAAAAAAAAAAAAAAAAAAAAAAAAAAAAAAAAAAAAAAAAAAAAAAAAAAAAAAAAAAAAAAAAAAAAAAAAAAAAAAAAAAAAAAAAAAAAAAAAAAAAAAAAAAAAAAAAAAAAAAAAAAAAAAAAAAAAAAAAAAAAAAAAAAAAAAAAAAAAAAAAAAAAAAAAAAAAAAAAAAAAAAAAAAAAAAAAAAAAAAAAAAAAAAAAAAAAAAAAAAAAAAAAAAAAAAAAAAAAAAAAAAAAAAAAAAAAAAAAAAAAAAAAAAAAAAAAAAAAAAAAAAAAAAAAAAAAAAAAAAAAAAAAAAAAAAAAAAAAAAAAAAAAAAAAAAAAAAAAAAAAAAAAAAAAAAAAAAAAAAAAAAAAAAAAAAAAAAAAAAAAAAAAAAAAAAAAAAAAAAAAAAAAAAAAAAAAAAAAAAAAAAAAAAAAAAAAAAAAAAAAAAAAAAAAAAAAAAAAAAAAAAAAAAAAAAAAAAAAAAAAAAAAAAAAAAAAAAAAAAAAAAAAAAAAAAAAAAAAAAAAAAAAAAAAAAAAAAAAAAAAAAAAAAAAAAAAAAAAAAAAAAAAAAAAAAAAAAAAAAAAAAAAAAAAAAAAAAAAAAAAAAAAAAAAAAAAAAAAAAAAAAAAAAAAAAAAAAAAAAAAAAAAAAAAAAAAAAAAAAAAAAAAAAAAAAAAAAAAAAAAAAAAAAAAAAAAAAAAAAAAAAAAAAAAAAAAAAAAAAAAAAAAAAAAAAAAAAAAAAAAAAAAAAAAAAAAAAAAAAAAAAAAAAAAAAAAAAAAAAAAAAAAAAAAAAAAAAAAAAAAAAAAAAAAAAAAAAAAAAAAAAAAAAAAAAAAAAAAAAAAAAAAAAAAAAAAAAAAAAAAAAAAAAAAAAAAAAAAAAAAAAAAAAAAAAAAAAAAAAAAAAAAAAAAAAAAAAAAAAAAAAAAAAAAAAAAAAAAAAAAAAAAAAAAAAAAAAAAAAAAAAAAAAAAAAAAAAAAAAAAAAAAAAAAAAAAAAAAAAAAAAAAAAAAAAAAAAAAAAAAAAAAAAAAAAAAAAAAAAAAAAAAAAAAAAAAAAAAAAAAAAAAAAAAAAAAAAAAAAAAAAAAAAAAAAAAAAAAAAAAAAAAAAAAAAAAAAAAAAAAAAAAAAAAAAAAAAAAAAAAAAAAAAAAAAAAAAAAAAAAAAAAAAAAAAAAAAAAAAAAAAAAAAAAAAAAAAAAAAAAAAAAAAAAAAAAAAAAAAAAAAAAAAAAAAAAAAAAAAAAAAAAAAAAAAAAAAAAAAAAAAAAAAAAAAAAAAAAAAAAAAAAAAAAAAAAAAAAAAAAAAAAAAAAAAAAAAAAAAAAAAAAAAAAAAAAAAAAAAAAAAAAAAAAAAAAAAAAAAAAAAAAAAAAAAAAAAAAAAAAAAAAAAAAAAAAAAAAAAAAAAAAAAAAAAAAAAAAAAAAAAAAAAAAAAAAAAAAAAAAAAAAAAAAAAAAAAAAAAAAAAAAAAAAAAAAAAAAAAAAAAAAAAAAAAAAAAAAAAAAAAAAAAAAAAAAAAAAAAAAAAAAAAAAAAAAAAAAAAAAAAAAAAAAAAAAAAAAAAAAAAAAAAAAAAAAAAAAAAAAAAAAAAAAAAAAAAAAAAAAAAAAAAAAAAAAAAAAAAAAAAAAAAAAAAAAAAAAAAAAAAAAAAAAAAAAAAAAAAAAAAAAAAAAAAAAAAAAAAAAAAAAAAAAAAAAAAAAAAAAAAAAAAAAAAAAAAAAAAAAAAAAAAAAAAAAAAAAAAAAAAAAAAAAAAAAAAAAAAAAAAAAAAAAAAAAAAAAAAAAAAAAAAAAAAAAAAAAAAAAAAAAAAAAAAAAAAAAAAAAAAAAAAAAAAAAAAAAAAAAAAAAAAAAAAAAAAAAAAAAAAAAAAAAAAAAAAAAAAAAAAAAAAAAAAAAAAAAAAAAAAAAAAAAAAAAAAAAAAAAAAAAAAAAAAAAAAAAAAAAAAAAAAAAAAAAAAAAAAAAAAAAAAAAAAAAAAAAAAAAAAAAAAAAAAAAAAAAAAAAAAAAAAAAAAAAAAAAAAAAAAAAAAAAAAAAAAAAAAAAAAAAAAAAAAAAAAAAAAAAAAAAAAAAAAAAAAAADIwMjE6MDU6MzAgMDc6Mjc6MzMAMjAyMTowNTozMCAwNzoyNzozMwAAAFMAYQByAGEAbgBzAGgAIABTAGEAeABlAG4AYQAAAP/hCyFodHRwOi8vbnMuYWRvYmUuY29tL3hhcC8xLjAvADw/eHBhY2tldCBiZWdpbj0n77u/JyBpZD0nVzVNME1wQ2VoaUh6cmVTek5UY3prYzlkJz8+DQo8eDp4bXBtZXRhIHhtbG5zOng9ImFkb2JlOm5zOm1ldGEvIj48cmRmOlJERiB4bWxuczpyZGY9Imh0dHA6Ly93d3cudzMub3JnLzE5OTkvMDIvMjItcmRmLXN5bnRheC1ucyMiPjxyZGY6RGVzY3JpcHRpb24gcmRmOmFib3V0PSJ1dWlkOmZhZjViZGQ1LWJhM2QtMTFkYS1hZDMxLWQzM2Q3NTE4MmYxYiIgeG1sbnM6ZGM9Imh0dHA6Ly9wdXJsLm9yZy9kYy9lbGVtZW50cy8xLjEvIi8+PHJkZjpEZXNjcmlwdGlvbiByZGY6YWJvdXQ9InV1aWQ6ZmFmNWJkZDUtYmEzZC0xMWRhLWFkMzEtZDMzZDc1MTgyZjFiIiB4bWxuczp4bXA9Imh0dHA6Ly9ucy5hZG9iZS5jb20veGFwLzEuMC8iPjx4bXA6Q3JlYXRlRGF0ZT4yMDIxLTA1LTMwVDA3OjI3OjMzLjAxOTwveG1wOkNyZWF0ZURhdGU+PC9yZGY6RGVzY3JpcHRpb24+PHJkZjpEZXNjcmlwdGlvbiByZGY6YWJvdXQ9InV1aWQ6ZmFmNWJkZDUtYmEzZC0xMWRhLWFkMzEtZDMzZDc1MTgyZjFiIiB4bWxuczpkYz0iaHR0cDovL3B1cmwub3JnL2RjL2VsZW1lbnRzLzEuMS8iPjxkYzpjcmVhdG9yPjxyZGY6U2VxIHhtbG5zOnJkZj0iaHR0cDovL3d3dy53My5vcmcvMTk5OS8wMi8yMi1yZGYtc3ludGF4LW5zIyI+PHJkZjpsaT5TYXJhbnNoIFNheGVuYTwvcmRmOmxpPjwvcmRmOlNlcT4NCgkJCTwvZGM6Y3JlYXRvcj48L3JkZjpEZXNjcmlwdGlvbj48L3JkZjpSREY+PC94OnhtcG1ldGE+DQogICAgICAgICAgICAgICAgICAgICAgICAgICAgICAgICAgICAgICAgICAgICAgICAgICAgICAgICAgICAgICAgICAgICAgICAgICAgICAgICAgICAgICAgICAgICAgICAgICAgCiAgICAgICAgICAgICAgICAgICAgICAgICAgICAgICAgICAgICAgICAgICAgICAgICAgICAgICAgICAgICAgICAgICAgICAgICAgICAgICAgICAgICAgICAgICAgICAgICAgICAKICAgICAgICAgICAgICAgICAgICAgICAgICAgICAgICAgICAgICAgICAgICAgICAgICAgICAgICAgICAgICAgICAgICAgICAgICAgICAgICAgICAgICAgICAgICAgICAgICAgIAogICAgICAgICAgICAgICAgICAgICAgICAgICAgICAgICAgICAgICAgICAgICAgICAgICAgICAgICAgICAgICAgICAgICAgICAgICAgICAgICAgICAgICAgICAgICAgICAgICAgCiAgICAgICAgICAgICAgICAgICAgICAgICAgICAgICAgICAgICAgICAgICAgICAgICAgICAgICAgICAgICAgICAgICAgICAgICAgICAgICAgICAgICAgICAgICAgICAgICAgICAKICAgICAgICAgICAgICAgICAgICAgICAgICAgICAgICAgICAgICAgICAgICAgICAgICAgICAgICAgICAgICAgICAgICAgICAgICAgICAgICAgICAgICAgICAgICAgICAgICAgIAogICAgICAgICAgICAgICAgICAgICAgICAgICAgICAgICAgICAgICAgICAgICAgICAgICAgICAgICAgICAgICAgICAgICAgICAgICAgICAgICAgICAgICAgICAgICAgICAgICAgCiAgICAgICAgICAgICAgICAgICAgICAgICAgICAgICAgICAgICAgICAgICAgICAgICAgICAgICAgICAgICAgICAgICAgICAgICAgICAgICAgICAgICAgICAgICAgICAgICAgICAKICAgICAgICAgICAgICAgICAgICAgICAgICAgICAgICAgICAgICAgICAgICAgICAgICAgICAgICAgICAgICAgICAgICAgICAgICAgICAgICAgICAgICAgICAgICAgICAgICAgIAogICAgICAgICAgICAgICAgICAgICAgICAgICAgICAgICAgICAgICAgICAgICAgICAgICAgICAgICAgICAgICAgICAgICAgICAgICAgICAgICAgICAgICAgICAgICAgICAgICAgCiAgICAgICAgICAgICAgICAgICAgICAgICAgICAgICAgICAgICAgICAgICAgICAgICAgICAgICAgICAgICAgICAgICAgICAgICAgICAgICAgICAgICAgICAgICAgICAgICAgICAKICAgICAgICAgICAgICAgICAgICAgICAgICAgICAgICAgICAgICAgICAgICAgICAgICAgICAgICAgICAgICAgICAgICAgICAgICAgICAgICAgICAgICAgICAgICAgICAgICAgIAogICAgICAgICAgICAgICAgICAgICAgICAgICAgICAgICAgICAgICAgICAgICAgICAgICAgICAgICAgICAgICAgICAgICAgICAgICAgICAgICAgICAgICAgICAgICAgICAgICAgCiAgICAgICAgICAgICAgICAgICAgICAgICAgICAgICAgICAgICAgICAgICAgICAgICAgICAgICAgICAgICAgICAgICAgICAgICAgICAgICAgICAgICAgICAgICAgICAgICAgICAKICAgICAgICAgICAgICAgICAgICAgICAgICAgICAgICAgICAgICAgICAgICAgICAgICAgICAgICAgICAgICAgICAgICAgICAgICAgICAgICAgICAgICAgICAgICAgICAgICAgIAogICAgICAgICAgICAgICAgICAgICAgICAgICAgICAgICAgICAgICAgICAgICAgICAgICAgICAgICAgICAgICAgICAgICAgICAgICAgICAgICAgICAgICAgICAgICAgICAgICAgCiAgICAgICAgICAgICAgICAgICAgICAgICAgICAgICAgICAgICAgICAgICAgICAgICAgICAgICAgICAgICAgICAgICAgICAgICAgICAgICAgICAgICAgICAgICAgICAgICAgICAKICAgICAgICAgICAgICAgICAgICAgICAgICAgICAgICAgICAgICAgICAgICAgICAgICAgICAgICAgICAgICAgICAgICAgICAgICAgICAgICAgICAgICAgICAgICAgICAgICAgIAogICAgICAgICAgICAgICAgICAgICAgICAgICAgICAgICAgICAgICAgICAgICAgICAgICAgICAgICAgICAgICAgICAgICAgICAgICAgICAgICAgICAgICAgICAgICAgICAgICAgCiAgICAgICAgICAgICAgICAgICAgICAgICAgICAgICAgICAgICAgICAgICAgICAgICAgICAgICAgICAgICAgICAgICAgICAgICAgICAgICAgICAgICAgICAgICAgICAgICAgICAKICAgICAgICAgICAgICAgICAgICAgICAgICAgIDw/eHBhY2tldCBlbmQ9J3cnPz7/2wBDAAcFBQYFBAcGBQYIBwcIChELCgkJChUPEAwRGBUaGRgVGBcbHichGx0lHRcYIi4iJSgpKywrGiAvMy8qMicqKyr/2wBDAQcICAoJChQLCxQqHBgcKioqKioqKioqKioqKioqKioqKioqKioqKioqKioqKioqKioqKioqKioqKioqKioqKir/wAARCAFMBiIDASIAAhEBAxEB/8QAHwAAAQUBAQEBAQEAAAAAAAAAAAECAwQFBgcICQoL/8QAtRAAAgEDAwIEAwUFBAQAAAF9AQIDAAQRBRIhMUEGE1FhByJxFDKBkaEII0KxwRVS0fAkM2JyggkKFhcYGRolJicoKSo0NTY3ODk6Q0RFRkdISUpTVFVWV1hZWmNkZWZnaGlqc3R1dnd4eXqDhIWGh4iJipKTlJWWl5iZmqKjpKWmp6ipqrKztLW2t7i5usLDxMXGx8jJytLT1NXW19jZ2uHi4+Tl5ufo6erx8vP09fb3+Pn6/8QAHwEAAwEBAQEBAQEBAQAAAAAAAAECAwQFBgcICQoL/8QAtREAAgECBAQDBAcFBAQAAQJ3AAECAxEEBSExBhJBUQdhcRMiMoEIFEKRobHBCSMzUvAVYnLRChYkNOEl8RcYGRomJygpKjU2Nzg5OkNERUZHSElKU1RVVldYWVpjZGVmZ2hpanN0dXZ3eHl6goOEhYaHiImKkpOUlZaXmJmaoqOkpaanqKmqsrO0tba3uLm6wsPExcbHyMnK0tPU1dbX2Nna4uPk5ebn6Onq8vP09fb3+Pn6/9oADAMBAAIRAxEAPwD6KJphahmqvLMsa5dgo9ScUASF6YZKrNdw/wDPaP8A76FRm7i/56p/30KALZkpPMqkbqP/AJ6L/wB9U37VH/z0X/vqgC95tHm+9UPtUf8Az0X86PtUf/PRfzoAv+Z70eZ71Q+1R/31/Oj7VH/fX86AL/me9Hme9UPtUf8AfX86PtUf99fzoAv+Z70eZ71Q+1R/31/Oj7VH/fX86AL/AJnvR5nvVD7VH/fX86PtUf8AfX86AL/me9Hme9UPtUf99fzo+1R/31/OgC/5nvR5nvVD7VH/AH1/Oj7VH/fX86AL/me9Hme9UPtUf99fzo+1R/31/OgC/wCZ70eZ71Q+1R/31/Oj7VH/AH1/OgC/5nvR5nvVD7VH/fX86PtUf99fzoAv+Z70eZ71Q+1R/wB9fzo+1R/31/OgC/5nvR5nvVD7VH/fX86PtUf99fzoAv8Ame9Hme9UPtUf99fzo+1R/wB9fzoAv+Z70eZ71Q+1R/31/Oj7VH/fX86AL/me9Hme9UPtUf8AfX86PtUf99fzoAv+Z70eZ71Q+1R/31/Oj7VH/fX86AL/AJnvR5nvVD7VH/fX86PtUf8AfX86AL/me9Hme9UPtUf99fzo+1R/31/OgC/5nvR5nvVD7VH/AH1/Oj7VH/fX86AL/me9Hme9UPtUf99fzo+1R/31/OgC/wCZ70eZ71Q+1R/31/Oj7VH/AH1/OgC/5nvR5nvVD7VH/fX86PtUf99fzoAv+Z70eZ71Q+1R/wB9fzo+1R/31/OgC/5nvR5nvVD7VH/fX86PtUf99fzoAv8Ame9Hme9UPtUf99fzo+1R/wB9fzoAv+Z70eZ71Q+1R/31/Oj7VH/fX86AL/me9Hme9UPtUf8AfX86PtUf99fzoAv+Z70eZ71Q+1R/31/Oj7VH/fX86AL/AJnvR5nvVD7VH/fX86PtUf8AfX86AL/me9Hme9UPtUf99fzo+1R/31/OgC/5nvR5nvVD7VH/AH1/Oj7VH/fX86AL/me9Hme9UPtUf99fzo+1R/31/OgC/wCZ70eZ71Q+1R/31/Oj7VH/AH1/OgC/5nvR5nvVD7VH/fX86PtUf99fzoAv+Z70eZ71Q+1R/wB9fzo+1R/31/OgC/5nvR5nvVD7VH/fX86PtUf99fzoAv8Ame9Hme9UPtUf99fzo+1R/wB9fzoAv+Z70eZ71Q+1R/31/Oj7VH/fX86AL/me9Hme9UPtUf8AfX86PtUf99fzoAv+Z70eZ71Q+1R/31/Oj7VH/fX86AL/AJnvR5nvVD7VH/fX86PtUf8AfX86AL/me9Hme9UPtUf99fzo+1R/31/OgC/5nvR5nvVD7VH/AH1/Oj7VH/fX86AL/me9Hme9UPtUf99fzo+1R/31/OgC/wCZ70eZ71Q+1R/31/Oj7VH/AH1/OgC/5nvR5nvVD7VH/fX86PtUf99fzoAv+Z70eZ71Q+1R/wB9fzo+1R/31/OgC/5nvR5nvVD7VH/fX86PtUf99fzoAv8Ame9Hme9UPtUf99fzo+1R/wB9fzoAv+Z70eZ71Q+1R/31/Oj7VH/fX86AL/me9Hme9UPtUf8AfX86PtUf99fzoAv+Z70eZ71Q+1R/31/Oj7VH/fX86AL/AJnvR5nvVD7VH/fX86PtUf8AfX86AL/me9Hme9UPtUf99fzo+1R/31/OgC/5nvR5nvVD7VH/AH1/Oj7VH/fX86AL/me9Hme9UPtUf99fzo+1R/31/OgC/wCZ70eZ71Q+1R/31/Oj7VH/AH1/OgC/5nvR5nvVD7VH/fX86PtUf99fzoAv+Z70eZ71Q+1R/wB9fzo+1R/31/OgC/5nvR5nvVD7VH/fX86PtUf99fzoAv8Ame9Hme9UPtUf99fzo+1R/wB9fzoAv+Z70eZ71Q+1R/31/Oj7VH/fX86AL/me9Hme9UPtUf8AfX86PtUf99fzoAv+Z70eZ71Q+1R/31/Oj7VH/fX86AL/AJnvR5nvVD7VH/fX86PtUf8AfX86AL/me9Hme9UPtUf99fzo+1R/31/OgC/5nvR5nvVD7VH/AH1/Oj7VH/fX86AL/me9Hme9UPtUf99fzo+1R/31/OgC/wCZ70eZ71Q+1R/31/Oj7VH/AH1/OgC/5nvR5nvVD7VH/fX86PtUf99fzoAv+Z70eZ71Q+1R/wB9fzo+1R/31/OgC/5nvR5nvVD7VH/fX86PtUf99fzoAv8Ame9Hme9UPtUf99fzo+1R/wB9fzoAv+Z70eZ71Q+1R/31/Oj7VH/fX86AL/me9Hme9UPtUf8AfX86PtUf99fzoAv+Z70eZ71Q+1R/31/Oj7VH/fX86AL/AJnvR5nvVD7VH/fX86PtUf8AfX86AL/me9Hme9UPtUf99fzo+1R/31/OgC/5nvR5nvVD7VH/AH1/Oj7VH/fX86AL/me9Hme9UPtUf99fzo+1R/31/OgC/wCZ70eZ71Q+1R/31/Oj7VH/AH1/OgC/5nvR5nvVD7VH/fX86PtUf99fzoAv+Z70eb71Q+1R/wB9fzo+1R/31/OgC/5vvR5tUPtSf89F/Oj7VH/z0X86ANDzKBJVD7VH/wA9F/OlFyh6Ov50AaAkpRJVITZ6GnCWgC6JKeHqkJaeJKALgenhqqLJUivQBZDU4GoA9PDUASg0tRg04GgB1LSZooAWiiigAooooAKKKKACiiigAooooAoO1QZ3XlsD/wA9P/ZTUjmoIzm/tv8Arp/7KaANfYn91fyo2J/dX8qdRQA3Yn91fyo2J/dX8qdRQA3Yn91fyo2J/dX8qdRQA3Yn91fyo2J/dX8qdRQA3Yn91fyo2J/dX8qdRQA3Yn91fyo2J/dX8qdRQA3Yn91fyo2J/dX8qdRQA3Yn91fyo2J/dX8qdRQA3Yn91fyo2J/dX8qdRQA3Yn91fyo2J/dX8qdRQA3Yn91fyo2J/dX8qdRQA3Yn91fyo2J/dX8qdRQA3Yn91fyo2J/dX8qdRQA3Yn91fyo2J/dX8qdRQA3Yn91fyo2J/dX8qdRQA3Yn91fyo2J/dX8qdRQA3Yn91fyo2J/dX8qdRQA3Yn91fyo2J/dX8qdRQA3Yn91fyo2J/dX8qdRQA3Yn91fyo2J/dX8qdRQA3Yn91fyo2J/dX8qdRQA3Yn91fyo2J/dX8qdRQA3Yn91fyo2J/dX8qdRQA3Yn91fyo2J/dX8qdRQA3Yn91fyo2J/dX8qdRQA3Yn91fyo2J/dX8qdRQA3Yn91fyo2J/dX8qdRQA3Yn91fyo2J/dX8qdRQA3Yn91fyo2J/dX8qdRQA3Yn91fyo2J/dX8qdRQA3Yn91fyo2J/dX8qdRQA3Yn91fyo2J/dX8qdRQA3Yn91fyo2J/dX8qdRQA3Yn91fyo2J/dX8qdRQA3Yn91fyo2J/dX8qdRQA3Yn91fyo2J/dX8qdRQA3Yn91fyo2J/dX8qdRQA3Yn91fyo2J/dX8qdRQA3Yn91fyo2J/dX8qdRQA3Yn91fyo2J/dX8qdRQA3Yn91fyo2J/dX8qdRQA3Yn91fyo2J/dX8qdRQA3Yn91fyo2J/dX8qdRQA3Yn91fyo2J/dX8qdRQA3Yn91fyo2J/dX8qdRQA3Yn91fyo2J/dX8qdRQA3Yn91fyo2J/dX8qdRQA3Yn91fyo2J/dX8qdRQA3Yn91fyo2J/dX8qdRQA3Yn91fyo2J/dX8qdRQA3Yn91fyo2J/dX8qdRQA3Yn91fyo2J/dX8qdRQA3Yn91fyo2J/dX8qdRQA3Yn91fyo2J/dX8qdRQA3Yn91fyo2J/dX8qdRQA3Yn91fyo2J/dX8qdRQA3Yn91fyo2J/dX8qdRQA3Yn91fyo2J/dX8qdRQA3Yn91fyo2J/dX8qdRQA3Yn91fyo2J/dX8qdRQA3Yn91fyo2J/dX8qdRQA3Yn91fyo2J/dX8qdRQA3Yn91fyo2J/dX8qdRQA3Yn91fyo2J/dX8qdRQA3Yn91fyo2J/dX8qdRQA3Yn91fyo2J/dX8qdRQA3Yn91fyo2J/dX8qdRQA3Yn91fyo2J/dX8qdRQA3Yn91fyo2J/dX8qdRQA3Yn91fyo2J/dX8qdRQA3Yn91fyo2J/dX8qdRQA3Yn91fyo2J/dX8qdRQA3Yn91fyo2J/dX8qdRQA3Yn91fyo2J/dX8qdRQA3Yn91fyo2J/dX8qdRQA3Yn91fyo2J/dX8qdRQA3Yn91fyo2J/dX8qdRQA3Yn91fyo2J/dX8qdRQA3Yn91fyo2J/dX8qdRQA3Yn91fyo2J/dX8qdRQA3Yn91fyo2J/dX8qdRQA3Yn91fyo2J/dX8qdRQA3Yn91fyo2J/dX8qdRQA3Yn91fyo2J/dX8qdRQA3Yn91fyo2J/dX8qdRQA3Yn91fyo2J/dX8qdRQA3Yn91fyprQRN96ND/wGpKKAKzadaP1gQH1AxUL6RCf9W8kf0bP86v0UAZD6Zcx8xuko9D8pqs5kgOJ42j92HH59K6CggMMEZHvQBhLLnoalWSrU2lQvkw5hb/Z6H8KoTQT2nMy5T++vI/H0oAtrJUqvWekuehqdJKALqtTw1VVepVagCwDS5qINUgNADqWmiloAWiiigAooooAKKKKACiiigDKkNQQn/iYW3+//wCympZKhg/5CNv/AL5/9BNAG7RRRQAUUUUAFFFFABRRRQAUUUUAFFFFABRRRQAUUUUAFFFFABRRRQAUUUUAFFFFABRRRQAUUUUAFFFFABRRRQAUUUUAFFFFABRRRQAUUUUAFFFFABRRRQAUUUUAFFFFABRRRQAUUUUAFFFFABRRRQAUUUUAFFFFABRRRQAUUUUAFFFFABRRRQAUUUUAFFFFABRRRQAUUUUAFFFFABRRRQAUUUUAFFFFABRRRQAUUUUAFFFFABRRRQAUUUUAFFFFABRRRQAUUUUAFFFFABRRRQAUUUUAFFFFABRRRQAUUUUAFFFFABRRRQAUUUUAFFFFABRRRQAUUUUAFFFFABRRRQAUUUUAFFFFABRRRQAUUUUAFFFFABRRRQAUUUUAFFFFABRRRQAUUUUAFFFFABRRRQAUUUUAFFFFABRRRQAUUUUAFFFFABRRRQAUUUUAFFFFABRRRQAUUUUAFFFFABRRRQAUUUUAFHWiigDPudLVsvaYjfun8J/wrPDskhjkUo46qa6Cobm1juo9sgwR91h1WgDMSSrCPVKWOS0l8ubv91x0b/69SJJQBfVqkVqqI9Tq1AFgGlFRqaeDQA6lpKKAFooooAKKKKACiiigDHlqG3/5CVv/AL5/9BNTS1Db/wDISt/98/8AoJoA3qKKKACiiigAooooAKKKKACiiigAooooAKKKKACiiigAooooAKKKKACiiigAooooAKKKKACiiigAooooAKKKKACiiigAooooAKKKKACiiigAooooAKKKKACiiigAooooAKKKKACiiigAooooAKKKKACiiigAooooAKKKKACiiigAooooAKKKKACiiigAooooAKKKKACiiigAooooAKKKKACiiigAooooAKKKKACiiigAooooAKKKKACiiigAooooAKKKKACiiigAooooAKKKKACiiigAooooAKKKKACiiigAooooAKKKKACiiigAooooAKKKKACiiigAooooAKKKKACiiigAooooAKKKKACiiigAooooAKKKKACiiigAooooAKKKKACiiigAooooAKKKKACiiigAooooAKKKKACiiigAooooAKKKKACiiigAooooAKKKKACiiigAooooAKKKKACiiigAooooAKKKKAI5oY7iIxyruU/pWLLDJZzeXIdyn7j/AN7/AOvW9UVxbpcwmOQcHoR1B9RQBlxvVhGqiVe3maGX7y9/7w9asRvQBdVqlBqqjVOpoAmBpaYDThQA6igUUAFFFFABRRRQBjy1Db/8hK3/AN8/+gmppaht/wDkJW/++f8A0E0Ab1FFFABRRRQAUUUUAFFFFABRRRQAUUUUAFFFFABRRXnXxi+Jq/D3w6iWISTWL4FbVG5EYHWRh3AzwO5oA63xB4t0DwrbibxDq1rYKwyqyyfO/wDuqPmb8BXFv+0H8O1l2rq07j++tlLj9Vz+lfL+l6P4o+JXiiRLRbjVdSnO+aaV+EH95mPCj/8AUK9Og/Zc8QtahrjXtNjnx/q1WRlB/wB7A/lQB7t4c+JXhDxZMIdC122nuG6QPmKRvojgE/gK6ivjHUvgt440XxRZaUth58t1Ji3vLVyYcjkkvgFMdeQD6Zr658Mabf6P4ZsbDV9SfVL2CILLdOMGQ/54yefWgDkviz8TZvhrYadcwaZHqH2yV4yrzGPbgA54Bz1p/wAJ/iVN8StK1C8n01NPNnMsQVJjJuyuc5IFcH+1P/yAvD//AF8y/wDoIqT9ln/kV9e/6/I//QKAPd6KKKACuc8VeP8Aw14Je3XxPqLWJuQTEfs0sgbHXlFIHXoa6OvP/jT4P/4S/wCHN5HBHvvrD/SrbA5JUfMv4rkflQBv+FfHfhvxstw3hjU1vvsxAmHlSRlc9OHUE9DyK6GvjD4K+MP+EQ+I9m88myxvz9lucnAAY/Kx+jY/Wvs+gDP1zXdN8NaPPqut3S2llAAZJWUtjJwOFBJ5PQCsLw38UfB/i/Vv7N8O6s17d7DIYxaTIAo6ksyADr615F+054w3SWHhO0k4X/SrsA9+iKf1P5Vvfs1+EP7L8KXPiO6TFxqjbIcjpCh6/i2fyFAHtlFFFABRRRQAUUUUAFFFIzBFLMQFAySe1AAzBVLMQABkknpXD6z8ZvAOh3DW934hglmU4KWiPPg+hZAQPzrwL4yfF+98XatcaNoly8GgwMYyIzg3ZB5Zj3X0HTufah4L+BPizxhYR6hiDS7GUZjlvCQ0i+qoATj3OM9qAPfbT4+/Du7kWM61JbljgGa0lA/EhSBXe6Zqun6zYpeaTe297bP92W3kDqfxFfMOs/szeKrCzafS7+w1NkGTApaJ29l3DB/Eitz9nzwH4s0/XZ9avJrrSNMjLQyWki4N244IKnoFP8XXPA70AfRtfP8Ae/tLXlp4luNKHhqBhDdtbeb9rIzh9ucbfxxX0BXwdrH/ACUi/wD+wtJ/6ONAH3gjbkVvUZpabF/qU/3RTqACiiigCG9uDa2FxcBdxhiZwpPXAzivCvC/7SF34i8V6bo7+G4bdb24SEyi7LFMnGcbRmvb9Y/5Ad9/17Sf+gmviT4Zf8lR8O/9f8X/AKFQB9z0UUUAFFFFABRRRQBwvxW+Ikvw38P2epQacmoG5uvIMbymPb8rNnIB/u1R+E3xUn+JY1Iz6VHp/wBi2Y2TGTfuz6gY6VzP7UX/ACIekf8AYSH/AKKesb9lf7viL6w/+zUAfQ9FFFAHNeKviF4Y8FTW8XifUmsWuVLRf6NLIGA68opHfpU3hXxz4c8aw3EvhjUlvltmCy/unjKk9OHUH8a5j44eDv8AhLfhzctbR777Tf8ASrfA5bA+dfxXP4gV89/A7xh/wifxItVuJNljqX+i3GTgAk/Ix+jfzNAH2VWbr/iDS/C+jS6rrt2tpZQkB5WVmwScAYUEk5PYVpV83/tN+MPOvbDwpaS/LCPtV2Af4jwin6DJ/EUAeyeGfif4R8Yao2n+HNVa9uljMjILSZAqjuWZAB19a6yvGf2bvCH9j+DJtfuY8XOrN+7yORCpwPzOT+VezUAFFFFABRRRQAUUUUAIzqv3mA+poDBhlSCPavmP9qP/AJHDRf8Aryb/ANDNekfs5/8AJIYP+vyf+YoA9VooooAKKKKACiiigAooooAKKKKACiiigArhPih8UbH4baVC8lv9t1C7JFvah9oIHVmPOAMj613dfKf7TVzJJ8TLS3Y/u4dOjKD03O+f5CgCeL9qHxYt4Hn0jR3t88xIkqtj/e3nn3x+FfRHgzxMPGHhOy1sWFxYC6XcIZ+o9we6nseM15H8G/hd4Q8T/Cux1HWtIS5vJrmR3nLsG+SQgLwcbcDBHfJr3eONIYkiiRUjRQqqowFA6ACgB1FFFABRRRQAUUUUAFFFFAGX4i8SaV4U0d9U1+5NrZRsqtKInk2knA4QE9fasTw78VfBfizWF0vQNaF1eujOsRtpo8gdeXQD8M1r+LNBi8T+EtS0acfLeW7Rg/3Wx8p/A4NfE/hrVrrwT49sr9wUm0282zL7A7XX8sigD7wqhrWtaf4e0qXUtXuFtrSIqHkbsSQB+pq3bXEd3axXFuweKZA6MO4IyDXzp+0z4z868s/CVnJ8sOLm8x3Y/cX8Bk/iKAPo5WDqGUgqwyCO4pa8y+BHjP8A4Sv4ew211Juv9KxbTZPLKB8jflx9RXQfFDxMPCfw51bU1bbP5Jhg/wCuj/Kv5Zz+FAGe3xt+HyagbE+IM3Il8nYtlcNl84wCI8Hn0rvQcqCO/qK+NvgZ4ZPib4pWTzqXttPzeTE85K/dB+rEflX2TQAUUUUAFFFFABRRRQAUUUUAfP8AJ+0teJ4lbSv+EagIW7Nt5n2s/wB/bnG38cV9AA5UGvg6f/ko8n/YWP8A6Or7wX7o+lAC0UUUAcRrHxj8CaDrFzpera79nvLV9k0X2OdtremVQg/gaqJ8ePhu7hR4kAJOBmyuAPzMdfMnxe/5K94j/wCvw/yFdZpf7OPiXWfD9nqljqulBbuBJkjlaRSAwzgkIeaAPprQ/FegeJYy2gaxZ3+0ZZYJgzL9V6j8RWvXwt4g8M+J/hn4khTUFl0+9T95bXVvJ8rgfxI4/l19RX1H8F/iJL4+8JOdSK/2rYOIrkqMCQEfK+PfnPuKAPRqKKKACiiigAooooAKKKKACiiigAooooAKKKKACiiigAooooAKKKKACiiigAooooAKKKKAGmRFOGZQfc04EEZByPavkT9o3/kr0/8A15w/yNfQnwa/5I/4e/69v/ZjQB29FFFABRRRQAEgDJOB700SIxwrKT7GuO+L3/JIfEf/AF5n+Yr5z/Z4/wCSwWf/AF7Tf+g0AfX9UNW17SNBhSXW9Us9OjkO1Gu51iDH0G4jNX6+Vf2lNM1lPH0eo3Ucz6XJbIltLgmNCM7lz0Bzz70AfUtrdW97ax3NlPHcQSruSWJwyuPUEcGpa8h/Zw0vWNN+Htw2rRyw29xdGWzilBBCbRlgD0BP+PevXqACiiigAooooAKKKKACiiigAooooAKKKKACiiigAooooAKKKKACiiigAooooAKKKKAKmoWn2mHdH/rU5X39qy4pMgdvY1v1j6jB9nuRKgwkp59m/wDr0ASRtVhGqjG1WkagC0pp4qFTUoNAD6WmilFAC0UUUAFFFFAGPLUNv/yErf8A3z/6CamlqG3/AOQlb/75/wDQTQBvUUUUAFFFFABRRRQAUUUUAFFFFABRRRQAUUUUAFfG3x41qXV/i5qcbk+VYbLWIZ4ACgn9Sa+ya+KfjRp8unfF7XVlXAmmE6H1VlBz/OgD6N+BHhi28P8AwvsLqNB9q1RftU8mOSD9wfQLj8zXostxDBjz5Y489N7AZ/OuL+Deq2+rfCXQntnDG2thbSAfwunykfoD+Ncn+0P4U1zxVpOixeHtMnv5IJ5GkWID5QVABOaAPXP7Rsv+fy3/AO/q/wCNPiuYJyRBNHIR1CODj8q+GNb+Hvizw5prahrmh3VlaKwQyygYBPQda9Y/ZX/5DniL/r2h/wDQmoA2f2p/+QF4f/6+Zf8A0EVJ+yz/AMivr3/X5H/6BUf7U/8AyAvD/wD18y/+gipP2Wf+RX17/r8j/wDQKAPbtS1Kz0jTpr/U7mO1tYFLyzSNhVFeIa/+1FpVpdvD4d0KfUI1JH2i4mECt7hQrEj64PtWP+094ouDqWm+GYJCtusX2udB/GxJCZ9hg/nVf4J/BnRPFnhs+IfFKy3MMsrR29rHKY1IU4LMVweucYI6UAdL4c/ae0a/vEt/EejTaUjEAXMM3novuw2qQPpmvbLS8ttSsYruymjubadA8csbBldT3Br5j+OPwg0nwZpltrvhgSw2byiCe1kkLhCQSrKx5xxggk9q6P8AZg8T3Vzaar4cuXZ4bULc22TnYGOGUe2cH8TQB5X8YfB58GfEa8ggQpZXZ+1WpHQKx5UfQ5H5V9KfC/x3Dr/wng1nUZQJdOhaK9YnnMY+9+K4P41i/tDeDv8AhIPAX9rWse680cmXgctEfvj8OD+FfOnh7xvc6D4H8R+H4txTWFjAI6Jg/P8AmvFADpn1D4o/FMkZ+0ave4X/AKZx54/75UfpX2xpmn22jaPa6faKI7a0hWJB0AVRivnr9mTwh5t7f+K7uL5YR9ltCR/EeXYfQYH4mu9/aD8T3Ph34atBYyNFPqk4td6nBCYJbH1Ax+NAFLxl+0Z4c8O30ljotpLrlxE22R45RFCD3AfBLfgMe9c5pv7VED3Srq/heSGAn5pLa7EjL/wFlUH8xXk3w1s/A0+szTfEbUntrGFB5VukcxM7H1aNSQB9QTmu08fxfBO+8L3D+Db77HrEKboEjguts5H8Db1wM+vFAH0n4b8TaV4t0WLVdBulubWTjI4ZG7qw6gj0qzqurafoemy6hq93FZ2kIy80zbVH/wBf2r5c/Zv8Sz6Z8QW0VpD9k1SFgUJ4EiDcpHvjIr1j9oPwtrXibwLbDQIJbtrO686a1hGWkXaRkKPvEE9KAO58M+N/DnjGOV/DWqw33knEiqGR09yrAHHvjFb1fM37PHgnxLY+OZdZv9Ou9OsIbZ4nNzE0XnM2MKAwBOMZz2xX0zQAVxPxh1qTQfhRrd3A5SV4RAjDqDIwTP6121eefHXTpNR+DusLEMtAI7g/RHBP6ZoA+Z/hH4Zg8WfEzTNPvVD2qMZ5kP8AGqDOPxOBX20qqihUAVVGAAOAK+NvgPq9vpHxc01rtgiXSyWwY9AzD5f1AH419lUAVzqFmCQbuAEdQZBR/aNl/wA/lv8A9/V/xr498RfCfx1d+KNVubbw1eyQzXk0kbgLhlLkg9fSuF1XSr7Q9Um07VrZ7W8gIEsL/eUkAjP4EUAfoGrBlDKQQRkEHrXwfrH/ACUi/wD+wtJ/6ONfbnhb/kT9H/68of8A0AV8R6x/yUi//wCwtJ/6ONAH3fF/qU/3RXC+P/i94c+H7C2vnkvdSZdwsrbBZR2Lk8KP19q6fXtWXQfCd/qrjIsrR5sHvtXNfE+h6fffEP4hW1pdXJN3q10TNO3OM5Zj+ABwKAPYx+1W/wBp+bwivk56DUPm+v8Aq8V6r4C+Kvhz4gxtHpcr29/Gu6SyuQFkA9Vxww9x+IFc9J+zn4DbRTaR294l1swL77Uxk3f3tv3Pw218zF9S+HfxAf7PMVvtHvCodeA+04/Jh+hoA+49Y/5Ad9/17Sf+gmviD4d3MNn8SNBuLqVIYYr2N5JHOFUA8kmvtae8XUPCEl5GMLcWJlA9A0ef618K+H9Gn8Q+IrDSLQhZr2dYVY9Fyev4daAPoXxB+1Bp9lqUlv4e0J9Rt422/ap7jyg+O6qFJx7kj6V1/wAOvjdoXj67GmyQSaVqrAlLaVw6y467HwMn2IB+tZ6fs3eCBo32V/tzXezBvftBDbvXb938MV8z6xYXvgbxzc2cU+LzSbvEcycZKnKt+IxxQB9515J43/aF8O+Fr+XTtKtpNbvYWKyeVII4UYdRvwckewI969L0HUv7Y8O6fqOMfa7aOYj0LKDXjnxF0P4PN47/ALU8Va0lvdYIvLCzLv5z9i/lgsh9ehPH4gGVaftU5ugL/wAKbYCeWhvtzKPoUAP5ivbPCXi/SPG2hJqug3BlgY7XRxteJu6sOxr5o+Iy/By58LtJ4CuGt9XhZdkax3O2Zc4IPmDAOOc5HStD9mHVZoPHGpaWGYwXVkZiueAyMAD9cMaAO1/ai/5EPSP+wkP/AEU9Y37K/wB3xF9Yf/Zq2f2ov+RD0j/sJD/0U9Y37K/3fEX1h/8AZqAPoeiiigBGUMpVhkEYIPevif4s+EX8FfEa+tIFaO0mb7VaMOMIxzgH2OR+FfbNeP8A7Rfg4a54HXW7aPN3o5LsQOWhP3h+HB/OgDo/h349g1z4SQ+IdRkAksbdlvTn+KMcn8QAfxr5ZhTUPij8UwDn7Rq97lj/AM8488/98qP0puheN7nRfAHiDw1Fu2as0RDD+HB+f8wAK9b/AGY/CGZNQ8V3cXC/6LaEjv1dh+g/OgD6AsrS20jSoLS3Cw21pCI1zwFVRj+QryTxd+0j4e0K+ks9BsZdcliba8yyiKHPfa2CW/LHvU/7Rvie60P4fw6fYu0b6rP5MjqcERgZYfjwPpmvB/hlaeAJdRuLn4k6k8FtEAILRI5j5xPUs0akgD0yM5oA9V0r9qe1kulTW/DMtvAT80trdCRl/wCAMq5/Ovb9A8QaZ4n0aHVdDu0urSYfK69j3BHUEehr5k+IsXwYvfDUs3ge/wDsmsQ4MUKQXWycZ5U+YuAcd8irP7M/iW4svGd14fdybS/gaVUJ4WVO4+q5/IUAfUM88VtbyT3MiRRRqWeR2wqgdST2FeKeJ/2mtC0u8e28O6XNrGxipuHl8iI+68MWH4Cm/tNeJ7nTfDGn6FaSNGNTkZ5ypxujTHy/Qlhn6V578D/hPp3j37bqfiB5Tp9nIIVgifYZXIyct1AAI6c80Adton7UlhcXiRa/4emsoWODcW1x5233KFVOPoSfavbINbsr7w//AGxpk8d5aNAZo5I24cAZ69un4V5TrX7NPhW91Szn0i4utNtUf/SrYOZfMT0VmyVOe5zx2r1PS/D2l6LoC6LpVolrYLGYxFHxwRySepJ9etAHx/8AFf4jw/EnWbG+g02SwFrAYijyiTdls5yAK6f4afHS18A+DY9Dm0Ka9ZJnl85LkIDuOcY2ms746+CNC8D+ItMtPDls9vDcWpkkDytJlt2OrE12nwa+EvhDxh8O4tW16wlnvGuJYy63LoMKeOAcUAfQOn3f2/TbW7CbPtEKS7c527gDjP41wfj/AONPhvwHcGxl8zUtTAybS2I/d+m9jwv05PtXQ+L9VHg34d6jf2a/8g6yIgUnPIG1M/jivjvwV4cufiH8QLXTLm6cPeytLc3B5YKMs7fX+poA9di/aqc3I8/wkogJ52ahlgPxjwf0r13wL8S/D3xBtHfRZ2S6iGZrOcBZYx646Ee4JrlNQ/Zz8DT6I9rYW91a3oTCXn2l3bdjgspO0j1wB+FfNfh7Vr/wD8QYbqKQxz6bdmKcAnDqG2up9QRmgD7f1nURpGh32omPzRaQPMYw2N21ScZ7dK8i8NftIabr/iK10ybQpLCOctvuZbsFYlVSxJG30FemeL5BN8PtZkX7r6dMw+hjNfEPhrRJ/EnibT9GtHEct7OsIc9FB6n8BmgD3/Vf2o7WHWGg0Pw3JfWivtWaW68p5fcKEOPbJz7CvbX1eCz8Pf2vq5WwhjtxPP5jZEIxkgnvjpXmmk/s4+ENLurG7N1qdxc2kqTEySpskZTnBUL0z2z+Nbfxwsr2++D+sxacrNIqpI6r1MauC36A0AcDrP7UtlBevFoXhyS7gU4We5ufKLe+wK3H4/hW/wCBf2htG8WaxBpOp6ZPpN5cvsgKv58bsegyACCfpj3r5++HXiLwt4d1W4l8ZeHP7btpkCx4IJhPOSFJAbPHUjGK93+F118IrnxY+oeEA1hq9wmyOyvcqY/Xy8kjJ7gMenGOaAPaaKKKAMzxLrS+HPC+pay8BuFsLd5zEG2lwozjPavjT4o+OoviH4uTWYLF7FVtUg8p5A5+Usc5AH96vtLVtLtdb0e70vUUMlrdxNDMgYqWVhgjI5FfH/xs8JaR4L8ex6X4ft2gtWso5ijyM53FnBOWJPYUAdL8Ofj1a+BfBFpoM2gzXj27yMZluQgbc5bptPrX0/p939v021uwmz7RCku3Odu4A4z+NeCfCH4QeDvFvw1sdX1zT5Zr2aSVXdbmRAQsjKOAcdBXpvxO11vBHwo1C60wmOWGBLW2bqULYQH8Bz+FAGN48+O/hvwXeyadbxy6vqUXEkNuwWOM+jOc4PsAcd8Vw1r+1Vm6AvfCe2Anlob7cyj6FAD+Yryr4X+Cf+Fh+OotMu7iSK2CNcXUqnLlQRkAnuSRyfevffEv7Ovg+48OTpoFtPYajHEWhn+0PIHYDgMrEjB9sUAd54L8e6D480s3mgXRdo8Ca3lG2WEnsy/1GR71c8WeIF8K+E9Q1yS3NytjEZTCH2l+RxnBx1r45+GPiS88H/EnTbiNmRHuFtbqIHh0ZtpB+h5/Cvqv4vf8kh8R/wDXmf5igDjfC37Rmk+INXe1vdIk0u2it5J5bqW5DhFQZ6BRknpWQf2nkuvEMVlpHhWS4t5pliieS82SSbjgHaEIHXpk14Z4G8LTeM/GVjoUE3kC6c+ZKBnYgGWOO/Ar6e8P/s/+EvDmuafq1nPqU1zYyCVRPMjI7AcZAQd+ePSgD1BCWRSy7WIyRnODS0UUAFfIP7QPhj+wPiZNeQptttWQXKem/o4/Pn8a+vq8k/aL8L/238Of7TgTNxpEom47xn5XH8j+FACfB/x9bt8EZL/U5efD8bwz5PJVRlPzBAr50tbPV/ih8QZ/K+e/1KSSdi3RAAWx9AAAPwqhpvii90zwvq+hW5/0bVTEZfmxjY2f16fhXvf7M/gv7Lpl34svYsS3Wbe03DpGD8zD6kY/4DQB5f8ABjxdJ4L+JVul2THaXzfY7tW42knCk/Rv5mu9/ag8TeZd6V4agf5Y1N3cAHuflQH8Nxri/jt4OPhL4iy3dmhjstUzdQFeAj5+dR9Dz+Ncpq+ral8RPG0M0y5vL5obaNB82MBUH+P4mgD6F/Zq8Mf2Z4JudcnjxPqk2IyRg+UnA/Ntx/Ku78dfEnw/8PrNJNbnZ7mUZhs4AGlk98EgAe5Ira0XTLfw34Ys9OtxtgsLZYxjuFXk/wBa+JvEer33j74hT3Usm+fUbsRQAnhFLbUUewGKAPY5v2qmFyfs/hIGAHjzL/DMPwjwP1r0TwB8avDfju4WwTzNM1Rh8tpckYk/3HHDfTg+1Zmmfs5+B7bRUttRt7q8vSmJLw3LowbuVVSFA9Mg/jXzh428N3Pw7+IN1pltdSF7KVZbW4HDFThkb6j+YoA+568OvP2lrO08QT6UfDM7PDdNbeZ9sABIfbnGyvUvAuvP4m8CaPrE4xNd2qvKB/f6N+oNfEvigM3jXWFQEsdQnAA9fMagD6O8aftIaZ4f1qTTdC0o6u8DbJp2uPLjDDqq4UlsdM8fjXpngfxLL4w8H2Ouz6edPN4pdYDL5mFzgHOB1xnpXlmg/sz+HZPD8D69qGpSajNEHla3lREjYjOFBU5x6k816T4qvE8D/C3UJ9MXYNM08pbj0IXav64oA5P4g/HvQ/BWpPpdhavrOoxHEyRyiOOE/wB1nwfm9gD7kVheFP2mdM1bVorLxFo7aUkzBFuo7jzUUnpuG0ED35rwXwT4an8eeO7LSHuGRryVnnnPLBQCzNz1PH5mvo7Uv2bvBc+ivb6aLy1vQn7u6NwXJbHG5Txj1wBQB81yOsnxEZ42DK2qkqwOQR5vWvvFfuj6V8C2VpJYeL7eznx5tvfLE+Om5ZMH+VffS/dH0oAWiiigD4i+L3/JXvEf/X4f5CvrzwD/AMk70D/sHw/+gCvkP4vf8le8R/8AX4f5Cu+0f9pW60Xw3YaVbeGYXNnbpAJZLwnftAGdoQY6dM0Adh+1DHbHwTpMkmPtIv8AER74KNu/DgfpXKfstGT/AISjXQufLNmhb0zv4/rXnXi3xt4n+Kev2wvIzPKCUtLGyiO1c9cLyST3Jr6T+CXw4n8BeGJZdVCjVdRZXnQHPlKPupnueST7mgDufEPiPSvCujy6prt4lpaRdWbkseyqBySfQV4lq37U9rHdMmieGpbiAHiW6uhGzf8AAFVsfnXGftGeJ7nVviK2jeafselRqqxA8eYyhmY++CBVn4fwfBSw8N28vjTUTe6xMu6aN4LrZBn+AbFwcevPPSgD0Xwf+0h4f1/UI7HXbCXRJpW2xytKJYc9tzYUr+WPevZAQygqQQRkEd6+JfiZa+BYtagn+G9+89lMh863eOYeQwPGDIoJBHucYr6M+AHiafxF8MYYryQy3Gmym0LsckqACmfwIH4UAV/iD8dLbwD4sk0OfQpb1kiSXzkuQgO4dMFTVLWv2jdE0rw9p93Dpkt1qV9D5xsVnAWBSSBvkx1OM4CmvKP2jf8Akr0//XnD/I12Xwk+BWg694Ot9e8Vie5kvgXgt45TGkaZwCSOSTj1xQBo+Hf2oNNvdSS38RaHJpsDtgXUE/nBPdl2g49xn6V7nbXMF7axXNpKk0EyB45EOVZTyCDXyR8bfhbZfD7UbK60SWVtOv8Acoimbc0LrjgHuCD35r1T9mfxBcal4HvdKuXZxplwBCWOcI4zj8CD+dAGn8RPjjbfD7xV/Ys+hy3zeQk3mpchBhs8YKn0qjrP7RWj6X4V03UI9MkuNS1CMyrp4nAEKbioLvt4zjgAV5Z+0l/yVn/twh/m1bXwj+Bul+MvCia/4lu7xY53ZLa3tnVMKpwWYkHvnAGKAPWfhR8ULj4lW1/NLon9nJZMqeYtx5iyMcnAG0YwPr1rd8a/EDQPAWmrda9ckPJnybaIbpZj/sr6e5wKk8E+CdL8A6C2laM0zwNM0zPOwZyT6kAdAAOlfHvxG8SXPi74i6le3s22IXDQQ7slYolbaOB+Z+poA9cuf2qsXRFn4T3QA8GW+wzD6BCB+td58P8A45eHfHN6mmyRSaVqkg+S3nYMkp9EcYyfYgH0rznRov2e7DRo7XUL86hdGMCa5lgvVZmxyQFUBfwryHxSui6V4ymk8D6nJd6bG6y2lwUdHjPXHzAHIPfFAH3hXkvj79oDRfB2ry6Tp1hJrF9A22fbKIooz3XdgkkegH413XgXXn8T+AtI1eXAmurVWkx2fGG/UGvjPU1GhfEq7/4SPTjeLbai7XVo7lPOG8kjcOeRzmgD2zSf2prWW8SPW/DUltbsfmmtroSMo/3Cq5/OvdNJ1W01zSLbU9NkMtpdRiSJypXcp9jyK+dtP174F+J9SsnvtEm8PzwyK2GTbBLj+FthIK+5C/WvpC1kt5rSKSyeN7dkBiaIgoVxxgjjGKAMXxf420PwPpH9oeILvyUY4iiQbpJm9FXv9eg7mvGL39qlFuiNO8Ks8APDT3u1mH0CED8zXmHxj8T3Pib4m6o80pa3sZWtLdM8IqHB49Sck13vhmH4BaboEEOuaj/aWoNGPtE8kF4vzEchQqgAD8/egD0TwH8fPD3jLUItMvbeTRtRmOIo5nDxSN/dV8Dn2IFeqV8KeOYPDNj4skbwFqMl3pTKskTMkiNC3dcuATjGQffrX178LfEcvir4a6Rql0++5aLypm/vOhKk/jjNAHDeLP2ibTwr4s1DQ5fDs1y9jMYjKt2FD8dcbeOtP8X/ALRWkeHTBbabpj6nfvCkk8YnCRwFlB2F8EswzyAPxrwb4vf8le8R/wDX4f5CvZ/BP7O3hq88H2V74ilvJ7+8gWZvJm2LFuGQFGOcZ6nNAGl4F/aK0jxPrEOla3pzaPcXDBIZfO82J2PQE4BUnt1HvXqHiXWl8OeF9S1l4DcLYW7zmINtLhRnGe1fEfjfw7/whvjrU9EhuHlWxnAjmPDFSAyk474Ir7M0iCLxd8NLKDWVaWLU9NRblQxBYMg3cjkZoA+QfiX41j8f+Mn1yGyeyV4Ei8l5A5G0dc4FemfD74/Wvh7w1o3hptAmnkhCweeLoKGLN1xtPrXBfGXwtpXg74hy6VoMDQWi20UgRpGc7mBzyTmvY/hh8HfButeA9D13UNPmfUJYxM0i3MigsGODgHHYUAe35+XJ4GM15B4z/aL8O+G9QlsNFs5NcuYW2yPHKIoVPcB8EsfoMe9ewAYGK8G8daH8GE8fSan4l1pI52BF1p1mXdXl/vP5QJU+oyOf1AKVj+1SrXQGpeFWSAnl7e93Mo/3SgB/MV7f4Y8UaV4w0KHVtCuPPtpeDkYZGHVWHYivl74mL8Irjw8k/wAPrh4NVikUGBY7gLKnQ58wYBHXqM+9dF+y3qc6a/rWl7ybeS3WfZ2Dq23P5H9KAOo+PHxPh0a11DwU+lySyahYKy3YmAVNzEfdxz931714R8N/GUfgPxnDrk1m16sUTx+SkgQncMZzg19H/G3wF4f1TwprHim8tZH1azsdsMomYBQrcfKDg/eNfP8A8HvDGl+L/iLb6TrsDT2ckMjsiyFDkLkcg5oA+nPhj8TYfiVZ39xBpj6eLORUIeYSb8gnsBjpWZ8S/jLb/DnXLbTbjRZNQ+0QecHS4CY+YjGCp9K6rwh4D0DwLb3MPhu1kt47pg8oeZpMkDA+8Tivn/8Aag/5HrS/+vD/ANnagD3v4e+NY/H3hNNchsmskeZ4hE0m8/KeucCtPxH4l0nwno0uqa9dpa2sfGTyXPZVA5JPoK8//Zz/AOSQwf8AX5P/ADFeOftD+KLjWfiRNpPmMLPSVWJI+29lDM315A/CgDt9V/anto7pk0XwzJPADxLdXQjZv+AqrY/Ot3wh+0h4d1++jstespNDmlbakryiWEntl8Ar+Ix71kfC74DeGtQ8F2WseK4Jr661CITLCJniSFDyo+Ugk465P4V5z8bPhlafD7W7OXRXlOmagrFI5W3GF1xlc9xggjPPWgD7AVg6hkIZWGQQcgivKfiD8dLbwD4sk0OfQpb1kiSXzkuQgO4dMFTSfs7+J7nX/h01nfSNLLpU/wBnV2OSYyAVH4cj8K8c/aN/5K9P/wBecP8AI0Aes61+0Vouk+G9OvY9NludSv4fP+wLOAIFJIG+THBOM4Cms3wx+05pepapHaeI9GfSopWCrdRT+ciE/wB4bQQPcZ+lY3wn+BOg+I/Bdtr3iaW6mkvctFBDL5axoCQCTjJJx9K8x+LHgi28A+O5dIsJ5JrR4UuITKQXVWyNpI64KnmgD7ZR1kjV42DIwBVgcgj1p1cN8GdQn1L4R6FNdMXkSExbmOSQjFR+gFdzQAUUUUAFFFFABRRRQAUUUUAFFFFABRRRQAUUUUAFFFFABUVzALm3eI8bhwfQ9jUtFAHPxMRwwwwOGHoe9XI2qPUIvJvtw+7KM/iOD/SiJqALqGpVNV0NTqaAJRS00U6gBaKKKACiiigDHlqG3/5CVv8A75/9BNTS1Db/APISt/8AfP8A6CaAN6iiigAooooAKKKKACiiigAooooAKKKKACiiigArxT9oL4aXHiXT4vEmhwNNqFjGUuIY1y00PXI7krzx6E17XRQB8VfDT4qar8N9QlEEQvNNuGBuLN225I43Kf4W/Q171ZftJ+Brm2D3I1Kzk7xyWwbH4qSK0/GnwN8JeMbiS98mTStQkOXuLLAEh9WQjB+owT6151N+yrcCQ+R4siZO2+wIP6OaAKPxg+Nnh/xt4QfQdCtL4s06SG4uEVFwpzwAST+OKn/ZX/5DniL/AK9of/Qmrb0b9lrS4Jg+veIbq8UEHyrWBYB9CxLZ/SvYPDXhLQ/CGnfYvDunRWURwXKjLyH1Zjyx+poA8d/an/5AXh//AK+Zf/QRUn7LP/Ir69/1+R/+gV3PxT+GP/CzLHT7b+1/7M+xyNJu+zedvyAMY3rjpT/hZ8NP+FaaXf2f9rf2n9smWXf9m8nZhcYxubNAHk/7T/hq4TWNM8SRRs1tJD9kmcfwMpLLn0yCfyo+B/xi0Hwx4XPh3xTO9kkMrSW1yImkQhjkqQoJBznnGOa+iNU0qx1vTJ9O1W2jurS4XZJFIMhh/nvXh2u/suWFxeNL4e8QS2UDHP2e6g87b9HDA4+oP1oA5z46fF3RfGGk22g+F5ZLq2WYT3F00bRqxAICqGAPfJOPSt39l/w3cwQat4iuEZILgLbW+R9/ByxHtnA/OrXh79l7TLO9SfxHrkuoxKc/ZreHyVb2ZtxJH0x9a9wsbG10ywhstPt47a2gQJFFGuFQDsBQBJcQR3VtJBOgeKVCjqejAjBFfDvjbwZdeGfiJd+HIY2cm4AtBj/WI5+TH54+oNfc1cprfgDTdc8eaJ4ouMC40pXGzb/rc/cz/ukk/jQBc8D+GYfB/gvTtFgAzbxDzWA+/IeWP5k1xP7Q3hq41/4am5so2kl0ucXJRepTBVuPYHP4V6rSMoZSrAEEYII60AfD3w9uPBUesyQ/EKynmsZlAjuIJHBgYdyqHJB9skV6fqNt+zzYWTTxSXN6+MrBbSXJd/b5sAfiRXYeMf2cPD3iC+kvtCvZNDnlbc8SxCWEnuQmQVz7HHtXKwfsq3BmH2jxZGI88+XYkk/m9AHa/DLwP8NdQSw8XeDbSZJ4GO0SXTs0DlSCrKWIzgn+ddD8VfiIvw48Lpfx2q3d5cy+TbROxC5xks2OcAdu9W/AXw50T4eabLb6KJpJZ8G4uJ3y0hHTgcAfQfnR8RPAFh8RPDY0u+me1kikEtvcou4xPjHTuCDgjigDhvhD8b7zx3r0mh6/YW1teGJpYJrQMEcL1UqxJBxznNey15b8MPglZfDzVptWuNTbU79ozFEwh8pIlPXA3HJOOua9SoAKhvLSG/sZ7O7QSQTxtHIh6MpGCKmooA+IfiJ4D1P4c+K3t5BJ9kaQyWF4vAdQcjnsw4z+deq+B/2l4rfTorLxxZXEs0ahRf2aqxkHq6EjB9SDz6V7zrmgaX4k0uTTtdsYb21k6xyrnB9QeoPuOa8Z139l3SLqdpfD2u3OnqTnybmETqPYEFSB9c0Abtz+0j4DghLxNqVy3aOO1wT/AN9ED9a+avH3iWHxf471PXbWCS3hvJFZI5CCygIq844/hzXsEX7KtyZB5/iyJU7lLAk/q4rvPCn7Pvg7w3cJdXkc2tXSEFTekeWp9RGBg/8AAs0Ad74W/wCRP0f/AK8of/QBXxHrH/JSL/8A7C0n/o4194KoVQqgBQMAAdK8IvP2ZvtfiSfVv+Et2eddtc+V/ZucZfdtz5v4ZxQB7F4g0ka94Q1DSScfbbN4QfdlwK+KPD2p3nw++IdpfXdqwudJuiJoG4JxlWH5E192Ku1FXrgYrgPiD8HPDvxAk+2XPmafqgXaLy3Ay47B1PDfofegCjL+0J8P00c3kepTyT7MiyFrIJC2Pu5K7fx3Yr5enOofEH4gStbQlr3WL0ssa87dx/kB/KvYh+yrcedhvFsXlZ+8LA7sfTzP616p8P8A4S+Hvh6rT2CyXmouu1724wWx3CgcKP19SaAOklsxp3g6SyQ5W3sDED67Y8f0r4W8O6zN4d8Safq9uoaSynWYKf4sHkfiK++Ly3+12M9vu2edG0e7GcZGM4rw3Qv2Y4dJ12zv7vxMt9BBIGktn03aJV7qT5pxkd8UAdIn7RXgJtHF293drdbNxsvsrmTd/d3Y2fjur5h1q/vPHXjy6vLe3JutWvMxQrzgscKv5Y5r3LW/2W7afUpJdB8RNaWrnK29zbeYY/YOGGR9R+JrtPhx8EdE8A3Y1KWd9V1UAhLiRAiRZ67EycH3JJ+lAG9raXXhT4P3kenE/a9N0hliZRk70jxkfiK+P/BMGg6j42s08a3kkGlyuxuJtxyTgkbmGSAT1Nfdc0Uc8LwzIHjkUq6sMhgeCK8G8QfsvWV3qclx4e15rC3kYsLae383y89gwYcexH40Acj8TNK+EGj+FpF8HTLeazKyiH7PeSSrGM/MWOSvTPHWq/7NH/JVZv8AsGy/+hx16Fpn7NGl2Xhy/tbnWDcapdoI47xrXKWw3AnbHu5JxjJb8K1/hp8Dv+Fd+Kn1r/hIf7R3Wz2/k/YvKxuKnO7zG/u9Md6AMr9qL/kQ9I/7CQ/9FPWN+yv93xF9Yf8A2avUPij8Of8AhZWg2mm/2p/Zv2a5+0eZ9n87d8rLjG5cfe65qn8K/hT/AMKzGoj+2f7T+3bP+XXydm3P+22evtQB6HRRRQAVFdW0V7ZzWtygkhmQxyKejKRgipaKAPhbxb4LvPD/AMRLrwxFG0kv2kR2vB/eI5+Q/kR+tfZ3g7w5B4S8H6dolt0tYQrt/fc8s34kms/V/AGm6v8AEPSPFk+Bc6bE6bNv+sJ+4Sf9nLfnXV0AeP8A7SHhu51n4fwajZo0jaVP5sqqM/u2GGP4HB+ma8C+HNx4EXUp7f4i2dw9tIAYbqCSQeSR1DKhyQfYE19tuiSxtHIqujAhlYZBHoRXjPi39mvQNavZLzw9qEuiSSHc0HlCaHP+yuQV/Mj0FAHJarB+z3ptk00ButQlxlYLWW4LN7ZbCj8SK9G+Gfgf4dull4u8E28ok2sqs9y7mIkYZGUkgEZrgrf9lWbzl+1+K0EWfmEVidx/N+K9l8DfD/Rfh9pL2OhrMxmIaeeZ9zysBjJ7D6ACgDzX9pvw1cah4Z03XbWNpBpsjJPjnaj4+b6ZUfnXA/Av4q6X4F+3aV4i8yKxvJBMlzGhfy3AwdyjnBAHQHpX1XcW8N3bSW91Ek0MqlJI5FyrKeoIPUV4j4n/AGY9H1G+e58N6vLpKu2420sPnRr7KcggfXNAGvqn7R/gqz1Kzg09rrUYJXxcXMcLRrAvrhwCxz2A6d+1epafqNpq2nw32m3EdzazoHiljbKsDXg+j/ss20V4kmu+JHubdTloLW28st7byxx+Ve56No2n+H9Jg0zR7WO1tIF2xxIOB7n1PuaAPnP9qWGRfFGhzFT5b2jqG9w/I/UVrfBT4peEvCvw4j0vXNT+zXqXbnyfJdtwcjBBAxj1yeK9Z+IXw+0z4iaANP1J3gmhbfb3UYBaJvoeoPcV41F+yte/a8T+KYBb5+8lmS5H0LYH5mgD2/xxoreKvh/q2l2jAyXlowhYHgtjK/hkCvjrwJ4lm+H3xBtNUuraQ/ZJGiuoOjbTlWH1H9K+1fD+jr4f8PWWkx3U92lnCIlmuGBdgOmSAK4f4g/BHw747un1BXk0rVGHzXNuoZZfQuh6n3BB96AK+o/tC+ArbRXu7LUZry62Ex2a2siuW9CWUKPrn6Zr5i0TS77x78QIrWGIvcaneGSXb0QM252J9ACa9hj/AGVZ/PHneLI/KzyVsDuI+nmV654C+GHh/wCHtq40mJ57yUYmvbggyOPQY4VfYfjmgDT8XRiH4fazEvRNOmUfhGa+Rfgz/wAli8O/9fJ/9AavsvWtO/tjQr7TfN8n7XbvD5m3ds3KRnGRnr615B4M/Z2/4RHxjp2vf8JR9s+wyGTyP7P8vf8AKRjd5px19DQB7ZWN4q8UaR4R0GbU9fuFitlGAh5aU/3FXuT6Vs1j+J/Cuj+MNFk0vX7Rbm3blT0aNv7yt1BoA8A+w/BL4gRtffbpvCOovlpbcyCNA3rhgUI9lI+grx7XbWz0HxRPD4d1j+0re1lDW9/Ehj3EYOQPY9/avc9S/ZXja6ZtI8UNHAT8sdzabmX/AIErAH8hWv4Q/Zq0rRNXh1DxBqzav5DB0tkg8qMsOm7LEsPbigD2DRJp7jw/p815n7RJbRtLkYO4qCf1q9QAAMAYAooAK+Tf2l/+Sqw/9g2L/wBDkr6yryb4l/A7/hYnipNa/wCEh/s7bbJb+T9i83O0sc7vMX+90x2oAu/s+f8AJGdL/wCu1x/6Natj4t+G5/FXwx1bTrNS9yEE8KDqzIQ2PxwRV74feD/+EE8GWugfbvt/2d5G8/yfK3bnLfd3NjGcda6agD4l+FXjZPh948i1K+ike0eNre6RPvKpI5A7kEDj619A+JP2hPBVp4duJdD1CTUb94iILdbeRMMRgFiygAA/jUvjz4B+HvGN9LqVjPJo2oynMkkMYeKQ+rR5HPuCPxriLb9laX7Qv2zxWnkg8iKxO4j8XwP1oA8p+Gnh688XfEnTLaJWcC5W5uZAPuIrbmJ/l9TX1d8Xv+SQ+I/+vM/zFW/BHw90HwBprWuhW7eZJjz7qYhpZiPU4HHsMCr/AIv8P/8ACVeENS0P7T9k+3QmLz/L37Oeu3Iz09RQB8s/s8f8lgs/+vab/wBBr6/rx/4d/Ab/AIQLxhDrv/CR/b/KjePyPsPlZ3DGd3mN/KvYKACiiigAqtqNjDqmmXNhdKHhuYmikU9wwwas0UAfC8PgbULj4lnwdGrfahem2LEdFB5c+23mvtvRtKttD0Wz0uwQJb2kKxRqPQDFYVr4C062+Jl54yGDdXNqkATb9xh958+pAUfgfWuqoA87+N3g3/hL/h1cm3j33+nZurbA5bA+ZfxXP4gV4f8As5+GP7a+Ih1SdN1vpERlBI481vlX/wBmP4V9aEAggjIPUGuX8FeBdP8ABC6qum8jUb1rk8Y2KeifQc/nQB0ssYmheNvuupU/jXwprul33gP4gTWs0RS40y8EsOejKrbkYexGK+7q4/x78MfD/wAQrVBrETw3cIxDeW5CyIPQ54Yex/DFAHPab+0L4DutFS7vtRls7rYDJZtayM4bHQFVKn65+uK+avHniaX4g/EK71S0tpB9rkWK1g6vtGFUcdz/AFr1mX9lWfzz5PiyPys8F7A7gP8AvuvQ/h/8EPDvgW6TUHeTVdUQfJc3ChViPqiDOD7kk0AdV4D0KTw14C0fSLg5mtbVVl/3zy36k18Xax/yUi//AOwtJ/6ONfeNeD3n7M32vxJPq3/CW7POu2ufK/s3OMvu25838M4oA92i/wBSn+6KwfHmiSeI/AOs6Tb/AOuurR1i/wB/GV/UCt9V2oq9cDFLQB8KeBvE0vgTx5ZavLbu/wBjlZJ4OjFSCrDnoefzFfSmpftF+BrfRXudPurm7vNmY7QWzo27HAZiAoGeuCfxpPiF8A9F8aalJqum3baPqMpzMyxeZFMfUrkYb3B/A1z/AIa/ZisNP1aK68R60dSgiYMLSG38pZCOzMWJx7AD60AfPlldyah4wt7yfHmXF+sr46ZaTJ/nX30v3R9K8Hb9mRf+EhOpp4rVF+1faBAumYCjfu2g+b+HSveQMACgAooooA+Ivi9/yV7xH/1+H+Qr2vRPgF4R1v4eWd5HHcxane6ekizm4YqkrKDu29MZ7VJ4v/Zz/wCEr8X6lrn/AAlP2T7dMZfI/s/fs4Axu80Z6egr17QNK/sPw7p+led5/wBjt0g83Zt37RjOMnH0zQB8SaXqGtfDPx+swQwajpk5SaEnhx0ZT6gj+YNfa3hjxFY+K/DdnrOlyb7e6TcBnlG7qfcHiuD+JvwRsfiHrEGqQan/AGTeKnlzuLbzhOB93I3Lgjpn0q/8L/hlf/DZLu2PiT+1LC5IcWzWXleXJ/eB8xuo6jHpQB4Z+0V4auNJ+JD6t5bfZNVjV1k7b1UKy/XAB/GneAf+FNajoEMXjOC40/Vohtlkaacxz/7S7Mge4OPavp7xH4a0nxZo0ul69aJdWsnODwUPZlI5B9xXiWq/ssW8l0z6J4mkhgJ+WK6tRIy/8DVhn8qAMiaP9n9NatNPt4r24W4k2PdLNOsMPoWLEHGccgEV7v4O8F6B4K06a38MQNDbXTiZszNJuOMAgkntivJNE/Zbsbe8WXxB4hlvIFOTBa2/k7vYuWbj6AH3r3TTtPtdJ023sNPi8m1toxHFGCTtUdBk80AfJv7Rv/JXp/8Arzh/ka7f4RfHHw7ovgq20LxXPLZTWAKRTrA0iSJkkD5QSCM46YriP2jf+SvT/wDXnD/I12Gh/AvSvHnwx8P6tZ3raTqbWuJZFiEkc2GOCy5B3dsg/gaAOR+OPxQ0/wAfahY2egrI2nWG5vPlTaZXbHIB5AAHfnmvUf2Z/D9xpvge91W6QoNTuAYQRjMaDG78ST+VZvh39l+ws9SS48R64+o26EH7LbweUH9mYsTj2GPrXutrbQWVpFbWkSQwQoEjjQYVVHAAFAHyd+0l/wAlZ/7cIf5tXvPwS/5I7oP/AFyf/wBDasH4k/Av/hYXiz+2/wDhIv7O/wBHSHyfsPm/dzzu8xfX0rvfBHhj/hDfB1hoP2v7Z9jUr5/leXvyxP3cnHX1oA3jzXwz8RPDtx4U+ImqWF7ESn2lpot2QJYmbcpz9Dj8DX3NXL+N/h5oHj/T1ttdt282LPk3UJCyxZ9Dg5HsQRQB4boMXwB1TSop9RW40y72Dzreea4O1u+GXII/GregaT8CfEnixdC0y0vd8i/ubma4mjjmb+4u5g2fqBmpbr9laT7QxsfFa+ST8omsfmA9CQ/P14roPCP7Nei6JqMV9r+qTavJCweOGOPyIww5GcMWPPuKAPVtE0bTPCfh6HTdOH2bT7NDt8yQnYuSSSx+p614p4p8X/B34geJ7ix8QrLbSwYjh1uEFBKe43KDkDsXBH07++SwxzQPDNGskTqVZHGQwPBBHcV4r4q/Zn0PVb6S78OanJo3mEs1s0XnRA/7PIKj8TQB4r8R/Cvg/wAOS2zeDfFS62sxPmQYDtCOxMi4U59MA17v+zVe3t18NJ4rxnaC2vnjtixzhNqkge24muXsf2ViLpTqXindAD8y29nhmHsS5A/I17p4c8O6b4U0G30fRYPItLdcKM5LHuzHuSeSaAPjz4w+Grjw18TtVjmjZYLyZru3c9HVzk8+xJFdt4WT4E6rokEmuRXGl6iqATwyz3BUt3KsuQQfz9q+gPGPgfQ/HWk/YPEFr5gU5imjO2SE+qt/Q5B9K8Yvv2Vs3LHTfFW2An5VuLPLKPchwD+QoAqabYfAXVvFdvodhb3rG4+VLyS4mjhL9kyzA5PqRj86988M+GNL8IaHHpOhQtDZxuzqjSFyCxyeTz1ryTwx+zHo+m30d14j1ibVVjYMLeGLyEJ/2juLEfTFe4RxrFGscY2qgCqPQCgD4k+L3/JXvEf/AF+H+Qr7I8Lf8ifo/wD15Q/+gCvJvF/7Of8Awlfi/Utc/wCEp+yfbpjL5H9n79nAGN3mjPT0Fex6VY/2Zo9nY+Z5v2aBId+3G7aoGcdulAHxt8bf+SzeIf8ArtH/AOikr6z8A/8AJO9A/wCwfD/6AK828b/s8/8ACY+M9Q1//hJ/sf211byP7P8AM2YQL97zBn7uegr1rQNK/sPw7p+led5/2O3SDzdm3ftGM4ycfTNAHyx+0jBJH8WWkdCElsoSjY4OMg/qK9P+E/xW8H6f4B8P6Dear5Wpgi1MDRPw5Y4JbG3HI5zXXfEz4WaZ8SLCEXE7WOoWuRBdom/APVWXIyPxFeWWH7LNyt8rah4ojWBWB/0e1O9h7EthT780Aey/ErULvSvhnr97pztHcw2bmN16p2yPoCTXx/8AD+18Naj41tovHN29vpbhjJJuK7nxwGYcgE9/1r7dXTYTow0y6LXcHkeRIZyC0q7cHdjGSR1rwrW/2W7WfUJJdB8RNaWztlbe5tvMMfsHDDI+o/GgDj/ilpnwl0jw55XgiYXesSyLtaC6kmSNM/MSSSvPTHWrv7L/APyPWqf9eH/s612dp+zPpdv4UvLB9YMmq3RTGoPa7lgVWDFUj3jk4wSWrf8Ahf8ABj/hW2u3Wpf29/aX2i38ny/sfk7fmBzne2enpQB0XxXgkufhN4jjhQu/2JyFAyTjk/oK+Wvg14k0vwr8S7PUtduPs1mIpI2l2FgpZcDIAJxX2jNDHcQPDOiyRyKVdGGQwPBBrwDxD+y9Hc6pLceHNdW1tZGLLbXMBbyvYMDyPqPxNAHs3hbxlofjSynu/Dl6LuCCYwu2wqQ2M9CAcc+lfPH7UH/I9aX/ANeH/s7V638KvhIPhq13O2tzX814oV41jEcIwcg7ckk++R9KrfFD4Mf8LJ1211L+3v7N+z2/k+X9j87d8xOc71x19KAI/wBnP/kkMH/X5P8AzFeM/tC+GbjRviZPqZjb7JqyrNHJ23hQrL9eAfxr6R+HPgn/AIV/4Qj0P+0P7Q2TPL5/k+Vncc427m/nWn4m8LaR4v0WTS9ftFubZ+Rzho27MrdQaAPIfhb8dPC9n4IsdJ8VXsmnXmnxCAO0LyLMij5SCgODjqDjn1rzf44/Euw8fa3ZQaF5jabp6ttmkQr5ztjLBTyAAABnnrxXcal+yvG12zaR4naO3J+WO5tN7KP95WAP5Ctzwj+zXoOi30d74i1CTW5IzuW38oRQ5/2hklvzA9RQBe/Zz8NXOh/DuS9vUaN9Vn89EYYIjA2qfx5P4ivH/wBo3/kr0/8A15w/yNfXSIscapGoVFGFVRgAeleR/Ef4E/8ACwPF765/wkf9n74Ui8j7D5uNo67vMX+VAHTfBr/kj/h7/r2/9mNeCftL/wDJVYf+wbF/6HJX0t4N8Of8Ij4P0/QvtX2v7FH5fn+X5e/knO3Jx19TXBfEv4Hf8LE8VJrX/CQ/2dttkt/J+xebnaWOd3mL/e6Y7UAa3wK/5I5o30k/9GNXodc94E8K/wDCFeDbLQftn237Lu/f+V5e7LE/dycdfWuhoAKKKKACiiigAooooAKKKKACiiigAooooAKKKKACiiigAooooAparHvs946xMG/Dof0NUIjW1IgliZG6MCDWDASFAb7w4P1oAvxmrCGqsZqyhoAmFPFRrTxQA4UUCigAooooAx5aht/+Qlb/AO+f/QTU0tQ2/wDyErf/AHz/AOgmgDeooooAKKKKACiiigAooooAKKKKACiiigAooooAKKKKACiiigAooooAKKKKACiiigAooooAKKKKACiiigAooooAKKKKACiiigAooooAKKKKACiiigAooooAKKKKACiiigAooooAKKKKACiiigAooooAKKKKACiiigAooooAKKKKACiiigAooooAKKKKACiiigAooooAKKKKACiiigAooooAKKKKACiiigAooooAKKKKACiiigAooooAKKKKACiiigAooooAKKKKACiiigAooooAKKKKACiiigAooooAKKKKACiiigAooooAKKKKACiiigAooooAKKKKACiiigD5L/aIs7mf4tzvBbyyL9jhG5EJHQ+le/fB1Gj+EXh9JFKstuQVYYI+Y121FABRRRQAUUUUAFFFFABRRRQAUUUUAFFFFABRRRQAUUUUAFFFFABRRRQAUUUUAFFFFABRRRQAUUUUAFFFFABRRRQAUUUUAFFFFABRRRQAUUUUAFFFFABRRRQAUUUUAFFFFABRRRQAUUUUAFFFFABRRRQAUUUUAFYUq+XfToOzk/nz/Wt2sa+G3Un/ANpVb+n9KAJIjVlDVSKrSUAWFp4qNakFACilpKWgAooooAx5aht/+Qlb/wC+f/QTU0tQ2/8AyErf/fP/AKCaAN6iiigAooooAKKKKACiiigAooooAKKKKACiiigAooooAKKKKACiiigAooooAKKKKACiiigAooooAKKKKACiiigAooooAKKKKACiiigAooooAKKKKACiis7SNV/tUXv7nyvsl5Ja/f3b9uPm6DGc9KANGiisvxFqkukaQbi2RHnkmigi8zO0NI4QE45IG7OO+KANSiubvL7W7e407TZrizW5vrl1F1BC2BEsZbIRmOGyMdSMc+1b1mlzHaIt9NHNOB88kcZRW/4Dk4496AJqKKKACiiigAoqlrGof2Tol7qHled9lgeby923dtBOM4OOlZy6rr62qXUuh20sJQOUtL8yS4IzwrxICfbdQBvUVW07ULbVdPhvbJ98MwypIII7EEHoQcgj2qzQAUUUUAFFFFABRVawv4NSs1urQyGJiQPMiaM8HB+VgD1FWaACiiigAoqvbX8F3cXUELEyWkgjlBGMMVDfjwwqxQAUUUUAFFFFABRRTJX8qF5MZ2qWx64pN2VxrV2H0Vzem69r2paPbanDodm0FxEsyxpqJMu0jOMNEFz9WA961LHW7S/0mTUIvNWOHeJo2jPmRMv3kZRk7h6DOe2c03puJa7GhRUVrcx3lpFcwbjFMgdCyFTgjIyDgj8aloAKKytP1Se78RavYSKgisjD5ZUHcd6EnPPrWrQAUUUUAFFFFABRWb4e1GbVtCgvLlUWSRnBCAgcOyjr7Cl1nVhpNvCUga4ubmYQW8Abb5jnJ5PYAAkn0HfpQBo0VkRajq0N9BDqekxrFOdonsrhpxG2M/OCilQcfeGRnritegAooooAKKr6hcNa6ZdXEYBeGF3UN0yATUWjXkmoaFY3k4USXFvHK4QYALKCce3NHf8Ar+tgLtFFFABRRRQAUUUUAFFRXd1BY2kt1eSrDBCpeSRzgKB3rIg1fWNRQT6bo0cdqwzG9/dGF5B6hFRyB/vEH2oA3KKx7TW7galHp+s2BsriYHyJI5PNhmwMkK+AQ2MnDKOhxmn6Rqk9/qWsW8yxhLG7EMRUEEqY0bnnrljQBq0UUUAFFVra/gu57mGAyF7aTy5N0TKA2M8EgBuD1Gas0AFFV0v4H1KWwVj9oiiWV1xwFYsBz9VNWKACiiigAoorK0TU59Sm1RZ1RRaXz28ewEZUKpBPPXk0dbAatFFFABRRRQAUVR1zU/7G0G91LyvO+ywtL5e7bvwM4zg4/KqS6h4hESzPollIhAbbb6kzSEewaJVz9WFAG3RVDStZttXjl8gSRTwNsntp02yQtjOGH06EZB7E1foAKKxdb8TW2g6npltfIRFfu6efniIjGC3sScZ7VtUAFFYuqeJrXTde03SNpmur+TG1TxEuCdzfUrgDvz6VtUbq4dbBRRRQAUUUUAFFVp7+C2vLa1lMnm3RYRbYmYHaMnLAYXj1IqzQAUUUUAFFFFABRRRQAUUUUAFFFFABRRRQAUUUUAFFFFABRRRQAUUUUAFFFFABRRRQAUUUUAFFFFABRRRQAUUUUAFFFFABRRRQAUUUUAFFFFABRRRQAUUUUAFFFFABRRRQAUUUUAFFFFABRRRQAUUUUAFFFFABWPqX/IS/7ZL/ADatisfU/wDkJD/rkv8ANqACKrSVUiq3HQBOtSiolqQUAOpaSloAKKKKAMeWobf/AJCVv/vn/wBBNTS1Db/8hK3/AN8/+gmgDeooooAKKKKACiiigAooooAKKKKACiiigAooooAKKKKACiiigAooooAKKKKACiiigAooooAKKKKACiiigAooooAKKKKACiiigAooooAKKKKACiiigArlvD17Bp2neIr27fZBb6pcySNjOAME1ozeIBZ3txb6hp19GIzmGWC1kuEnXHUGNTtOcjacfjWRbaBd6n4L1i1uENnPq089xHHL1i3H5A2O/wAoJ9M4pd2u36ofZPv+jNNL3xDLZi9j0+zVSN62UkzCUr6F8bQ3tgjPGe9ZHivUZNV8J6bfaWsZt57y1YiYlWVvOTC4APQ5B9MUsR0lLUC90fWIr1Vw9tHHcyDd6LIuUI9Dux64qxrWmGPwjY22nafJDtvbWVrZMyNH+/V3yRnOOST061XVeq/Mno/R/kVtZbW/+Eq8O+ZFYCTzZ/LCyvg/ujnPy+lauqa3qNnrGmaXaWUM9zfRSOztKVSIptyTxkj5j79BxnIXWbeaXxV4elihkeOGWcyOqkqgMRAye2TxRf28z+OtHuEhkaGO0uVeQKSqkmPAJ6AnB/Kkt/67DJbvVbvTLKBLuGG51G6m8m3hgYqsh5OSTnaAoJJ5xjjPAqK51XVNHWO51eG0ksmdUmktmYNb7jgMQ33lyRk8EdcGo/Fekvetp19FbvdfYJy8lvG5R5I2Uq20gj5hkHGecEVRa30K+MdrBo+q3XnMFdJormJEXuWMu1cD05J7Chbgzdh1V/8AhI59KuYhGfJWe2kB/wBamcOPqpx+DCi11RrzXr6xhiBgskQSTbusrDOwD2XaT/vCs/xiDZaXFrdvj7RpMgmRc48xD8rx/wDAgePcLV3w5p8unaLGLvBvLhmuLojvK53MPoM4HsBQv6/r+tQf9f1/W5H4x/5EjWv+vGb/ANANaFkyppNuzsFVYFJJOABtql4rhluPB+rw28byyyWcqpGilmYlTgADqaq2nhPTXsIFvVvbkeWpaG7vp5YycDgxu5U/Qihdfl+o30+f6GdoOqJpnhu5vkiaZNQ1SY6fApwZvMkOzGegOC2ew5rTvNU1fSLQ3+qW1pJZx83AtnbfAvdhuGHA6n7pxkjPSk8V6O+oafZvawec1hcpcC2R/LMqgFWVTkYO1jjkDIFZ0kWh3UYgh0fV7mSb5GgkiuY1APB3NJhMAe/PbNC/r7kL+vxNLVteu7TXtP0vTbFLuS+gklWRpdix7CvLHB4w3bnOB3yJINVv7bXbfTNXhtz9rjd7ee2LYLJgsjKehwcg5OcHpUM9nInjrSpIYJPs0On3EZcKSqEtFtUn1wD+RqbVIJpPFGhSxxO0cTT+Y6qSEzHgZPbJo6J+v5sWt/u/Qrx65ql/r+p6Xp1lAi2EiK13O52ncgYAKOSeT3AAxzziruj6rPeXV7YahAkN5YsofynLJIrDKuuQCM4IwehHeq+hW80PiHxFJLDIiTXcbRsykBwIUBIPcZBH4U+wgmTxjrEzxOsUkFsEkKkKxHmZAPfGR+dC2XoNlOXxZJH4Fl8QfYwzxsw8hW64l2df1qS+1jWtM0x9WvbG1FpEPMmtklYzRx9zuxtLAclenYE1jNp97/wqeWz+xz/aTKxEHlNvI+0k/dxnpz9K6XxTDLceEdWht43llks5VREUszEqcAAdTS6XGtXYXVNWltrixs9PhSa6vi3lmRiqIqrlmOBk9RgDqT261Wh1TVo/E8ek3kNmUkga4SeNnBdVYKw2nOCCy9+c/hWb4ldhqWgxBrpHjDybrBFe5iO0KDsIP7s5YMcHnbVvSLjTf7b825u7+XUriPyojqNq0HyD5ikYKKp9TjJ45OBVdfvJ+yQ+HW1X/hItd8yOzEf25POKyNkfuI/u8c8Y61pSate3mq3FjosELC0IW5urhjsRyAQiqOWOCCeQBkdelVLG5bTPE2rw3Vrdn7ddRSW8kVs7oymJEOXA2rgqc5Iotnk8OavqQura5lsr64+1Q3FtA821ioDIyoCw5XIOMYPXNJbL0/HQb6l6x1a5/tZtK1a3jhuvLM0MkLlo50BAJGQCCCRlTnqOTVDTNc1nXDefYLK1torS6lt/OuXZvNKMR8qr26ZJPXjB61JbrLrXii31QW89vZWMEkcTXEZjeZ5CuTsbDBQF7gZJ44Gak8JW81tpt4txDJEzajdOokUqSplYg89iOQaF59v1/wAge3z/AELeh6q2q2kxngFvc207288QfcFdfQ4GQQQRwOtaVcm17f8Ah/R/FGp2+j3Wozx3jzW9nEpD3I8uMDbwcjOeQD0Nbfh/V/7d8P2mpG1ls2uEy9tN9+FgSGU/QgijdfJfig6/f+Bo1Fd/8ec3/XNv5VLUVyC1pMFBJKMAB34qZ/Cyo/EjH8FHHgPRSeB9ii/9BFUdCutp8TazagPZy3BktyD8svlxKrMD6FlIz7VU0jwVaX/gGys78X0FxJZIrpLczYifaP8AlkzbeD/CRjtWtaTXl14RvLW8sWt723gkt3jjiIjkIXAaPjlSMYA6dO1VVbvJrfUmntFMkfxGU0HTLxLXzbzU1jFvaq+Nzsu4gtjhQMknHQdO1Twy67HdQi7trKaCQ4kNvIytDx1+b747dj7GsYadew6D4Zv4bWSW40qJDNaY2uyNFscAHHzDOcHrgitiHxDDdXEMNnY6jI0jYYyWUkKxDuzNIFH4DJ9qqSXM0u5Kvyq/YxLS41EePvEFvpltExYWzSXE7EJGPLOAAOWY+nA469jt6VqtxcaleaZqUEcV5aBH3QsSksb52sM8g5VgRzjHU1BpFvNH4u8QTSQyJFMbfy3ZSFfEZBwe+DQtvdDxjqc8UbKr6dAkUrKdhcPLxnpxkZHvUbIrf+vMWa98QLaz3iafaxpFuZLSWYmWRRn+JcqpOOB83ufRmqeJza+HtO1XTrQ3Yv5YEiiLbCRL057HmsSz+xpoAjv9F1G+1todsy3FnLIXmxziVhsC56EMFx09Kn+w3f8AwhHhSD7LN50E1iZo/LO6MKBuLDqMd89Kq3TzX56g+/k/+Abkup3mkaXdX+vC2EUKBlW03MxJ42fNjJzgA8Zz0FRC78Rra/a5dPsyMbjZRzMZQvoHI2lvbAGeN3epvE2mzat4fntrTb9oVkmhDHAZ0cOAT6Erj8ahXxMJLcLHpepfbiMfZXs5FAf0MhHl4/2t2PTNICPwLKJvBdjKoIV/MYBhggGRqva3pJ1a1h8mf7NdWsyz2823cEcAjle4IJBGRwaqeC4Lq28IWUV/EYblfM8xCpXBMjHoecVa1a+v9Pmt57azN5ZfMLpIVJmT+66jPzAc5Uc8jHTFDtcUdirBr1zZ3UNp4jsxZyTMI4rqF99vK56Lk4KMewYewJqfUtXmh1KHS9Lt0uL6WMyt5r7Y4Ywcb2IBPJ4AHXnpjNZWv33/AAkektpOlWd6810yBpZ7OWBIFDAly0iryMcAZOcfWrd/HPpXigaytvNc2k9qttcCBC8kRViyvtHLA7mBxkjjjrR2v/Wg/Qm/tW/07Uba21qGAw3b+VDdWzHAkxkI6npnBwQTzxxxSzateXerz6fosMLG1C/abm4Y7I2IyEVRyzYIJ5AGR16VTv5W8S3dha2VtdJa291HdXFzcW7wgbDuVFDgFiWA5AwBnnPFEDSeHNc1Nrm2uZbHUZhcxz28DzbH2KrIyoCw+6CDjHOM+ovP+tv+D9wen9f1oW7mXUX0HVY9Utoonjt5AksEm5JRsPODyp9Qc+xNZXh6815vBun3NnY2ixR2cflwTysJJgEHOQMJnHH3u2cdBrS37ato2prb2V5GggdInnhMZmJU/dRsN6DkDPbNT+HopIPCumRTRtHIlnEro64ZSEGQR2NLVKT9P1Dt8/0IH8S2/wDwjtnqtvE8pvhGttb5AaR36LnoO+T2AJqK81TV9ItDf6pbWklnHzcC2dt8C92G4YcDqfunGSM9KxU0K6uvAGgKbSRrnTmjne0ZjE7gAqyZ4w2GJGccgVYki0O6jEEOj6vcyTfI0EkVzGoB4O5pMJgD357Zqurt3DY0tV1y9t9fsNK0yziuHvYJJfOkkKrEEK8nAOR83bvjp1GvZ/a/sw/tDyfOycmDO0jPHXnpWNPZyJ460qSGCT7NDp9xGXCkqhLRbVJ9cA/kaj8ZeK7nwnb2NxBoV5q0M9x5dy9r/wAukeCTK3B4GPb69MrovP8AzsLv5f5HSUUUUDOc8WqLm60Gxl5t7nUl85ezhEeQKfbcq/lXR1ma/pB1jTRFDL5F1DKs9tMRny5VOVJHcdQR6E1Wg8RtCnla1pt9aXS8MIbWS4if3V41Ix7HB9qFtb+ugPe5uVxujz6mfFHiW2023hCi+R3ubhjtGYYwFVRyx455GOOtbNtql/qeoxfYbCS309CTNcXsTRvJxwscZww56swA9Ae0Xh+3mh1nxC80MkaTX6vGzqQHXyYxkeoyCM+1C3+X6oHt8/0ZZ0bVpr2a9s7+BIL2xkVJRGxZHDLuV1JAOCOx6EHr1qj4f1rWPEFjBqC2dpa2jyFSskjM7qGKlhgYHTjOc+1WdOgmTxXrkzxOsUq2/luVIV8K2cHvimeCrea18H2MN1DJDKu/dHIpVh+8Y8g0ASQa8ZP7cMludulSlMIctIBEsnT1+bFN0zUdYvEsrqW2s5bO8QOTbzEtACMgknhx2OMHPY1W0uO9s7zxPcRWLyyPeCS3jc+WJ8QRjhiMdQRnpms5/s/2yzk8L6dqGn30l0huIvsksEHl7v3vmAgRk4zgjJJxgmhdPl/X9bA+vz/r+ty1C2q/8LC1Hyo7Mr9ig+9I4OzzJcHp168dK1L7Vrn+1hpWkQRzXQjEs8kzlY4EJIUnAJZiQcKMdDkjvSubhtK8Z3N3cWt3Jb3NjFHG9vbPNl0dyVO0HacOOuB19KdOJtF8UXOptbT3FjfwxpK9vEZHgkTdjKLlipDdQDgjng5oWy/ruD3fy/Qsxate2mrQWGtQQr9ryLa5t2Ox3AyUZTypwCRyQcHp0qtHr+o33iDUtK06xiBsJEV7qdyEAZAw4AyzZJ4yBgZz0FNuGfxHrGm/Zra5isrCf7TLPcQNDvcIyqiq4DH7xJOMcYzVHTNTk0/xh4l8+0mks2uYv31vE0rI/kpwyKC2CMYIBAwc44oW+v8AWwehtWer3UesjStYgiinljaW2mgYmOcLjcMEZVhkHHPBznrWJ4fn1R9V8QW+m28CxpqkjPcXLHaSVX5VVeT05JIxkde2gnm694osb6K2uILDTUkKyXELRNNI4C4VWAbaBnJIGSRjNTeGbea3uNcM8MkQl1OR4y6kb1KphhnqODzQt/k/zQPb5/oyXTNd8+11D+1I0tJ9MkKXW19yABQ4dTgHBUg8jI5FRW+oa7qFmt/Z2dnFBIu+G3uJGEkiHkFmAwhI7YbHeqw0iXUJ/FlpMskMd+VjjlZSAwNuqkj1wc/lVCzj0y1sI4NW0rVYr6FAkkcEd1KjsBjKOmVIPUcjHfFL/gf8Eexp3/iwQeEP7bs7N5nEqRNasQHVzKI2T0yDkenFamntqrMzaolpGjKCqQMzFD3BJAz9cD6VgavpmPBUcOnaZNbvJeW87W3MjqfPRmJwTzjJPPrXW1X9fghGF43/AORE1r/ryl/9BNbFt/x6Q/7i/wAqy/GEEtz4L1eC2ieaWS0kVI41LMxKngAck1HF4lt1tY0h0/Vp5QgAjGmTR5OP70iqo/Eil3B9Pn+hDeAW3xG0ySEYa9sp45wP4hGUZCfoWYfjXR1zlpbXsd7d+JNZtnE6WxjtrC3/AHrxRj5iOOGkYgdOOAMnrW5ZXX22wguhDNB5yB/KnTbImR0Ydj7UdLf1uw6mB4gt4rvxdoFvcxrLDKl2jowyGBiAINVk1mfwru0W8jlvZcY0lhy10ucCJj2ZMjJP8PzetaWq280njDQJo4ZHiiFz5kiqSqZjAGT2zW2yKzKzKpZTlSR0PTigDi7vSW0288Py3cgn1C71YS3c4H338mQAD0VRwB6D1JrpbybVWvhBp1rCsITc91cPlc5+6qLyT6kkDp17U/EdvNPqWgNDDJIsOoh5CikhF8qQZPoMkDPvVG8ESeJ71/EFreXNqVj+w+XbyzwhdvzgqgID7s8sOmMULb5/oge/y/VmtpWrTXbX9tewJDeWEgSURsWRwVDKykgHBB6diD161maNrmva/ocOqWen2dtHIm5IriVi0p74IHyj0JyT1wKTwzCw1HX5o9Mm0+2meI26SQ+X5iiPG4Dtz26jvg8Ve8GwTWvgvSoLmJ4Zo7ZVeORSrKfQg9KP+ABBdeKxF4GbxFBaMxVATbM3IbfsZcjuDn64ovtY1rTNMfVr2xtRaRDzJrZJWM0cfc7sbSwHJXp2BNZVxYXjfC+5tFtJzctcORCIzvI+0ls7evTn6V0PimGW48I6tDbxvLLJZyqiIpZmJU4AA6mh9xxV3Yfe6ubXV9Ks0jDpqDSAvnG0KhYHHfNUTrmpXXiXUNH06xhAsxGzXc8h2AOucbQMlvbIGO/YmoW07+IPDMiQSMkDTeawQkR5hIG49ueOak0i3mj8XeIJpIZEimNv5bspCviMg4PfBo6kp3RPpWrXFxqN7pupQRxXloqSboWJSWN87WGRkHKsCOcY6mqUWtaxqGjzarpVpafZwHMEM7sHmVSRksOFzjgYPbJHaeKOSHxpqV3IjJb/ANnwATOMJlXlJG7pwCCfTNcxozh9BMN1c69bQXDO0sVnY+ZD8xJYQukbN5ZzwQenQik7taFaJ/12O10W+k1PRbW+lWNftMayqIySNrDI6jrg1eqppc1jPpcDaU8bWioEi8vooXjb7YxjB5GKt1TtfQlXtqFFFFIYUUUUAFFFFABRRRQAUUUUAFFFFABRRRQAUUUUAFFFFABRRRQAUUUUAFFFFABRRRQAUUUUAFFFFABRRRQAUUUUAFFFFABRRRQAUUUUAFFFFABRRRQAUUUUAFFFFABRRRQAUUUUAFFFFABWNqf/ACEv+2S/zatmsbU/+QkP+uS/zagAiq3HVOKrkdAE61IKjWpBQA6lpKWgAooooAx5aht/+Qlb/wC+f/QTU0tQ2/8AyErf/fP/AKCaAN6iiigAooooAKKKKACiiigAooooAKKKKACiiigAooooAKKKKACiiigAooooAKKKKACiiigAooooAKKKKACiiigAooooAKKKKACiiigAooooAKKKKACiiigAooooAKKKKACiiigDL1nS5tVuNPjLRiyhuBPcKSd0hTlFAxjG7BP+6PWtSiigAooooAKKKKACiiigAooooAKKKKAMS602/tvEEuraUtvcNcQJBNBcyNHgIWKsrhWx945GOeORTJNP1XVtQspdVjtLS2spvtCx28zTPK4UgZYou0DcTwDn2reooAKKKKACiiigBk0ZmhaMSPFu/iTGR+dJb28VpbR29ugjijUKijsBUlFABRRRQAUUUUAFFFFABRRRQAUUUUAFFFFABRRRQAUUUUAFFFFABRRRQAUUUUAFV7uzjvVRJyxiVgzRA/K+Dkbu5GR06HvmrFFABRRRQAUUUUAFFFFABRRRQAUUUUAFFFFABWVpWlzWOsaxdStGUvrhJYwpOQBGqHPHXKn1rVooAKKKKACiiigAooooAKKKKACiiigAooooAKKKKACiiigAooooAKKKKAKesaamsaLeadK7RpdQtEXXquRjNUIpPEkNusJsNLlZF2iYXskYbHfZ5Rx9Mn61t0UAZuh6W+k2DxzzLNPPNJcTOq7VLu2TtHYDp+FaVFFABRRRQAUUUUAFFFFABRRRQAUUUUAFFFFABRRRQAUUUUAFFFFABRRRQAUUUUAFFFFABRRRQAUUUUAFFFFABRRRQAUUUUAFFFFABRRRQAUUUUAFFFFABRRRQAUUUUAFFFFABRRRQAUUUUAFFFFABWNqf/ISH/XJf5tWzWNqf/ISH/XJf5tQAkXarkfSqcXarkfSgCdakFRrUgoAdS0lLQAUUUUAY8tQQELqEBY4Ackk9vlNTy1Xi/4/of8AeP8A6CaANv7TB/z3j/77FH2mD/nvH/32KrUUAWftMH/PeP8A77FH2mD/AJ7x/wDfYqtRQBZ+0wf894/++xR9pg/57x/99iq1FAFn7TB/z3j/AO+xR9pg/wCe8f8A32KrUUAWftMH/PeP/vsUfaYP+e8f/fYqtRQBZ+0wf894/wDvsUfaYP8AnvH/AN9iq1FAFn7TB/z3j/77FH2mD/nvH/32KrUUAWftMH/PeP8A77FH2mD/AJ7x/wDfYqtRQBZ+0wf894/++xR9pg/57x/99iq1FAFn7TB/z3j/AO+xR9pg/wCe8f8A32KrUUAWftMH/PeP/vsUfaYP+e8f/fYqtRQBZ+0wf894/wDvsUfaYP8AnvH/AN9iq1FAFn7TB/z3j/77FH2mD/nvH/32KrUUAWftMH/PeP8A77FH2mD/AJ7x/wDfYqtRQBZ+0wf894/++xR9pg/57x/99iq1FAFn7TB/z3j/AO+xR9pg/wCe8f8A32KrUUAWftMH/PeP/vsUfaYP+e8f/fYqtRQBZ+0wf894/wDvsUfaYP8AnvH/AN9iq1FAFn7TB/z3j/77FH2mD/nvH/32KrUUAWftMH/PeP8A77FH2mD/AJ7x/wDfYqtRQBZ+0wf894/++xR9pg/57x/99iq1FAFn7TB/z3j/AO+xR9pg/wCe8f8A32KrUUAWftMH/PeP/vsUfaYP+e8f/fYqtRQBZ+0wf894/wDvsUfaYP8AnvH/AN9iq1FAFn7TB/z3j/77FH2mD/nvH/32KrUUAWftMH/PeP8A77FH2mD/AJ7x/wDfYqtRQBZ+0wf894/++xR9pg/57x/99iq1FAFn7TB/z3j/AO+xR9pg/wCe8f8A32KrUUAWftMH/PeP/vsUfaYP+e8f/fYqtRQBZ+0wf894/wDvsUfaYP8AnvH/AN9iq1FAFn7TB/z3j/77FH2mD/nvH/32KrUUAWftMH/PeP8A77FH2mD/AJ7x/wDfYqtRQBZ+0wf894/++xR9pg/57x/99iq1FAFn7TB/z3j/AO+xR9pg/wCe8f8A32KrUUAWftMH/PeP/vsUfaYP+e8f/fYqtRQBZ+0wf894/wDvsUfaYP8AnvH/AN9iq1FAFn7TB/z3j/77FH2mD/nvH/32KrUUAWftMH/PeP8A77FH2mD/AJ7x/wDfYqtRQBZ+0wf894/++xR9pg/57x/99iq1FAFn7TB/z3j/AO+xR9pg/wCe8f8A32KrUUAWftMH/PeP/vsUfaYP+e8f/fYqtRQBZ+0wf894/wDvsUfaYP8AnvH/AN9iq1FAFn7TB/z3j/77FH2mD/nvH/32KrUUAWftMH/PeP8A77FH2mD/AJ7x/wDfYqtRQBZ+0wf894/++xR9pg/57x/99iq1FAFn7TB/z3j/AO+xR9pg/wCe8f8A32KrUUAWftMH/PeP/vsUfaYP+e8f/fYqtRQBZ+0wf894/wDvsUfaYP8AnvH/AN9iq1FAFn7TB/z3j/77FH2mD/nvH/32KrUUAWftMH/PeP8A77FH2mD/AJ7x/wDfYqtRQBZ+0wf894/++xR9pg/57x/99iq1FAFn7TB/z3j/AO+xR9pg/wCe8f8A32KrUUAWftMH/PeP/vsUfaYP+e8f/fYqtRQBZ+0wf894/wDvsUfaYP8AnvH/AN9iq1FAFn7TB/z3j/77FH2mD/nvH/32KrUUAWftMH/PeP8A77FH2mD/AJ7x/wDfYqtRQBZ+0wf894/++xR9pg/57x/99iq1FAFn7TB/z3j/AO+xR9pg/wCe8f8A32KrUUAWftMH/PeP/vsUfaYP+e8f/fYqtRQBZ+0wf894/wDvsUfaYP8AnvH/AN9iq1FAFn7TB/z3j/77FH2mD/nvH/32KrUUAWftMH/PeP8A77FH2mD/AJ7x/wDfYqtRQBZ+0wf894/++xR9pg/57x/99iq1FAFn7TB/z3j/AO+xR9pg/wCe8f8A32KrUUAWftMH/PeP/vsUfaYP+e8f/fYqtRQBZ+0wf894/wDvsUfaYP8AnvH/AN9iq1FAFn7TB/z3j/77FH2mD/nvH/32KrUUAWftMH/PeP8A77FH2mD/AJ7x/wDfYqtRQBZ+0wf894/++xR9pg/57x/99iq1FAFn7TB/z3j/AO+xR9pg/wCe8f8A32KrUUAWftMH/PeP/vsUfaYP+e8f/fYqtRQBZ+0wf894/wDvsUfaYP8AnvH/AN9iq1FAFn7TB/z3j/77FH2mD/nvH/32KrUUAWftMH/PeP8A77FH2mD/AJ7x/wDfYqtRQBZ+0wf894/++xR9pg/57x/99iq1FAFn7TB/z3j/AO+xR9pg/wCe8f8A32KrUUAWftMH/PeP/vsUfaYP+e8f/fYqtRQBZ+0wf894/wDvsUfaYP8AnvH/AN9iq1FAFn7TB/z3j/77FH2mD/nvH/32KrUUAWftMH/PeP8A77FH2mD/AJ7x/wDfYqtRQBZ+0wf894/++xR9pg/57x/99iq1FAFn7TB/z3j/AO+xR9pg/wCe8f8A32KrUUAWftMH/PeP/vsUfaYP+e8f/fYqtRQBZ+0wf894/wDvsUfaYP8AnvH/AN9iq1FAFn7TB/z3j/77FH2mD/nvH/32KrUUAWftMH/PeP8A77FH2mD/AJ7x/wDfYqtRQBZ+0wf894/++xR9pg/57x/99iq1FAFn7TB/z3j/AO+xR9pg/wCe8f8A32KrUUAWftMH/PeP/vsUfaYP+e8f/fYqtRQBZ+0wf894/wDvsUfaYP8AnvH/AN9iq1FAFn7TB/z3j/77FH2mD/nvH/32KrUUAWftMH/PeP8A77FH2mD/AJ7x/wDfYqtRQBZ+0wf894/++xR9pg/57x/99iq1FAFn7TB/z3j/AO+xWTqEiSajmNlYeUoypz3artZ93/x/f9s1/maAJIu1XI+lU4u1XI+lAE61IKjWpBQA6lpKWgAooooAx5arxf8AH9D/ALx/9BNWJarxf8f0P+8f/QTQBpUUUUAFFFFABRRRQAUUUUAFFFFABRRRQAUUUUAFFFFABRRRQAUUUUAFFFFABRRRQAUUUUAFFFFABRRRQAUUUUAFFFFABRRRQAUUUUAFFFFABRRRQAUUUUAFFFFABRRRQAUUUUAFFFFABRRRQAUUUUAFFFFABRRRQAUUUUAFFFFABRRRQAUUUUAFFFFABRRRQAUUUUAFFFFABRRRQAUUUUAFFFFABRRRQAUUUUAFFFFABRRRQAUUUUAFFFFABRRRQAUUUUAFFFFABRRRQAUUUUAFFFFABRRRQAUUUUAFFFFABRRRQAUUUUAFFFFABRRRQAUUUUAFFFFABRRRQAUUUUAFFFFABRRRQAUUUUAFFFFABRRRQAUUUUAFFFFABRRRQAUUUUAFFFFABRRRQAUUUUAFFFFABRRRQAUUUUAFFFFABRRRQAUUUUAFFFFABRRRQAUUUUAFFFFABRRRQAUUUUAFFFFABRRRQAUUUUAFFFFABRRRQAVn3f8Ax/f9s1/ma0Kz7v8A4/v+2a/zNAEkXarkfSqcXarkfSgCdakFRrUgoAdS0lLQAUUUUAY8tV4v+P6H/eP/AKCasS1Xi/4/of8AeP8A6CaANKiiigAoorK8UapPonhbUdStVjea1gaRFkBKkj1wQf1pN2VxpXdjVormPh94lvPFfhRNT1GOCOZpXQrApC4B46kn9a6eqasSncKKx/FevHwz4Yu9XFv9pNsFPlb9m7LBeuDjr6U/wxrR8ReGrLVjB9n+1IW8rfu28kdcDPT0pbjNWiiigAooooAKK84HinWf+F6NoH2w/wBlhM/Z/LTr5O772N3XnrXo9HRPuD0dgooooAKKx/FevHwz4Yu9XFv9pNsFPlb9m7LBeuDjr6VHo/iNtW8Ex6+tkweS3eYWsb7ySuflBwMk49O9K+jfYdtUu5uUVyXw+8Z3PjPTLu5utP8AsZt5vLBViVfjPGR1Hf6iutqmrE3uFFFFIYUUUUAFFFFABRRRQAUUUUAFFFFABRRRQAUUUUAFFFFABRRRQAUUUUAFFFFABRRRQAUUUUAFFFFABRRRQAUUUUAFFFFABRRRQAUUUUAFFFFABRRRQAUUUUAFFFFABRRRQAUUUUAFFFFABRRRQAUUUUAFFFFABRRRQAUUUUAFFFFABRRRQAUUUUAFFFFABRRRQAUUUUAFFFFABRRRQAUUUUAFFFFABRRRQAUUUUAFFFFABRRRQAUUUUAFFFFABRRRQAUUUUAFFFFABRRRQAUUUUAFFFFABRRRQAUUUUAFFFFABRRRQAUUUUAFFFFABRRRQAUUUUAFFFFABRRRQAUUUUAFFFFABRRRQAUUUUAFFFFABRRRQAUUUUAFFFFABRRRQAUUUUAFFFFABRRRQAUUUUAFFFFABRRRQAUUUUAFFFFABRRRQAUUUUAFZ93/AMf3/bNf5mtCs+7/AOP7/tmv8zQBJF2q5H0qnF2q5H0oAnWpBUa1IKAHUtJS0AFFFFAGPLVeL/j+h/3j/wCgmrEtV4v+P6H/AHj/AOgmgDSooooAK534gf8AJPdb/wCvR66KsbxhYXOq+DdUsbCPzbm4t2SNNwXcT2ycAVM9YsqPxI828Mare6J8ALzUNLm8i6hnby5NittzIoPDAjoTVR/FHxJl8Fw+Jory3jsIRh/3cZkm+bBcrtwBnjAx06d627Hwdr0PwRvdAkscanLLuSDzo+R5it97dt6A960I/C+sL8Dz4fNn/wATTySvkeanXzd33s7envVz2bXl+RMLaJ92Y/jbV9W8UfB601mzlht7WRM6jBjJciRVAXgkYcZ6jj1q38MIfE9r4UF5eahbvo32GQ2VuijzI3DHk/IM9G6k9au6f4N1Ob4KHw1dxra6iY3wjOrAN5pdQSpI54/Oo/AVp4ysNFl0LXtHht7GC0dLaZZULs5JIBw5BHJ5wOlKWnOo/wBaP+kEfs3/AK1X9M5nwt4k+JPjDT5V0q+hAgm/e3ksUSnBAwgG3HqenccjvveJ/GHiO78Zx+EPBzxR3cSA3F5MqnnbuPUEAAEZ4JyeK0PhL4a1bwxoV9b65afZZZbnei+Yj5XaBn5Se9UfFPg7xFp/joeLvBaw3NxIMT2szAZO3aepAIIA7gg05W5kun/AEr2b6jPD/jDxNovjqLwt43eC6a6AMF3CoHJB29AMgkEcgHNV9Y8XeLfEXj668PeCZ4bKOx3CWaVFO4qQGLFlbA3HAAGf6T6B4Q8T6547h8U+No4LM2gAgtYWByQDtxgnABJPJJz7VDq/hLxb4b8f3XiLwVbwX0d9uMsMrqNpbBYMCy5G4ZBB/wDrrtzef/AH3t5f8ExfDj6s3x8i/wCEiSJNRWMrKYfuviDAYfUAH8e3Sur8AeKtZ1vxv4isNTvPPtbKRxBH5SLsAkKjkAE8DvWX4c8KeMB8VovEXiO0i2OjGWaGVNqZiwEC7t3HC9D06nrUcnhbxt4X8e6nqPhK0tru11JmYtM6hUDNuwQWU5Bz0zx+VNact+zE9b28jS8I+M9Vu/HHie21i983TtMWZ44xEi+WqSY6gAnj1NZGn+JPiJ45+26l4WntdPsLdykcDqhLnGduWU5bBGeg5q/4D8Ea7p/ibX5fE9uDBqMEkTXCyIRMWfJIAORkZPIFUdM8PfETwIb3TfDNraalYXEheOZ2QFDjG4BmXDYAyDkcVK2V+343K6u3f8LF74iR+LJvhZFLqc1nA6AHU4YufMBddgHBwQcZwQOuMipPhhD4ntfCgvLzULd9G+wyGyt0UeZG4Y8n5Bno3UnrXRarout+I/hlPpesG3TV54BuMR+QurBgD6ZwAccZzisbwFaeMrDRZdC17R4bexgtHS2mWVC7OSSAcOQRyecDpTd1zpf1o/6QKz5b/wBbf0yHwL481Cb4e6xr3iO4N49jMwXEaR5G1cL8oA5Y9fesa1134m67oU/ifTruzgsE3OlmIky6r97blST0PVgeDitjwN4D1CH4eaxoHiO3Nk99MShEiSYG1cN8pI4YdPase00X4m6FoE/hjT7CzuLF96JdiVNyq/3tpLAjqeq55+lEt3bsrCjsr99fQ2ZviJfap8ILzX9OZbLU7aRIZNihlVt65IDA8FW75x+Ga5648U/En/hDrfxQt3bRafGFDARxl5fm272G3gE8YGPp3roJfh3faX8H7zQLALe6ndSpNIEcKpbeuQCxHAVe+M1an8L6w/wOXw+tnnVBCq/Z/NTqJg33s7enPWiXVruv+CEdXFPzOt8La1/wkXhew1VoxG1zFudFPCsDg49sg1rVzvgHSrzRPA+nafqcPkXUKsJI9wbbl2I5BI6EV0VVK3M7ExvZXCiiipKCiiigAooooAKKKKACiiigAooooAKKKKACiiigAooooAKKKKACiiigAooooAKKKKACiiigAooooAKKKKACiiigAooooAKKKKACiiigAooooAKKKKACiiigAooooAKKKKACiiigAooooAKKKKACiiigAooooAKKKKACiiigAooooAKKKKACiiigAooooAKKKKACiiigAooooAKKKKACiiigAooooAKKKKACiiigAooooAKKKKACiiigAooooAKKKKACiiigAooooAKKKKACiiigAooooAKKKKACiiigAooooAKKKKACiiigAooooAKKKKACiiigAooooAKKKKACiiigAooooAKKKKACiiigAooooAKKKKACiiigAooooAKKKKACiiigAooooAKKKKACiiigAooooAKKKKACiiigAooooAKz7v8A4/v+2a/zNaFZ93/x/f8AbNf5mgCSLtVyPpVOLtVyPpQBOtSCo1qQUAOpaSloAKKKKAMeWq8X/H9D/vH/ANBNWJarxf8AH9D/ALx/9BNAGlRRRQAUUUUAFFFFABRRRQAUUUUAFFFFABRRRQAUUUUAFFFFABRRRQAUUUUAFFFFABRRRQAUUUUAFFFFABRRRQAUUUUAFFFFABRRRQAUUUUAFFFFABRRRQAUUUUAFFFFABRRRQAUUUUAFFFFABRRRQAUUUUAFFFFABRRRQAUUUUAFFFFABRRRQAUUUUAFFFFABRRRQAUUUUAFFFFABRRRQAUUUUAFFFFABRRRQAUUUUAFFFFABRRRQAUUUUAFFFFABRRRQAUUUUAFFFFABRRRQAUUUUAFFFFABRRRQAUUUUAFFFFABRRRQAUUUUAFFFFABRRRQAUUUUAFFFFABRRRQAUUUUAFFFFABRRRQAUUUUAFFFFABRRRQAUUUUAFFFFABRRRQAUUUUAFFFFABRRRQAUUUUAFFFFABRRRQAUUUUAFFFFABRRRQAUUUUAFFFFABRRRQAUUUUAFFFFABRRRQAUUUUAFFFFABRRRQAUUUUAFFFFABWfd/8AH9/2zX+ZrQrPu/8Aj+/7Zr/M0ASRdquR9KpxdquR9KAJ1qQVGtSCgB1LSUtABRRRQBjy1Xi/4/of94/+gmrEtV4v+P6H/eP/AKCaANKiiigAooooAKKKKACiioby8t9PtJLq9mSCCMZZ3OAKAJqKyP7fYp5y6PqhtsZ87yVHHr5ZbzPw2Z9qlvtct7TR4dRiVp4ZpIUTHyk+Y6oDz0xuzigDSooqtqOoQ6Xp8t7d7hBCN0hUZ2rnk/QdT7CgCzRQDkZHIqtZahBqBuPs24rbzNAzEYBZfvY9cHj6g0AWaKKimu7e2eFLieOJp38uJXcKZGxnaM9TgHigCWiiigAooooAKKKKACiiigAooooAKKKKACiiigAooooAKKiN3bi8FoZ4/tJj8wQ7xvKZxu29cZ4zUtABRRRQAUVUv9QWwks0aMv9quBAMHG0lWOf/HanuJhb2ssxG4RoXIHfAzSurXHbWxJRVbTL1dS0m0vkQotzCkwQnJUMAcfrVmqas7MlO6uFFFFIYUUVFdXVvZW7XF5PHbwrjdJK4VRk4GSfc4oAlooooAKKKKACiiqVjqa319qFssbIbGZYWYn75KK+R/31j8KALtFFFABRRUU13b2zwpcTxxNO/lxK7hTI2M7RnqcA8UAS0UxJ4pJZI45EZ4iBIqsCUJGRkduOaraZqK6nbzSpGYxFcSwEE5yUcqT+OM0AXKKKKACiisvU9WubXUbex0+yW7uJYnnZXm8oKiFQcHByxLDA4HqRQBqUUDp6UUAFFFFABRUN5cC0sZ7llLCGNpCoPXAziltLgXdlBcqpUTRrIFPbIzigCWimPPFHNHE8iLJJnYhbBbHXA74p9ABRUVzd29nGJLueOBGYIGkcKCxOAMnuTUtABRUV1dW9lbtcXk8dvCuN0krhVGTgZJ9zipaACiiigAooooAKKKKACignAyeAKZDNFcwJNbyLLFIoZHRsqwPQg9xQA+iiigAooooAKKKKACiiigAooooAKKKKACiimPPFHNHE8iLJJnYhbBbHXA74oAfRRTJp4reIyXEiRICAWdgBknA5+pAoAfRUU13b2zwpcTxxNO/lxK7hTI2M7RnqcA8VLQAUUUUAFFFFABRWVperXOp3UxSxVLFJZYkuPOyzNG+w5THAJBwQT05xWrQAUUUUAFFFFABRRRQAUUVU/tBf7b/s3yzu+z+fvzxjdtxR1sHmW6KKKACis7U9X/suGeeexupLe3jMkk0ewqFAyTgsDwPapLLUXvdh+wXUMbruWSXZgjt0Yn9KALtFFNmmjt4XmnkWOKNSzu5wqgckk9hQA6imxSxzwpLA6yRyKGR0OQwPQg9xSsyohZyFVRkknAAo2AWio7e4hu7eO4tZY5oZF3JJGwZWHqCOtSUAFFFFABRUVrd297bieznjuIWJAkicMpIODyPQgipaACiiigAooooAKKztX1OTTxaRWtutxc3k/kwo8nlrnazks2DgAKegPartu8kltG88XkysoLx7g2w9xkdaAJKKKKACiiigAooooAKKqLqCtrb6b5Z3JbrPvzwQWK4/8dq3R0uHkFFFFABRRRQAUUUUAFFFFABRRRQAUUUUAFFMaeJJkheRFlkBKIWGWA64HfGRT6ACiiqmq6gulaZLePGZFj25UHBOWA/rQBbooooAKKpNqarr8Wl+W2+S2a4EmeAFZVxj/gVXaOlwCiqd1qK2uo2No0ZY3juqsD93ahb+lXKACiiqNxqa2+t2WnGMlruOWQODwuzbkfjv/SgC9RRRQAUUUUAFFFFABRVOw1Fb6e+iWMobO48hiT947FbP/j36VcoAKKKKACiiigAopsr+VC8hGdqlseuKg0y9XUtJtL5EKLcwpMEJyVDAHH60AWaKKKACiiigAooooAKKKKACs+7/AOP7/tmv8zWhWfd/8f3/AGzX+ZoAki7Vcj6VTi7Vcj6UATrUgqNakFADqWkpaACiiigDHlqvF/x/Q/7x/wDQTViWq8X/AB/Q/wC8f/QTQBpUUUUAFFFFABRRRQAVz+sKLnxhoVpcc26rPchT0aVAgXP0DsfqAe1dBWfrGk/2pDC0U7Wt3ayebbXCru8tsEcjupBII7g9utHW4E17qMOnqhnS5cOSB5FrJN+exTj8a5/xFqlrq3hgTWLuyJqVtE4kieNlZbiPIKsAR+Vaaz+Ilj2tYaY8gOPMF7Iqkf3tvlEj/dyfrVKXwzcHQHtEuY5LmbUEvZnKlEyJlkYKOSBhcDJP1oW6+X5oOhfl1K6udWm0/S4os2yqbi4nyVQtyqBRyxxyeRgEdelFpe/2m9/pWqWyRzwoBKitvSWNwQGBIBwcMCCOCD14JZJYX1lrNxf6WtvMl4E+0QTyGPDKMB1YK2cjAII7A57GTS9OuIr+71LUTH9rulSMxwsWSKNM7VBIBY5ZiTgdenFK11Z/1/X9ahtsZVhq8uleELqGf99faU5slUnmZ+BD/wB9Bo/zNWLR5dHisdAsBHLdrbma4nmYhVyfmcgcszOSccd+Rjl154ca58W22prMFtQoe4g/56yx5ETfhvbP+6vpU2p6RM+sxarYxW08wh+zzQXJKq6btwIYK2CCT2IOe3Wne+r/AK/4d/gHp/X/AAyJrDVJZNUm0y/SJbmOJZkeFiUljJIzg8qQRyOeo5OeJNS1D7FdabGIlk+13XkZJ+5+7dsj/vnH40mmwXaSSyXlrY2wOBHHbZYgdyzkLnPHAXjHU9k1TT5b660uWJkC2d358m4nlfLdcDjrlx+tPsHf+un+ZUXWby41i7tLSK1zZyqjW8spWWVCATIvYDkgcHJU8ityuc1vSdV1W3ubRoNPmVmJtLyR2SS1z/EFCn5l6ghhn2610SKVjVSxYgYLHv70ugdTn9U1690q1ur+6is47e1YlrczZmeIHlwRwDjkLg59Qelm71W9/wCEgi0rT7aJvMtftDXErkLGN237o5Y+2R35FYVz4W1V/Cd1okNtpbSTJIh1CWVt8m7J3soT75zz8xx156V0aadKviJb8snlCyFvjJ3bt+7PTpijqv66f5g/L+tV+lw0rUp7q5vbO9iSO5s3VWMbEpIrKGVhnkdxjtjqakvtRaz1HTbYRhhezNEWJxsxGz59/u4/Gm2dhLb61qV47IY7vytgBORtXBzUetafc3clhdaeYjc2Nx5yxzMVSQFGRlLAEjhsg4PIoAfLqjR+JrXS/KBWe1luDJnkFGRcY99/6VlW2v6vd+H5NZjsLZIYhI32dpTvlVCQSGxhehwDnPfFTwabq0/i+HV7/wCyQ28NnLbpBDIzsCzo24sVAOQvTHGB1zxPZaRcW3hFtLd4zOYZY9wJ25YtjnGe/pSldRut9fz0Grc1nsMvtdZLjTYbQwQrqETSR3F0SEyApCADGWO7OM9FJ5xU9xqlzaQ6b9qtUSe7uVgkRZNyplWOQcDP3fQdaiey1GGxs7WOGyvbdbYQ3FvcMVDEADcG2tkcYwQPXPaqUfh2+h0C2hikt1u7S9N3DDvbyUG4/uQ2MhQrFQdvHpjiqdr6bX/C/wDl/VyVe2u9v0/z/qxrXeptba7p2niIMt4spL5+7sAPT3zVDT9X1bVzeG0tLe2jtbqW3V53LeeUcrwB90cdTnnPHGSh07WLzxRp+pXgs7e2s45U8mKVpGYuAN24qB2xj8cnOBT8OHWIYNSazjtLuF9SuyizTNC0Z85hjIRtwPXPBHv2S/r7yunz/Rl8eJv+JT5zWhF99q+xG0MnAnz034+7j5t2Pu84zxUrapeWF7aRamts8N5J5Ky27EeXIQSqkHqDgjdkc445yKbeFpH0nEk8T6ib3+0DK0eYzL027eu3b8nrjnrV20t9Qa8ia407S7SJOXaKRpXY46L8ibecHPPpgdaF5/1p/ncT/r+vuGadqmpanf3ix29vDa2d21uWd2ZpQMZIA4XGffPPTrTU8RhfDl1qFzBtubV3gktlbJMwbaqA/wC0SuPZhVzSLCWw+3ecyN9ovJJ02E8K2MA+/FUbjw9JN4qjv1mVbFis1xb45edBtjb6YPPuiUlsk+y/4P6/MOrZcj1CX+3ILCeBBI9kZ3dWztYMqlR7c/pVXRdZvdW8udYrX7OzsksSynzrUjOA47njkcYz361bfT5m8SpqKugiWzeDHO7cXVgcdMcetZj6Rqt5f6fPew6fFcWkoaTUIHbzZUHVQu0YDdwWIHvxTXT+ur/QXf8Arp/mWotVvdRkuW0tLVbe3laFXuGbM7qcMBj7qggjdznB49Y/+Em83TLWS0td99dXDWiWzSYCSoW37mx91djHOORjA5qODRrvS5bqOxsdPvbaaZ54/tEhieNnbcynCNuG4kg8EZxg9asXmj3c9nYTRPaxajYzeemxCsLEgqyEckAqxGfXBx2o6f1/X9aD6/f/AMAoazNqUeqaFDfQwyRvqCkT25ICsI3+VlP6EHt0FdBqX/IJu/8Arg//AKCayLyw1rVNQ0ya4FnaQWVyJ5Io5mlaX5GH3ii4xu6Y59RjB27uJrixnhQgNJGyAnpkjFTJe416/kiov30/T82c7pGqPa+G/DtjZxpLd3VjGy+Y+1I0VF3OxwTxuUADqT25I0rbVJ49YXTNRWEyywtNBNATtlCkBgVP3SNy9zkH8Kz18OXMGn6LJCLWa+0y0Fs8cxPlTKVUMN20leUBB2npjHPF6Oxvp0ukmgstPWSFo4mtSXkViPv7tq4x6YP17VpN6trz/wCARFaJPyKtxr97YCCfUI7NIpbhIHtkm3Sw72CqxPRjkjIAGOcE45nn1TUZPEc+lafb24WG1juGuJmOMszgLtH+51zx71ky+G9Um0ax02Ox0m1FtLA7zxyMS4jkVjgeWME7c8k88c5yN+DT5YvEt5qDMnkz2sMKqCdwKNITnjp84/WloPp/Xf8AyKzapqNxr93pllbQILaKKR7mZiRl93yhRgk/L6j8elRN4hkHh+9u57RBcWU5t5oQ+5CwZRkHHQhgentV+00+WDXtRvnZDFdRwqgBO4FA2c8f7QrOuNAupdJ1i1WSEPfXnnxkscBfk4PHX5D69qX9fkLoWLnVb9vEj6RYW0OFtUuGuZmOE3M642jlj8vqO/PABjHiNrbSdXuNQtgs+ksyzJC2Vk+QOpUkcZDDr0OevWrkenyp4muNRLJ5MtpFAq5O4MryMT0xjDjv61ja1aS2dnreXG/WriOG2CDJy0SR4bOMDKnJB6dOeKOn9b30L0v5f8DUuyanq1rqWm295FZ7L92TMZcmJgpfb/tDCt83HOOOa2p3eO3keGIzSKpKxhgN5xwMngVytvBJ4elgvNR0qER7ktllj1Oa6aDzGCjakqjauSAdpzjHBxW7runyarod1ZQSiKSZMBm6HnODjseh9iaHtoSt9SimuXNvqdhbah9icXztEBbSlmhcIWwc/eGFI3YXnHHPFK11FNIn8X6hKjSJbXKyFF6ti3j4qV9F1G61TSJjY6ZYQWE/musErOz/ALtkwv7tQANw+vtjmHV7GawstdDSLv1u6SK1EYyctGkeGzjAypzg9OnPFH9fihrf+vMvyanq1rqWm295FZ7L92TMZcmJgpfb/tDCt83HOOOafbanqWqwy3WlwWy2quyQ/aHYNcbSQTkD5FJBwcMSOcCsy3gk8PSwXmo6VCI9yWyyx6nNdNB5jBRtSVRtXJAO05xjg4rQsrHVtFt3sdOis7m0Vma3aedo2jDMTsICMGAycHIyMDHej0EiOfxPM+nabPp9iJJ729Nm8M0m3yXUPvyQDnaYz06irlzf3Ni2mxXkcEst3dmAtHkBRsdgwBzz8uMZ71Vj8OS28GlJHMkj21+95cyMCvmM6ybio5x80nA9B1q9qmny311pcsTIFs7vz5NxPK+W64HHXLj9af8An/kP/J/r/wAAztG+2f8ACVa7v8jyvPi3Yzu/1K4x+lVNAm1b7Hqf2C3tvLh1G72ee5BnPnMSBgfIO2TnnPHc6sNlqFn4hvLiCO2ltL143dnlZXj2ptIC7SG6A9R1NT6Lp8unWdxFOyM0t3POpQkgK8jMByOuDzU62+X+QPb5/oyhP4llk03RLrTLMTNq8ioiSybPLBjZ8kgHpt5oTVtYfXJdGFra+dHCtwbzc3l7GJAGzruyp4zjAzntTbLw/dW2m+G7d5IS+lOGnIY4b9y6fLxzyw644rRj0+VPE1xqJZPJltIoFXJ3BleRiemMYcd/Wqdri6f13/yHaNqT6nYvJPCIZoppIJUVty7kYqSDgZBxnp3rLu/tn/CwbLyfI2f2fNjdnOPMiz+Naej6fLp8N0szIxmu5p12EnCuxIB460kmnyv4mt9RDJ5MVpLAy5O4szowPTphD+lJbp/1t/mD2a/rcgg1O/1OW5bSordLa3laFZbgsTO6nDAAfdUEEbueQePWtc+J5Y/Dz30FjuvIrtLOS0eXG2QyKhG7HI+YEHHII4HSpbax1PR3uYdMhtLq0mmeeNZ52iaJnO5l4Rty7ixzwRnGD1qJ/Dk50fyBPHJdzahFfXEhBVSVlR2CjngKu0fQZoW6v5fp/wAEH/X9fcbNn9s8tvt/kb8/L5OcYx0Of5/yqnNqV1PrEmm6ZFHugjV7i4mJKx7s7VCjlmIBJ5AAx1zitSsiXT72z1qbUdLWCZbtEW4gnkMeCuQHVgrc4OCCOcDkY5AK9zqctxp+s6ffQLDeW1ozny23JJGyttdSQD1VgQehHfg1Dpl7rS+F7S8isICiWyMLR5CJXQKOd33QxHReR6sO1hdGu7hdTu75oVvr62+zJHGxaOFAG2jcQC3Lkk4HYY45jtrPxHa6FDpgNg8iQrCL4ysCBtxu8vZgkem4A9eOlLXW2+n6j0uu2v6Fe9vJdQ13w5eaY0LQXEMskRkDAkGMHnHtiti+ur+K4WOAWkEWzcbi5k4Zv7qqMH6kkdRwecUZtDuLCPRv7FWGUaXG0QiuJSm9THtzuCtzkDt602TStQj1q51BbPT75rmGNdtxMymBlHKqfLbKEnPY57Hs3a7sJbaip4l8/wAOw6iLZC7XqWkkW/cqt54iYhscgHkHHPHSpn1TUbjxBd6XYW8CLbRRyNczMSPn3fKFHU/L6j8elUbXw1fReGVsJpLX7R/aYvGMe4R7ftIlIHGQccY9e/eti00+WDXtRvnZDFdRwqgBO4FA2c8f7Qp9P67ICg3iGQeH727ntEFxZTm3mhD7kLBlGQcdCGB6e1TXOq37eJH0iwtocLapcNczMcJuZ1xtHLH5fUd+eADXuNAupdJ1i1WSEPfXnnxkscBfk4PHX5D69q0I9PlTxNcaiWTyZbSKBVydwZXkYnpjGHHf1pdr9v0/zDo/66/5FMeI2ttJ1e41C2Cz6SzLMkLZWT5A6lSRxkMOvQ569aJNT1a11LTbe8is9l+7JmMuTEwUvt/2hhW+bjnHHNUtatJbOz1vLjfrVxHDbBBk5aJI8NnGBlTkg9OnPFMt4JPD0sF5qOlQiPclsssepzXTQeYwUbUlUbVyQDtOcY4OKFq/u+8GdDq95Np+k3F5bQfaHgTzDFnBZRywHvjOPeobjWEFxpkNiFuG1Bt6ndwsIXc0n6qB7sK0utYOgeHpNIvrqSeZZYl/c2KAf6mDJfaffc2P91FoW/8AX9f0w6DrfVtQ1OGW70yK0FsrskIuJGDXG0kE5A+QEg4OGyOcCk/4SUXVjpzaZbebdaiWEcMr7RFs/wBYXIz90jHGcnHrmoLTRr3SIJLSysNNvLdXZoJLiUxugZidrARtnGeDnkYGO9WrzSbthp15aNajULHcNuwxwyq4w68bigJAIPOCO9HT+v6/rQOv9f1/WpZDaqIrmO5S0bEeYpo2YBj3BQ5Ix6gnPtWR4d1B9K+HVhe36q8UVjCY0hBLPlQAvPckgfjW1bHVJpZft8VpbwbNqJDI0rFvUsVUAe2D65HSsmz0G9k8KLoOpi3iSC3jihubeUuxZPuuVZQBgqpxk9xR0fy/UCxd6pqml2H9o6la2xtUAa4igkYvbp3bJGHx1IwvGcZ6F1zquoSeI30rTre32paJctczMcDczKF2jrnb1zxzUd7Zazq+nNpuoR2UEE48u5ngmdmdO4VCg2lhkcsduf4quw6dJF4luNQynkSWcVuqgncCjuT2xjDjv60w6f13RornaN2N2OcVhaLrN/qOnDU7yC2tLIeZld7M+1SRvzjA6dPTnPat2srStINt4aXS77ZJlHjk2E4IYn1Hoal36DVupVXWtTfSP7XjtLf7N5fnLaGQ+c0eM53dA2P4MYzxu706bX7ibVrGy0i1S4S8tDdLcSOVWNMqMkYyeG4A6n061Da6XqtlYR2MdlpU/kqIkvJWYEqBgM0YTlvUBwD6jpUd/HfJ45s200wFo9Nk3wy5RJF8xBgMASuOvQ+nfIrTmt0/4DJ15b9f+CjStdTuY9ZGl6nFEsskTTW80JO2VVIDAqeVYbl4ycg9etVtI1u+v9LOrX0NvaWKiQsu5mfahI35xgdOnp37VPbafe3OupqmqCCI28Lw20EDmQAMQWdmKrydqjAHGDyc8Lpui+T4WGkahskDxyRS+WTgqxPTI9DUu9tNyla+uxWOtamukHV2tLcWwj842nmHzhHjOd3Tdj+DGM8bu9SXmuSHUbS0sGtU+1W5nhmumIWbphEA6nByT2GOD2gttN1a1so7NbLSZmiAjW8kZssoGN7RBPvewcA+o6Vd1K1vpmMUdpYX9hJFse2uiUCsM8/dYMDwMEDGO/Sm7X0Er9QvNWuLZLC3Fqn9oXuQIWl+SPAy7FscgdOBySOmchINUuIdYh07UlgZriNngngJAcrjcpU52nByOTnB6Y5zk8NXcWm6W4e3nv8ATzJtjmJMTI5OYt2CQANoDYJ+Qcdq1LC3vReGS5stPtIlXCiBjI7N67tqhR14wc+o6U+odDOttd1i90abVLewtkihaXEMkp3zhGYEggYT7vGQc+1Mv7m4vdf8O3Vh5PlTwyyR+aDn5owecexFaOm6VPZ+Gn06VozMwmwyk7fndiO3+0KqNo+o21toT2YtprjTITFJHJKyK+YwpIYKT1A7dKno/l+odv67Gjf3N9FNHHbi1hjK5e5uX+UN2UKME/XIx71z+satNq/gueWFIY5Yb1IJl3l13JOoypGMg8H6GtC40q/GuvqS2ljema1SLy7iZl8hlJJ2HY2VYkZ4B+Ude1aHw3fp4X1Cyke0F3cXjXcYj3CIHerhTxkD5cZwfX2p/wBfiHp/WhrXmoTWUmmR3EUUkl3deQxQnCfI7ZGf93H41HHqV9qN3dJpcUCQWshhae4JPmyD7yqo6AZxuJ6g8cZpLmy1DUZNMmuY7aB7S9M7okzOCnluowSo5yw4xjrzTIbHUtJurv8AsuK1ubW6la4CTzNE0UjfeAIRtyk89iMnr2PX+tv+CN+X9b/8AhufE8sGg3V4LEm9s7pLWa0EmfnZ0X5WwMghwwJA6jOKsNqeoWWoWEOpwWxivpDErW7sTDJsZgDkfMCFPzcc44qtL4duZNHuY2mia+vL6G8nfkINkkZ2r1OAkYA9TzxnjR1TT5b660uWJkC2d358m4nlfLdcDjrlx+tNf1+H/BF0fz/4BUg1m9vNUuoLWK1xa3AiktpJSs2zj976Ac5AxyB1HSttt207MbscZ6ZrnNY0jVdUhktpIdPdhLuttQLss1sCc5Vdh+ZRwCGGe+OldJS6B1OT8P6hLpXhe9vb9UeGK8uiEhBLu5uHG0Z45JwPrWhd6pqml2H9o6la2xtUAa4igkYvbp3bJGHx1IwvGcZ6FsXh1pPDN1pd3KqtNczTpJF82wtM0iHkdRlePUUXtlrOr6c2m6hHZQQTjy7meCZ2Z07hUKDaWGRyx25/io6j6v5klzquoSeI30rTre32paJctczMcDczKF2jrnb1zxzWvIZRbsY1UzbDtBPylsevpmqMOnSReJbjUMp5ElnFbqoJ3Ao7k9sYw47+taNHQXX+uyOau/GMdr4d0/U/sryPdMBJAp+aELkzE/7gVvqQB3rRuNajg1U22FMENm13cz7v9WucLx3zhz/wGqlh4a+y+IdQvZ5FltJg32aDH+qMmDNn/eZQfzpuh+GDY6Tf2epzfavteYdw6i3C7I0z6hevuTQ720/ry/UelyVNT1mXSxqcdhB5RTzVs2kImZOud33Q+P4cYzxu70241+ee70iHRoIpo9Ut5J1nlYgRIoQgkDrnf04+tLHbeIIdMGnIbJtqeSt8ZW3bcY3mLZjd7bsE88dKkg0H7FqGkNaFRaadZy221id53eXtPTn7hzT0v5f8P/wBK/UWTU75tSj0u1iga8WATXUzE+VCpJC4HViSrYGRgA89M0rKe7fx9NHf26xvHpw2yRtlJVMnUZ5B9QenqavXenXkGu/2rpYgkeaFYLmCdygZVYlWVgGwRuYYxznqMVFZabqh8SzarqElsiPaC3jghYt5RD5zuIG7P0HpjuUt0/X8mD2a9PzQaLrN7q3lzrFa/Z2dkliWU+dakZwHHc8cjjGe/WtyubfSNVvL/T572HT4ri0lDSahA7ebKg6qF2jAbuCxA9+K27I3xSX+0Ut0bzW8ryHZgY/4ScgYb1HSjoHUpeLP+RM1r/rwn/8ARZqC81W50zS9GSytUuZrySO3CvJsC5jZtxOD021f1uyk1Lw/qFjAyrLc20kKFyQoLKQM47c1XutKnnXRQjRj7BcLLLkn5gInT5eOuWHXHFC3fy/Ub2Xz/SxJPPqlvaxApaNKzkSTs5SKJezYPJPQYz+Iqrba+0sGrxzpDJPpqbmML5jlUpuU+3QgjnGOpp2saVc3Wr2F/bxW10tskiNbXTlVy23Eina3zDaR06MeR3qWWhagr67LdLZQNqcKRxRW7MVjIRl+YlRnqDkD8OOZlfldtwVuZXJ5tdvPtGj21jZRPJqVs8xZ5CqwhQh5wMkfP09cdOos2Wp3LaleadfxRie2iSdZIidkqNuAODypBQgjJ7c+kcGj3EWoaPOzx7bGykt5QCclm8vBHHT5D6dqmGmzf8JFd3+5PKmso7dRk7gytISTx0+cfrVz628/1sKPwq/kZ6+I7qTTtAksrCN5dXQHY0u1Yf3e/OcHgY9KvWeo3Q1qTS9Rjh8zyPtEU0GQrru2sCp+6QSO5zntVSw0G6tbXw3HJJCTpUWyfax+Y+SU+Xjnn1xxU+pJ/Z+qS69cOFtLXTpFkC5L/eD5A6dFPeiVlLTbX8gV2vu/Mov4j1FtCi1uC3tRZyyKqxOW8wIzhA5I4zyDsx+JNdMu7aN+N2OcdM1xGn6Pe6ZpsV3e6XBdrb5uXzqkuWbJYyeQVMQkzzw2Aehrs7W5jvLOG5hz5c0ayJkYOCMj+dAXMJvEjJ4etr8QwwfaLprcvI+IoBvZd7H0+X2yWAyOtbNhJdyQt9ujhVw2EeF9yyrgYYA8j6c9OprMs9N1TTNDt7a0a0lmjmkeWOVmCSozscbsEqfmBztPTHfNP0HSptOuL+WSK3tIrmRWjtLVi0ceBy33V+ZjycDt360kHYXVdXu7PWdP06xsluZL1JW3vJsWIJs5PB4+bt3wO+Q6LUru21iHT9Uih/0lGa3uICQrsvLIynlTjkcnOD0xzQ1xbw+MtFbTmiEqW10xjmyFlGYhtJAJXrnOD06GriaffX2t21/qi28Edkr+RBBIZNzsMF2YquMDIAA7k57AW33gxlvq+oanave6ZDafZtzCBJ5CHuACRuyBhASOOGyMHjpUcviWW4h0Z9ItVlOqsy/v32+TtQsScA5I2kY9e/eo7PRb7SLU2NlYabd28bH7PLPIY3VSSQrARtnbnAIPOO3Wr8ul3El9o85aAfYi7TCNSgYtGV+VeccnoT07mjp/X9f1oD3M3XP7R/tPw5uNqZftr5IDBSfIl/TH61ovqV5c6pLp+nRQ77ZFNzcSklEZhkIqjljjk8jAI65xUup6fLeahpU8TIFs7pppAxOSDE6ccdcuP1qCSwvrLWbi/wBLW3mS8CfaIJ5DHhlGA6sFbORgEEdgc9iA/wBP1ILjxHNZ6brDXVoi32l25naJZMpMhVirKcZAO0ggjgg9eCZLnVNS0/w7e6rfW9vmG1NwlvG7EghSdrMevbkAVXu/D97f6ZrT3LwLqGqWv2ZVViYoVCsFXdjJ5diTgdenFaWt6fLqXhq+0+BkWa4tXhRnJCglSBnA6UdBq11/Xb/gmbd63rNj9gMunW8p1GQQxxJMQYHKlhvYjkYU5IHGOAetW4dYmt769tNXWFPstst158JO1oyWByp5BG31Oc/hU2o6dNeT6S8TIBZXQmk3E8r5Tpxx1yw/Wo7nRftusXk1zsa0urAWjoCdx+Zie3TDUO/Tz/LT8RLZX8vz1/ArHWtTXSDq7WluLYR+cbTzD5wjxnO7pux/BjGeN3ep31ma81FLLRkikP2dLiW4mJ2Ro+dmFHLE4JxkYA69BVW203VrWyjs1stJmaICNbyRmyygY3tEE+97BwD6jpVmfTby01xtT0pbeTz4UguLeZzGCEJKurANgjcwxjnjkY5btfyFrbzKemzXcnjy8jv7dYpI9PiAeNtySL5j4Ydx7g9PU9a19W1P+zLRHSEzzzSrDBCG273boCew6knsAevSqWnabqY8S3Oq6k9uEmtUgjghZm8razH7xA3Z3ZzgemOMm3rOmtqVtD5EqxXNtMtxA7LuUOueCPQgkH60ui/rqPq/66FebU7/AEya2OqxW721xKsJlt2YGB2OFBB+8pJA3DHJHy+kcWq6pf6rqVpY21vFHYTCPz53Y+YTGr4Cjp97k5444PZbix1PWHtotUhtbW1hmSeRYJ2laVkO5V5RcLuAOeScYwOtWtM0+Wyv9VnlZCt5dCaMKTkKIkTnjrlD+lC8/wCtv+CA/RtS/tbS0umh8iTe8Uke7dsdHKMAeMjKnBx0pl/dX0V0I7YWsEOzcbi5k4Zs/dCgg/Uk9xwexoeny6Zp8kE7IzNdTzAoSRh5WcdR1wwzVG40q9i1+71CC0sb9bmJFT7VKY2h25+UHY3ynOe3PY0PcO4ieKPM8NpqKWqtcPcizEIl+TzfN8r7+Pu55zjp2zxU8Oo6jH4ji0y9W1ZJLdp1liDAkKQCuDnHLLznnnpWDPpN3ZeHrbQpvImvb7UJZxHEWSF0EhlKs33kGMdMkHHUZq9bSjw5dpJqunpEbvMQuk1CW8cbUZ9pMqhguFYgDIz6UXW7/rT/ADDyX9a/5D7jxHqH9h3ms2lvbfY7WSRfLkZvMdI3Ks+RwD8pwuDnjkZq3capqX9uQ6VZ29uXe0+0SXEjNtQ7tuAo5OfqO9YWl6ReyWS30mmQ3kNxIbsCbU5YzIGbepeAK0W/BHfGQOR23tNH9qalbeILcgWlzp6qiPw4JbdyOnT3o1ur/P7n+oN6Nr+tf8h8mqXc2ptp1klussESPczyklEZs4VVGCx4J6jAx1ziq8niY2mn6m95bL9r07buiikysof7jBscAng5HBB64yX3Wjzw65NqNjb2l0t0iLPDcsU2suQHVgrdjggjsDn1pa3HdDw7JZXMFpDdanMttDBaglDkZKu52kgqr5YAEA8AkcnQC8dR1W21uxsryOzMd4rkPFuyhUAleevGfm46dBUWq67faXa3d9PFZpBa7mNu0376WMdWBHAOMkLg54yRnitaxPoN5BcajpkaiZ1tUuE1OW7eIuwAAEqjapOM7T6cccVbjwxqp8M3ujQW2lvJcLKv9oSyNvffk72UJ97nH3j689KPQFvqaGqPdv4v0V7TyCjW9wV8zd6Jnp+FXZdTuZ9Wm0/TVgU2yK0885JVWbkIFGCxxyTkYyOueI7/AE6/F5pl5p6280tnHJG8U0rRqwZQMhgrdCo7dCajl0i6g1ibULW1srn7YifaYZ3K7HVcbkbY2cjAwQOgOe1HUFe2oHxMLexv2vLb/TLKVITBC+4StJjy9pIHDFgOehz6ZNDxVPrEXhiU3ltbSRytGsi27tugy646/fHqfl+hrRn0a41LRJre7FpZXDSpNCbVSywsjBkJJxvwwyeF4OPeq+sWHiDWtJNiyafZ7mRpJEneTftYHaAUG0HHXn09wf1/X9egdP6/r+tTpK5m48R6h/Yd5rNpb232O1kkXy5GbzHSNyrPkcA/KcLg545Ga6OeZLa3knlOI4kLscZwAMmuK0vSL2SyW+k0yG8huJDdgTanLGZAzb1LwBWi34I74yByOyvqPoazM3/Cf2bSlQ39kylivT/Wx+tTWmqapqlgNR021thbON1vFPIwedOzbgMJnqBhuMZx0CWUX9s6tY+IINv2KbTWjEb8P87Iw46dAc80ljZa1o+nJplillPbwL5dtcTTMrInYMgQhiowOGG7H8NPZW9fzYut/T8kUNR1d7668M3+l2rTPcSzBIpG2bD5TA7zzjaQc4z04zWt/ad5Y6pa2mqxwtFeMY4biAkASBS2xlOcZCths846DiqMvhu8tYdEXSLmLfpskkkjXAP78srBug43Fjz2z0OMG21hqGp6rZXGqJbW9vYuZo4oJWlMkhUqCSVXAAZuBnJIPGMF9RdBmq6xqGnQ3l0YrNIbVWdYJZ/3s6KMkgjhO+Bg5747Q3U6XPjPw9PFkpLZXTrn0PlEVUk8O6mmkajp0Ntpkz3bzEX88jeYRISQWXYcsMhfvdAOnStOLRbhNT0S4LxbNPs5IJQCcszCMArx0+Q9cdqUf6+5/wDAG9/v/wCAXNb1JtI0xr4RCSOJ0M2TjbGWAZv+Ag5/Cqtz4ijt/FFrpHksyzR5e4B+WNzkxof94I/5D1rVuII7q2lt51DxSoUdT3BGCK5q08KXUPhW5s57xZtUkcSx3ZBwHjwISfoETPvu9aALkviQpFeyx2plWK8WytVVsG4lOAeewDEgnn7rGpLjU9Q0treTVYbd7WeVInkt2bMDOQq5B+8u4gbuCMjjriP/AIRwjw3Z2MdwFu7R0uEuCuQ04O5mI7hiWz7MaW5sdU1kW9vqcNpa2scqTSiCdpWlKNuVRlFwNwUk89MY701vZ/0v6uA7+1NSufEF7p9lb26RWaxM08zsd5cZ2hR06dc+nBp0Wp3+o3l2mlw2629pIYTNcEnzpB95VA6AHjcc85445sWdhLb61qV47IY7vytgBORtXBzVOCw1PSbu8GmRWt1aXUzXCpPO0TRSN94ZCNuUnJ7EZPWpQFXwzfbf7dudSVLFhqREiySDapEUQ4bjIPY8ZBHA6VpvrKDVrG3jMctrfJIIriN9w8xOdnHHK7j/AMBNRaBpd5p41FtTmhnlvLw3AMSkAAogxg+m3HfjFP8AEWlT6po5i06Zba9hkWa1mYcJIp7+xGQfYmn0XovyDq/n+ZX0/wAVW15PqoljMEOnkuszHiaJcqzj2Do4/AHvRFrl7cpp9vDZIl/eW/2mRJHOy2j4+9gZLZIGBjJB5GKral4RFxZ6Va2MwhitALe43cma3OC6fVii/r61o3+nXQ1aHVdL8lrhITBJDOxRJYyQR8wBKkHkcEHJHuD+v69dPxD0/r+tfwFttTuI9X/szUoo1meFpoJoSdkyqQG4PKsCy8ZPBznqBU0XXL2/0OLWtRht7Oye3MzIGZ3VQM7s4AxjPGPTmrFvp93ca0up6oIY3ghaG3ghcuFDEFmZiBknaoxjjB5OeF0vRfI8IW+i6hskxaC2m8snDDbtOCRSd+Xz/wCH/wCANWvqVX1HWZ9Dk1EafCIpIi62fmHzthGc7vu7sfw9M8bu9W/Cv/In6P8A9eMP/oAqolp4hTR/7MDWJKxeSt+ZG3FcYDmLbjd7bsd/atPRbKTTdBsLKcq0ttbRxOUOVJVQDjPbiq01t5fqTrpfz/Qu0UUUhhRRRQAUUUUAFFFFABWfd/8AH9/2zX+ZrQrPu/8Aj+/7Zr/M0ASRdquR9KpxdquR9KAJ1qQVGtSCgB1LSUtABRRRQBjy1Xi/4/of94/+gmrEtV4v+P6H/eP/AKCaANKiiigAooooAKKKKACiiobu9trC3869njgjyF3O2Mk9APUn0oAmoqrZ6lZ37SLazq7xY8yMgq8eem5TyM+4qFNe0uSZY0vYiXfy0fPyO+cbQ/3S2ewOaANCiiqd1q1jZz+TcXCibbvMagsyr/eIGSF9zxQBcoqAX1obD7aLqE2mzzPP8wbNv97d0x71Daazp97OILa5VpWXesbAqzr/AHlBxuXkcjjmgC7RWfNr+l280kc19EhibbKxPyRH0duin2JFXBcwm6NuJFMwQSFM87ScA/TINAElFV31C0j+1b7iNfsa7rjLf6oY3ZPpxzUEWuabNBNPFeRtDAnmSS87Avdg3Qjg8igC/RVO21ewu1le3ukeOJd7SdE28/MGPBHB5HHFNtta068mSG3ukZ5AWjByvmgdSmfvD3GRQBeoqhPrmm21w8Et2nnxnDxJlnXgHJUZOMMDnpyKsLf2jWH25bqE2mzzPP8AMGzb/e3dMe9HmBPRVK01nT72cQW1yrSsu9Y2BVnX+8oONy8jkcc0yTXdMhmeKS9iUxvsds/Ijf3Wb7qn2JzQBoUUVRfWtOjvPsr3cazbxGQTwHPRC3QMcj5c59qAL1Q2tnBZRultH5avI8rDJOWZizHn1JJrJ/tpU8Zy6dJcYiFpGyx7P+Whdh1x6Y9qvXWt6bZTPFc3caPGA0vUiIHoXI4Qe7YoW1w62L1FYeuayNP1PRY1uNkdzcssoC7t6eTIR2/vBelaIkR9Vj23zfNblhaYXDDcP3nTd3x1xz0oAt0VRh1rTri8FtDdxtKzMqjPDlfvBT0YjByBnHeqOia0L7WNXtZLjzPJuwkC7MbU8mNiM4/vFutC1A3KKoW13b22my3FxqYngjkk33MzIoTDEFSQAPlIx68c0+01exvZzDb3CmYLv8pgUYr/AHgpwSvv0oAuUVStda069uBBa3cckjAsgB/1gHBKnowHcjOKbr062/h6/kdigFu+GGeDtOKmTtG44q7sT2moWeoI7WF3BdKjbHMMgcK3ocHg1YrD0jUNKsvDVndSTW9tEIIYnlcCMZCjAJOPWtFNVsXspLw3KR28RxJJLmML9d2MdRVyVm12Ji7pMt0VUtdVsr2Yw29wpmC7/KYFHK/3gpwSPfpUE3iHSbeWSOW/hVoTiXnIi7fOR90e5wKQzSoqjHremy3i20d5E0rOUUA8Mw6qG6Fhg5AORir1ABRVCLXdMmuVgivI2d3MaEH5XYdVVuhYYPAOeDV+gAqC8srfULVre8iWWJiDtPYg5BB6ggjII5BqtLr+lQTPHLfRKY22SMT8kbf3Wb7qn2JzU93qVpYmNbqZUeXPlxgFnfHXaoyTj2FAFaPw/YJcRTOLid4SDGLm7lmVCOjBXYjd/tYz71pVVj1SxlsJL2O6ia2iDGSUNwm372fQjuD0qOHW9Nnhmmhu42hgQyPKM7Aozlg3Qjg8igC9UF5ZW+oWrW95EssTEHaexByCD1BBGQRyDVX+39K81Y/t0XzP5YfPyF842b/u7s8bc5q79oh+1fZvMXztnmeXnnbnGfpmgCjH4fsEuIpnFxO8JBjFzdyzKhHRgrsRu/2sZ960qhF5btNPEJk8y3AaVd3+rBGQT6cA1DZavYahIY7O5SR9nmBeQWTs4z1X/aHHvQBcooqld6xp9jMYrq5VJAu9kALFF/vMBnavucCgC7RVW41SxtLaK5ubyCKCX/VyvIArfKW4PToCfwpLPVbK/leK1nV5YwGaMgqwB6HacHB7HoaALdNSRJV3RurrkjKnIyDg/rVKfXdMtp5IZryNWh/1pzlYv99ui/iRVPwgc+H8jkfa7r/0okoA26aJEZ2RXUsmNyg8rn1rFfWli8Zf2e9xiL7GG8vZ/wAtC+OuPT8Kr2+pWlh4r1oXUwR5PIKIAWZgI+SFGSQM8ntS6Jh1sdJRVeO/tJbD7dHdQtabS/nhxsCjqc9OKitdYsLycQ29yrSspdEYFS6j+JQcbhyORkc0wLtFNkkSGJ5JWCIilmY9AB1NVLPWNP1At9iuknVV3b0yVI9Q3Q474PFAF2iqFvrmmXU0cUF5G7S/6o8hZeM/Ix4fj+6TTrvWdOsZzFd3ccTqoZ9x4jBOAWPRQT0JxmgC7SMwRSzkKqjJJOABTPtEP2r7P5i+ds8zZnnbnGfpmqOr3MEuk6rbxyq00Nq5kQHlNyEjP1xUydotjiruxoqyugdGDKwyGByCKWuSg1j+zrDwlB5/lx3ESCZdmdyi3Yjt/eA6V0QkVtWTbfN81uWFphcMNw/edN3fHXHPStJK0rERd1ct0VmHxHo4/wCYhCVyAzg5RCegZui59yKt3d/a2KobqZUMh2xryWc4zhVHJOPSpKFvLK31C1a3vIlliYg7T2IOQQeoIIyCOQaqR+H7BLiKZxcTvCQYxc3csyoR0YK7Ebv9rGfep7HVbLUw5sLhZhGdr7QflPcH39qW91Oy07y/t1zHAZSRGHPLn0A7n2FGwFqiqcmrWMVpFcyXCpHMdse4EM7f3QvUng8YzxT7bUrO7gkmt7hHSIkS84MZAyQwPKnHODQBZorN/wCEj0jg/wBoQlCQDKDmNSegL/dBORwTnmrF7qdlp3l/brmOAykiMOeXPoB3PsKALVFU5NWsYrSK5kuFSOY7Y9wIZ2/uhepPB4xnipLXULS9ieS1nSRYztk5wYzjOGB5U47GgCxRVKz1jT9Ql8qzuklfZ5iqON6dNy5+8v8AtDIptxrumWs0kc95Ghi/1p6rFxn526J/wIigC/RVW71OysFQ3t1FAJM7C7gbvp69R+dJb6rZXcczwThvI/1qEEPH3+ZTyPy5oAt1CbSA3wvDH/pCxmIPk/dJBIx06gVl+FtX/tXQYZ55/NnAYyMV2/xEDsB0FXLbW9NvJ0htruOR5ATFjIEoHUoej4/2c0AXqKw9L1pbrxFqtk9xvEMyLCmzG0eWCwzj1z1q/Z3EMWnyzy6l9phjkkL3EpRQmGIKkgAALgjn05o8wLtFUrXWLC8nENvcq0rKWRGBUuo/iUHG4c9RkU2fXdMtp5IZbyPzozh4kyzJwCSVGSBhgc9ORQBfoqq+p2Udgl611F9lcKUlVgVfd93bjrnPGOtPs762v4mks5llVGKOBwUYdVYHkH2PNAE9NeRI1BkdUBIALHHJOAPzqG8v7awVGu5QnmNtRQCzOcZwqjknAJ49KxfEt7bXXhy2uraeOS3N/aESqwK8XCZ59sHNHUDoqKpWms6ffXAhtbpHkZN6LyN6/wB5c/eXkcjI5outYsLOcw3FyqyqoZ0UFjGp/ibGdo9zgUAXaKri/tG+zbbmJhdf6gq4Il43fKe/HP0qRbmFrp7ZZUM6IHaMN8yqSQCR6HB/KgCSiqr6pYxWstxJdwpDC5jkkZwFVgcFSfXPGPWktNUsr6R47adWljAZ4mBV1B6EqcHB9cUAW6KoQ65plxcJDDeRu0jFYyD8sjDqqt0YjB4BJ4NOuta06yuDDdXccTqAXyeIweBuPRc9s4zQBdoqvd39rYRq13MsYdtqA8s7dcKByT7Cizv7W/jZ7OZZQjbXA+8jdcMOoPPQ80AWKKq3rBZrQNfNalpsBFC/vztJ2HIPYE8YPHWop9d0y2nkhlvI/OjOHiTLMnAJJUZIGGBz05FAF+isLX9cjtNLsbqyu02XN3bqssYDq8bSKGweRgqTz+VakupWcFmt1PcJHAxAV3ONxPAA9SfTrR0uBZoqtaajaX3mC1mV3ix5kZBV0z03KeRn3FRWWt6bqMgSwu47jcu4NHllPr83TPI4zmgC9RWf/bul+f5X22LPmeVvz8m/ONm/7u7PG3OalvdWsdOdUvLhY2ZS+3BJCjqxA6KO5PAoAt0VhazriWeoaIIbpRDd3B8wqu4SR+TIwwcHjcFPFaQkR9Vj23zfNblhaYXDDcP3nTd3x1xz0oAt0VmN4j0dM51CHapw7g5WM5x8zdF59cVbu7+1sVQ3UyoZDtjXktIcZwqjknHPFAFimtKiyIjOqu+dqk8tjrj1qtY6rZamHNhcLMIztfaD8p7g+/tWZrH/ACN/hz/fuP8A0VQBvUVQiuoLaK8muNS86KOch2k2gW54/d8AcDI65PPWlttb027uFgt7yN5JATGAcCUDqUPRse2aAL1NkjSaJo5UV0cFWVhkMD1BFVbrV7Gzn8m4uFEoXeyKCzKv95gM7V4PJ4qR9RsorAXz3cItWUMs/mDYwPTB6HORj1oAo/8ACMaYYRAyXL24/wCXd7yZoiP7pQttK/7OMe1awAVQFGAOAB2qtZ6laX7SLazBnjx5kZBV0z0ypwRnHHHNRWut6bfTiGzu453OR+7ywBHUEjgH260AXqKhu7y3sbczXcqxRggbmPUk4AHqSeAB1qGPVrCSxmu1uo/IgJEzk48ojqGB5Uj0NAEz2cEl7DdvHmeFGSN8n5VbG4fjtH5VIJEaRkV1LrgsoPIz0zTLi6gtI1e5lWJGdY1ZjgFmOFH1JIFYMOoWtj4w1j7VMqNJFbCNMEs5xJkKo5P4CgDo6KrW+pWV1ZvdQXUTwR58yTeMJjqG9CO4PSo7XWLC98wW1yrtGgkZcEMEPRsHkqccEcGgC7RWF4b1xNQ0eSe6uQ7xSzl2ZdoVFlcL2A4UCr1vrmmXUcklveRyRRRmRpVzs2jqQ3Q474PFAF+ioZry3t7T7VPMkcHB8xjgckAfnkVHeanZ2DxpdThZJMmOJQWdwOpCjJIH0oAtUVg69r8MHhs3+m3sbBpo41ljw4/1ihh35xke31rWW/tWWAiZR9ocpFnguwBJAB9lJ/CgCxRUTXUCXUds8qieRWdIyeWVcZI+mR+dVodb024uvs1vdxyyh2jKx5bawzlSRwDweD6UAXqKz5Nd0yGZ4pL2JTG+x2z8iN/dZvuqfYnNT3mpWlhsF1MEaTOxACzNjrhRkkDue1AFmio7e4hu7dLi1lSaGRdySRsGVh6giobvUrSxZEupwskmfLjALO+OuFGScewoAtdKr2d/Z6hG0mn3cF0ittZoJA4B9CR3rN1vU7Sbwdqd1a3KSRfZpVEkbZw20jHHQg8e1WdDa1k0m3ks1QDykRiqbc4UYH4ULr8gfQnv9NtdSiRLyMt5bb43R2R42xjKspDKcEjII4NV7bR9OjvWnXzLi4jGzdcXLzmLI5ADsduRjOMZHWqr60sXjL+z3uMRfYw3l7P+WhfHXHp+FVbDU7Ow8ReIEupwjtdRsqAFmIFvFk7Rk4Hc9BQtVf8Arew+tuxof8IxpYh8hUuUt/8An3S8mWID+7sDbQv+zjHtWpHGkMSxxIqRoAqqowFA6AColv7RrD7ct1CbTZ5nn+YNm313dMe9RWur2N7P5NvcKZSu9Y2BVmX+8AcZXkcjijyEXKr3thbajbeReRCRNwYckFWHRlI5UjsRgin3NzBaQ+bdSrFHuVd7nABJAH5kgUr3MMU8UMkqLLNny0LYL4GTgd8CgClDoNhFdRXBFxPJDzEbm6lmCHGMgOxAbBI3deetaNRfa7fz5YfOTzIUDyLu5RTnBPp0P5VVt9c026mjigvI2aX/AFXUCbv8hPD8f3c0AX6Ko3etadY3Jt7m7jScIH8kZZ9pz820c44PPtTrrVrGzmSKe4USuu9YlBZyv97aMnHv0oAtLIjOyq6lkOGAPK9+adWDoFxDd65rk9rKk0TywlZI2DKw8lehFbJuYBdramVROyGRYyeSoIBIHoCR+YoAlIDAgjIPBB71k/8ACMaWIfIVLlLf/n3S8mWID+7sDbQv+zjHtWj9qgNzJb+annRoJHTPKqcgE+gOD+Rqrb65pl1NHFBeRu0v+qPIWXjPyMeH4/uk0AXY40hiWOJFSNAFVVGAoHQAU6ql3qtlYzLDc3CrM67liUFnK922jJx79Ky9d1+G30qyu7C8Ro7i8gQSx4dXQyqHGeR0JFG7DY36KrS6jZwWYu57iOKBiAHc7ck8ADPcntSWepWl8zpazq0kePMjIKumemVOCM+4oAtUVRttb028ufItLuOeTcVPl5YBh1UkcA8dDzVm5uoLO3e4u5UhiT7zucAdqAJaKqW+qWV1BNLDcKVt8+cGyrRcZ+ZTyvHPPaoP+Eh0ncP9Ph2lgvmZ+QMeil/ug8jgnNAGlRVe81C1sAn2uZYzIdsaclnPXCqOSfpS2t9bXtt9otZ0liBILKfukdQfQjuD0oAnorPt9e0u6mjigvYnaYkRHOFlI5Oxuj9P4Sadc61p1nM8VxdIrxgNIBk+UD0LkfdHucUAXqKRHSWNZI2V0YAqynII9QaWgAooooAKKKKACiiigAooooAKKKKACiiigAooooAKz7v/AI/v+2a/zNaFZ93/AMf3/bNf5mgCSLtVyPpVOLtVyPpQBOtSCo1qQUAOpaSloAKKKKAMeWq8X/H9D/vH/wBBNWJarxf8f0P+8f8A0E0AaVFFFABRRRQAUUUUAFc9rkiWfiTSdQ1AhNOhjmRpX+5BK23a7Hoo2h13HoWx3roaKOoGBq15Breh6taaBcR3N79lZN0ByMkHC7xwG68ZyM5qrqOraLeeEZtPs3hlkltzbw6cmBMH24VPL6qQcdQNuMnGM11IAAwBgUYGc459aVrqw07NMoW9neCK1M+oTB440EsaqhV2A5OSpPJ96ydLv7PRr7VotZuYbO6mu3nElw4QTREDYVJPIVcKfTHvXS0EA9RmnfW5KVlY4aSCQ6dPfLA50ltaW78kRkloAAGfb12+YPM6cjnvXTxa3pV/cJBp99b3Vw6Fo/IYS7Bj7xK52j3OM9K0qAAOgxR0t/W1v0H1v/W9zlPD2r6VpXheCx1S5htry2Ty7u3lI8xpTncdnV95yRgHdnjNWbi+ttO8ZrcX0yWtvdaeqRSzHYpZXJK5OMHDA468H0NdFgZzjmggEYIyKOtw6WOClvoNRs/Hc9o3mQm1ASQD5XAtzyp7j0PQ9q3fEUaR/DjUY41CoumOqqBwB5fSugoo6WGnZp9v+B/kYHie1lfwqkdpEWiikgeWJELboVdSwCjr8oPHcDHeobi803WpLK3TXLaeQXCTwrZqHkBQ5zwTtXqpJGMEjvXS0YA6DrTvr87kpWVjB0OJB4m8SShAJGuoVZsckC3jwP1P51iiIjw6H8tpLO116aW5iRS37pbh+do6hW2sR6Ka7iil28rfhb/Ip6q39bNfqZa61pmoSrb6bf21zdPGzRGBhLsGPvErnaPc4z0rA0fULK08KQ6bqepWdrNFAILq0nT97vIww27ssWOSCAd2cjOa7MADoMUYGc45o7iKumWws9JtLZZZJhDCqCSUYdgBjLD1rl73U7XSmvpdNvonl+1bpdHu0G+SQt/yyHDAsRkE7geoArsqMDOcc0763DpY524vrXT/ABwz39xFbLNp6JEZnCh2ErZAz1PzLx7iqM2tRH+2Eu9Qs9MdJnj+yeUpllGMKxBOXLgDGB0wOcV2GM9aMDOcc1Nvdt6/i7jvZ39PwVjh7S4S38MeB7u8lEcMflebNK2FXNq6jJPTJIHPc1spcRXPjS2uLaRZYpNKdkdDkMDImCD3rfIyMHmirbvLm9fxRNtLen4O5xtnqdrYPYQaRfw3sEt0Ixps6D7Tbbid23GCoTJJDAnH8QrQ0e9tbbxLrlncXEUVzPfK8ULuA8i/Z4+VHUj5W59jXRYGc45oxznvUrT+vT/IZw0aldEsbqZS9la67cy3ahd2F86YKxHorlWPpjPaumTWtJvZjFaXUN7KIWfFsfNwnuVyBntkjPbOK06AAOgxR0sPrf8Are5x+l6lbWdxpNjpOoQalaSMYo7Z1BubRQh5JHQLgKQy555bPB6PWv8AkAah/wBe0n/oJq7gZzjmilJc0Wgi7NM5bUY0l8L+HkkUMpurHIP+8tXPEylJtJu50L2NreebcgLnYNjBXI9FYqT6de1btFU3dt+d/wAv8iUrK3lb8/8AM5vUb201nVtHXRriG8nguhO8tu4cQw7GDbmHTdkADv17HDNNhj/srxL8i/vby538fe+UDn8K6cADoMUVDV013v8Ajb/Iq+qfb/g/5nISRRw+A/DiRIqKk2n7QB0y6f4n866m8leCxnlihM8kcbMsQ6uQMhfx6VNRVyfNfzbZMVa3kee6lq0Nz4c0tY9XspJnurRhZ2kQXysTJkbQSyhehz344ziu/mDtA4iO1ypCk9jjin4AJIHJ60UnqmhrR3OV8P6xpGm+FbWx1G4htrq3iEV1aSn96Zf4vk+8xY5IwDuzkZzU63Nvpni+9uNWkS3S7ghWzuJjsUqu7dGCejbjux1Oe+Djo8DOcc0EZGDzTbu7h0scTqTJe2nizUdPKtp82leX5qfcnlVJNzKehAUou4dcY7Vs67GsXw91GONQqLpcgVR0A8o8Vu1S1qyk1LQb+xhZVkubaSFGfoCykAn25qX8LRUX7yb/AK2/yMCXV9DbwWbCPyizWnkJpgA87eUwI/L65/8A19OaWCY6Nr2mNrlwkJk0kQNcSuFRplYFl3HjJySPXB9K6iGPy4Y1bBZUCkj6U8gEYIyKp/Ff+uv+Zml7qT/rb/I46wvrDU9W8WS4e6sWggRzEpbzk8ts7McsOSAR17VY0vVo49WsrK01O21i2eByJVCma3VQOXZeCpwF+6pyO/bqaRl3KwGV3DGR1pbbFEFhf2up2Md5p86z28oykiHhucf0rn31qNNX1SO81Cy0nyJFRY5EXzZ12LiQkn5gSSowO2OTwOisrSGwsYbS1XbDCgRBnPAqbAPUUPcEcFpSLP4V8FrMu8C/BAdcY2xzFeD0xgfTFdDejHjnSWHDNZXQJ9Ruhrcop9fv/KwHK+HdT07StC+watcw21/C7i6hlYB5XZjlwp5cPnIIznOParHgQRr4QtxDCYIxPcBImXBjHnPhSO2OldFgZzjmikBz15fWuneN0lv7iK2jl08ojzOFDMJRwCep5HHvUmlxIPGGvShB5hW3UtjnAQnH61ukA9RRQtEkHW5w9xDK2jXxhQtBb68Zp41QvmMOGY7R1AJ3Ed8GtWS707Wb3T449atrmaKdbiEWah2GAcklSdqkEqScDnGcmujoAA6ChaJL0/BJfoD1b+f43/zKWtf8gDUP+vaT/wBBNYt/ZzS/DOO106Ik/YoR5SLkugClkA7kqCMd8109FLv52/C/+YdvL/gf5HL3d9pes2cNmut2zmWVDDHax5mR1YEYUElcEDORxznFN1a8srDUtRng1WCwu/LUz2t+gMVyAvDAEhjwduVOM8EE11WBnOOaCAeopsEcuupxweI9P1DVAunR3ulhV89gqpJuDGMk4G7B6d8H0qnbX9vqN94xns382H7LEqyAfK/7p+VPce44NdoQCMEZFFKS5ouPr+I46NP0OPNxDaab4MubqVIYI9oeWRtqpm1cDJPAyeK0kmjufG1rNBIskUmlOyOpyGBkTBBreIyMHmirbvLm9fxRCVo8vp+DOT0i3hX4YzRiNQj21yWXHDEl85qre6h/Z154cvGktY3/ALOdN9/cGGJ9wjOA+1sPxnkcgH8O2rGm0++tvEM2p2KW1yLiBIXjnlaNotpY5VgrZB3cjA5Gc1C0f9ef+ZW6/ry/yE8NLHJDe3yXlpdPe3Jmf7HL5kUZCqgUN3OFGTgZJ6Cm6tGj+LNALqGKG4ZcjofLxn9al03TrtdZutU1BbeGW4iSEQWzF1AUsdzOQpYnd6DA9a16YHNarKbDxjb3t7cRW1o1mYYZ5lykcm/LKTkBSw24z12kUqGzvZ9V1Cz1BLt/sRgl+zp+6ONxHzcgsMkYByAeR0rpOtQ3cJnsZ4EwDJGyDPQZGKmXwNev4lRfvX9DldC1rQbfwHZWszQxbbJI3sGA812KcqI+rFuSMA7s5Gc0tjZz28vg6DUxuure3lD7jkqwiA6+o6ZrpNLtGsdHsrWUq0lvbpEzL0JVQDj8qt1pLWTt1M4/Ckc1qspsPGNve3txFbWjWZhhnmXKRyb8spOQFLDbjPXaRTojp17danfpef2gn2P7PcpaREo6jccAjO5wCwwDkZ6ciuj60AY6VHS39al31ucppWqRRapp1hYanb6xbSxOqMApntlVc5Zl4K5AXlQc4yTUOhahBpeimx1bVLOzu4Xf7VDcqFd2ZyS+C2WDZyCOua7HAHQUYB6jpTeolocnFYW9tqHhS3RnnigScwtPGVZR5fy/KQCMA4weRWiAB4+YgYLaYN3viU4/mfzrboo+1f8ArawdLf1vc4/StXhtvAtxDbCK8v7OCZpLHO5+HYYZBzj2xzVa/wBSguLzw9Hb61aXz/b4m8u0RcIu1hngkqvOOT7V3OAO1AAHQULRr5fgD2t6/ic9YX1raeLtYtrq4ihnuJYTDFI4VpR5QGVB68qRx6GsmOJ38MQymNpra31yea6jVSxaMXMnOB1Aba2PRa7fHOe9FGwPVW/rZr9TmdZ1Cy1o6db6LdQXl2t5DOjW8gfyUVsu5I+6Cm5ffdirGgRINd8SShAJGv0VmxyQLeLA/U/nW8AB0FFNaf16f5AcZZ/YU8LJ9vuJLKOPVrkw3UeMW7CeTaSSCoX+HkY5xWv4f1N7281CBpbW8W3ZMXtqu1JSQcqeSN6gDOD3HA6VuUAYGBxSB6u5ia+1lHeWEl1fNptwjP8AZ7ohfLyQAY2LfL83pwTjg8Vi3t7/AGx4UZbhLaaNdXt4fOt0xDdDz48uoJPBJIPJ5B5rtSM9aKFo7gYeugDXPDrDhvtzrn2NvLkfoPyqpouo2Ojf2hba1dQWd6byad2uHEfnIzZR1JPzAIVXjptxXT0EA9RmgHr/AF6/5nGLYznwveX1pA6G31B9R0+ErtbYDkgDtvHmcej1VaWfT7UeNo7eWWa8dg8AHzG3cBYFx6grGfbe9d7RR/X9eoHIz2H9h2/h57877SzleS9lI+VZnUnzm9BvZue24HtmtiXXbCaG7bSni1K6t7Z5BHbnfu4yELDIBY4wCcnrjitagADoMUPW4LQ8/wBS1WC40fRlh1iznla+syLWzjCiMCZAQACSgHTn6d8Vp6te2WnX2qT22qQWl1tVriyv0BjucKAGUZDHIwmVJGR90mutwB0HWjAPUUP+vw/yBHKXN28PiOw1TUXTT7afThHG1wuVglLBmRjkBSRtAz12EVoaUbO91y61Cz1BLt/JWCX7On7o4YkfNyCwyRgHIB5HStvrQBjpTAxPEP8AyEfD/wD2Ev8A2hLTNAiQa74klCASNforNjkgW8WB+p/Ot6iktP69P8gev9ev+Zw25IPBkcjkJDBrpZmPCxoL48n0AH5VoatewtrWkaul7AdKjSeM3XDxRSnaFYkHAGFddx4BOO9dTRR/X4WDd3/re5g2j2WoeIRd22px3U9tbvFILVMoVYqcOwJGQVyBnPJ45qt4dt5m+GFpBppEVxJp2ImHGJGQ4P5nNdOAAMAYFFJq8Wv66/5jTs7nGwX+ly+E00y61K1t1NsLWSyMX7+NtuCnlgli3sAc9Rmrl+1np+pxsdZGnahHZqnnXqr5VygJ+9kjJU5J2spG7ngiumwM5xz60EA9Rmqbu7iWischNqazWPhbU72OOyhF4d5J2xoDDKqnJxhWOMZ/vCtGOeK68bWs9tIssUmlOyOhyGBlTBBreIyMHmii+t/62sD1Vv63ucvoNvEPAFygjXbJ9rLjH3iZJM5rMl1D+zm8L3rS2sb/ANlshe/uDDE+5YiQH2th+M8jkA/h3dY02n31t4hm1OxS2uRcQJC8c8rRtFtLHKsFbIO7kYHIzmktH/Xn/mHT+vL/ACE8NLHJDe3yXlpdPe3Jmf7HL5kUZCqgUN3OFGTgZJ6Co9Y/5G/w5/v3H/oqp9N067XWbrVNQW3hluIkhEFsxdQFLHczkKWJ3egwPWtejoBxGoRrL4Y8UxyKGR9SKsp7g+VxW54jRVOjFVAKalFtwPu8MOPwOK26KO3lb8A7+d/xOT0+9TSdQ1aHVNRtbC4kvHnBugF82IgbGViwyAuFPoRTZLiDStItHtJ4ms7zUWkN5dQERWu7c25QcYBYYVicZcHkYz1xAPUZooWyB6nI6XeR3XxDk8jUY79V0wq8kSjaCJRxkcEjJ+mfetLwZGkfhO0EahQTIxwOpMjEmtwDAwOKKOiX9b3Dq3/W1jI8RmyFlA2o3Mlmq3CtHdpjEDjOGYkFQO3zDHOO9Yl3eXGr+HfEtlAbfUXityEurNMCdih+QjJy64GcH+IcDpXZUAYGBxQPqjjfEviDS7/TNMisL2G6km1GzYLCwcoBOhy2PujjHOOeOtTxX2n2HxC1Z78x28klrbJHcy4Vf48puPAJ4OO+PaurwB0HWgjPWn/n+liTkC1lqV9r96FefRp7KOCaS3BYTuN+9k2/ewrKCw9Mfw1a0nVg+uQWNvqNrrML2zOLmIL5sIBXG9k+Uhs8YC/d6Ht0tAAHQYpDepx+l31r/wAIlqmn/aIvtkZvme33jzFHmycleoHzD8xWmtoZPh8LS0jG59M8uNF9TFgCt3HOaKTV013/AOD/AJjTs0+3/A/yOF1/xDplz4Dhgt7uOW4kFuv2dG3SIRIm7co5XHQ5xg8da1o7q20rxhqUmrzR2/2uOL7JPMwVWRVO6MMeMhtzY9GzXSYAOQOTQQCMEZFU3d3JSsrHNeIL6zvvB91dWEiyW6TRu0yKdpCyoWYHowABO4ZHB54o1vUrOR9G1SG6hlsbXUD59xHIGSIGKRMsw4ADMAT2zXS0YAGAOKQ+hyp1Sz1H4jaalhOlwIbC53yRHcgJaL5dw4zxyO2R61a8LREaBefZ9qSSX14d2P4vPcAn8h+VdAAAMAYFFHS39b3Hc4zR9QsrTwpDpup6lZ2s0UAgurSdP3u8jDDbuyxY5IIB3ZyM5q3cRWOm/wBkpJq0tld29oYre7ulASZcLlH3YBPyqcAq3B5611GBnOOaCARgjIp3u7i8jL8Oag+paOJ3SEYlkRZIARHMAxAkQf3W69T16nrVBLm30rxdqUuryx2/2tIhaTzMFVkVTmMMeMhtzY7hs9jXR0EZGDyKQHHTsl3D4q1GxIbT57AKki/dmlWN9zqe4wUXd32+1dTp3/ILtf8Arin/AKCKsUUd/l+F/wDMHr/Xp/kc9eX1rp3jdJb+4ito5dPKI8zhQzCUcAnqeRx70/Q4kHibxJKEAka6hUtjkgW8eB+p/Ot4gHqKKForev53Dq2cMYpf+EcDxKTbWuvTS3CBC+IluH52jqFbaxHoprWa607WdR05Ytat7meGYXEQs1DnG0g7ipO1SCRk4B6ZzXR0AAdBihaf16f5A9W3/XX/ADK2p2EeqaXc2M+fLuImjJHUZHUe461xMMeoa3aya7cQuuoaKqw26EY3yxnNwV9nxsH0rv6KOt0Hkzintp9T8H3mqLBJI2p3Md3JAFy72quuI8epiXO3uWI71c1/U9O1nRRZaPdQXd7NJGbZIHDNG6uDvIHKhcZJOMYx1OK6mjABJA5PWgDCtEU+P9TkKjeNOtlDY5ALzZH6Cq1je2mkeItaGszw2k11OssE07hFlhEagBWPB2kPkds57101BAPUZoB6/wBfI5jwpLa3Gt+IprGLZDJdxsG27RIfKXLj2J5z3696u+JY3gt4NYgUtNpknnMqjJeEjEq+/wAvIHqoraoo6aB6nHXFjeX3gvVL6ON2u9UYXDRbcsYARtiA9TEMY9WPrVm7vtL1mzhs11u2cyyoYY7WPMyOrAjCgkrggZyOOc4rqKMDOcc0+odDmrK9tNI8RayNZuIrWa6mSWCadwiywiNQArHg7SHyO2c96NfvrO48O217auv2RdRt5Gm2lV2iddz5I+71O7oRznHNdKQD1GaKS0t5W/AO/mc1qV9aNrekaw9xFLpMSTxm5Vg0cMp2hXZugGFkXd0BOO9Pe4t9V8XadNpEsdwLSOUXc8LBlVGA2xlhwSWw2O23PcZ6KgAAYAwKAMPwbGkfhmLYoXdPcMcdyZn5qx4iFkdIP9pSywQCWNvtEY5gYMCrkkEAAgEkjHrxWpRQCOUXVGu7fXLQXNrqEcNiXF7bKBklX/dvgkFgBnjHDdB3Zpus6DF4Ft7OQwp/oaxNpxA81mKfcEfUk9uOc56c101/bG60y6totqtNC8ak9ASCP60WFsbXTrWCTaXhhWMkdCQAOKVr3T8v1HezTXn+hy9veXOmf2Lp+rXNrYSppo33lyoZnkG0NGrEgAjGT1zx6ZrPh83VNF8WjT5jfLJeI2Ylx56eVEXCgddyhgCODn3r0AgEYIyKKpu7b/re4lpYybfxBodz9mhtb23meRgsUEXzOpHqg5XHfIGO+KxtHv4tIivbbVdTs7C7W7mllF0ApkVpCVcEsNy7SoyOmMdq6/AznHNBAPUUgMTR59O0qxsLBbwk3jytaJKhjZhkuVVSMgAHgHtituiigAooooAKKKKACiiigAooooAKKKKACiiigAooooAKz7v/AI/v+2a/zNaFZ93/AMf3/bNf5mgCSLtVyPpVOLtVyPpQBOtSCo1qQUAOpaSloAKKKKAMeWq8X/H9D/vH/wBBNWJarxf8f0P+8f8A0E0AaVFFFABRRRQAUUUUAFFFFABRRRQAUUUUAFFFFABRRRQAUUUUAFFFFABRRRQAUUUUAFFFFABRRRQAUUUUAFFFFABRRRQAUUUUAFFFFABRRRQAUUUUAFFFFABRRRQAUUUUAFFFFABRRRQAUUUUAFFFFABRRRQAUUUUAFFFFABRRRQAUUUUAFFFFABRRRQAUUUUAFFFFABRRRQAUUUUAFFFFABRRRQAUUUUAFFFFABRRRQAUUUUAFFFFABRRRQAUUUUAFFFFABRRRQAUUUUAFFFFABRRRQAUUUUAFFFFABRRRQAUUUUAFFFFABRRRQAUUUUAFFFFABRRRQAUUUUAFFFFABRRRQAUUUUAFFFFABRRRQAUUUUAFFFFABRRRQAUUUUAFFFFABRRRQAUUUUAFFFFABRRRQAUUUUAFFFFABRRRQAUUUUAFFFFABRRRQAUUUUAFFFFABRRRQAUUUUAFFFFABRRRQAUUUUAFFFFABRRRQAUUUUAFZ93/x/f9s1/ma0Kz7v/j+/7Zr/ADNAEkXarkfSqcXarkfSgCdakFRrUgoAdS0lLQAUUUUAf//Z)"
      ]
    },
    {
      "cell_type": "code",
      "metadata": {
        "id": "ab7rRr0W_Q6H"
      },
      "source": [
        "with open('/content/drive/MyDrive/glove.840B.300d.pkl/glove.840B.300d.pkl', 'rb') as f:\n",
        "    model = pickle.load(f,encoding = \"ISO-8859-1\")\n",
        "    glove_words = set(model.keys())"
      ],
      "execution_count": null,
      "outputs": []
    },
    {
      "cell_type": "code",
      "metadata": {
        "colab": {
          "base_uri": "https://localhost:8080/"
        },
        "id": "bM1ZXYZXx4da",
        "outputId": "8e8ef30d-86c9-48d0-bf7d-3c1821a8f1ce"
      },
      "source": [
        "w2v_desc = []; # the avg-w2v for each sentence/review is stored in this list\n",
        "for sentence in tqdm(books_df['book_desc_split'].values): # for each review/sentence\n",
        "    vector = np.zeros(300) # as word vectors are of zero length\n",
        "    for word in sentence: # for each word in a review/sentence\n",
        "        if word in glove_words:\n",
        "            vector += model[word]\n",
        "    w2v_desc.append(vector)"
      ],
      "execution_count": null,
      "outputs": [
        {
          "output_type": "stream",
          "text": [
            "100%|██████████| 1214/1214 [00:00<00:00, 6431.79it/s]\n"
          ],
          "name": "stderr"
        }
      ]
    },
    {
      "cell_type": "markdown",
      "metadata": {
        "id": "lNXzVNjNX7d6"
      },
      "source": [
        "K-Means Hyperparameter Tuning"
      ]
    },
    {
      "cell_type": "code",
      "metadata": {
        "id": "crlaU9sOyAPW",
        "colab": {
          "base_uri": "https://localhost:8080/"
        },
        "outputId": "3cf51915-7f7d-4ae5-e649-9ea9e0a0647c"
      },
      "source": [
        "print(\"Number of known categories = \",len(books_df['category'].unique()))"
      ],
      "execution_count": null,
      "outputs": [
        {
          "output_type": "stream",
          "text": [
            "Number of known categories =  27\n"
          ],
          "name": "stdout"
        }
      ]
    },
    {
      "cell_type": "code",
      "metadata": {
        "colab": {
          "base_uri": "https://localhost:8080/"
        },
        "id": "10OrRTaOYLpH",
        "outputId": "54ec28a6-abdc-4202-cf34-5443224d140c"
      },
      "source": [
        "loss = []\n",
        "for k in tqdm(range(3,35)):\n",
        "    kmeans = KMeans(n_clusters=k)\n",
        "    kmeans.fit(list(w2v_desc))\n",
        "    loss.append(kmeans.inertia_)"
      ],
      "execution_count": null,
      "outputs": [
        {
          "output_type": "stream",
          "text": [
            "100%|██████████| 32/32 [00:31<00:00,  1.02it/s]\n"
          ],
          "name": "stderr"
        }
      ]
    },
    {
      "cell_type": "code",
      "metadata": {
        "colab": {
          "base_uri": "https://localhost:8080/",
          "height": 290
        },
        "id": "TYQ5AQgyYRgW",
        "outputId": "08e491db-a120-4233-9300-71ca5ca1fb3b"
      },
      "source": [
        "plt.figure()\n",
        "plt.plot(range(3,35),loss)\n",
        "plt.xlabel(\"Number of clusters\")\n",
        "plt.ylabel(\"loss\")\n",
        "plt.show()"
      ],
      "execution_count": null,
      "outputs": [
        {
          "output_type": "display_data",
          "data": {
            "image/png": "[encoded data removed]",
            "text/plain": [
              "<Figure size 432x288 with 1 Axes>"
            ]
          },
          "metadata": {
            "tags": [],
            "needs_background": "light"
          }
        }
      ]
    },
    {
      "cell_type": "code",
      "metadata": {
        "colab": {
          "base_uri": "https://localhost:8080/"
        },
        "id": "MSAkabcaZRSv",
        "outputId": "5640e1d0-d618-4e2f-ec68-9d5bcadd0f03"
      },
      "source": [
        "kmeans = KMeans(n_clusters=18)\n",
        "kmeans.fit(list(w2v_desc))"
      ],
      "execution_count": null,
      "outputs": [
        {
          "output_type": "execute_result",
          "data": {
            "text/plain": [
              "KMeans(algorithm='auto', copy_x=True, init='k-means++', max_iter=300,\n",
              "       n_clusters=18, n_init=10, n_jobs=None, precompute_distances='auto',\n",
              "       random_state=None, tol=0.0001, verbose=0)"
            ]
          },
          "metadata": {
            "tags": []
          },
          "execution_count": 27
        }
      ]
    },
    {
      "cell_type": "markdown",
      "metadata": {
        "id": "aGuC05JvZo8t"
      },
      "source": [
        "Data Matrix to store Clusters"
      ]
    },
    {
      "cell_type": "code",
      "metadata": {
        "id": "HFwdURu0ZfcB"
      },
      "source": [
        "datadict = {}\n",
        "datadict['title'] = books_df['name']\n",
        "datadict['author'] = books_df['author']\n",
        "datadict['vectors'] = w2v_desc"
      ],
      "execution_count": null,
      "outputs": []
    },
    {
      "cell_type": "code",
      "metadata": {
        "colab": {
          "base_uri": "https://localhost:8080/",
          "height": 647
        },
        "id": "GL4f8HrHZs0Z",
        "outputId": "54734357-d7b7-4194-f79d-cc0b52fdf440"
      },
      "source": [
        "data1 = pd.DataFrame(datadict)\n",
        "data1.head(20)"
      ],
      "execution_count": null,
      "outputs": [
        {
          "output_type": "execute_result",
          "data": {
            "text/html": [
              "<div>\n",
              "<style scoped>\n",
              "    .dataframe tbody tr th:only-of-type {\n",
              "        vertical-align: middle;\n",
              "    }\n",
              "\n",
              "    .dataframe tbody tr th {\n",
              "        vertical-align: top;\n",
              "    }\n",
              "\n",
              "    .dataframe thead th {\n",
              "        text-align: right;\n",
              "    }\n",
              "</style>\n",
              "<table border=\"1\" class=\"dataframe\">\n",
              "  <thead>\n",
              "    <tr style=\"text-align: right;\">\n",
              "      <th></th>\n",
              "      <th>title</th>\n",
              "      <th>author</th>\n",
              "      <th>vectors</th>\n",
              "    </tr>\n",
              "  </thead>\n",
              "  <tbody>\n",
              "    <tr>\n",
              "      <th>0</th>\n",
              "      <td>The Royal Netherlands Navy of World War II</td>\n",
              "      <td>Ryan Noppen, Paul Wright (illustrator)</td>\n",
              "      <td>[7.446045182645321, -6.612745354883373, 7.8881...</td>\n",
              "    </tr>\n",
              "    <tr>\n",
              "      <th>1</th>\n",
              "      <td>Fascism and Democracy</td>\n",
              "      <td>George Orwell (author)</td>\n",
              "      <td>[-0.9758202197263017, 2.721654836088419, -0.88...</td>\n",
              "    </tr>\n",
              "    <tr>\n",
              "      <th>2</th>\n",
              "      <td>Interior Chinatown</td>\n",
              "      <td>Charles Yu (author)</td>\n",
              "      <td>[2.701486011967063, 2.731433615088463, 0.05646...</td>\n",
              "    </tr>\n",
              "    <tr>\n",
              "      <th>3</th>\n",
              "      <td>Railroad Depots of Northwest Pennsylvania</td>\n",
              "      <td>Dan West (author)</td>\n",
              "      <td>[18.998997207032517, 3.5326467955019325, 3.122...</td>\n",
              "    </tr>\n",
              "    <tr>\n",
              "      <th>4</th>\n",
              "      <td>Lost Ski Areas of Tahoe and Donner</td>\n",
              "      <td>Ingrid P. Wicken (author)</td>\n",
              "      <td>[20.920971296727657, 1.3233332785312086, 4.163...</td>\n",
              "    </tr>\n",
              "    <tr>\n",
              "      <th>5</th>\n",
              "      <td>Colorado's Daring Ivy Baldwin</td>\n",
              "      <td>Dr. Jack Stokes Ballard (author)</td>\n",
              "      <td>[7.894896904472262, -1.159395746421069, 2.7348...</td>\n",
              "    </tr>\n",
              "    <tr>\n",
              "      <th>6</th>\n",
              "      <td>K2, the Savage Mountain</td>\n",
              "      <td>Charles S. Houston (author), Robert H. Bates (...</td>\n",
              "      <td>[-0.849902605637908, 1.7754900306463242, 2.218...</td>\n",
              "    </tr>\n",
              "    <tr>\n",
              "      <th>7</th>\n",
              "      <td>Politics and the English Language</td>\n",
              "      <td>George Orwell (author)</td>\n",
              "      <td>[0.30705196945928037, -0.5409900397062302, 2.2...</td>\n",
              "    </tr>\n",
              "    <tr>\n",
              "      <th>8</th>\n",
              "      <td>Essential Clinical Skills</td>\n",
              "      <td>Susan Carlisle</td>\n",
              "      <td>[2.72229297272861, 0.04923300817608833, -0.880...</td>\n",
              "    </tr>\n",
              "    <tr>\n",
              "      <th>9</th>\n",
              "      <td>Harry Potter</td>\n",
              "      <td>Insight Editions</td>\n",
              "      <td>[1.0643124040216208, -0.7008690896909684, 0.99...</td>\n",
              "    </tr>\n",
              "    <tr>\n",
              "      <th>10</th>\n",
              "      <td>Lone Wolves</td>\n",
              "      <td>Dan Abnett (author)</td>\n",
              "      <td>[0.6089060083031654, 0.5523469969630241, -0.21...</td>\n",
              "    </tr>\n",
              "    <tr>\n",
              "      <th>11</th>\n",
              "      <td>Oxford Reading Tree: Level 1+: More Songbirds ...</td>\n",
              "      <td>Julia Donaldson, Clare Kirtley (series editor)</td>\n",
              "      <td>[1.6261527016758919, 6.971303083002567, 2.3100...</td>\n",
              "    </tr>\n",
              "    <tr>\n",
              "      <th>12</th>\n",
              "      <td>The Trouble With Being Born</td>\n",
              "      <td>E. M. Cioran, Richard Howard (translator)</td>\n",
              "      <td>[-1.0460754130035639, 1.5749590557534248, 0.25...</td>\n",
              "    </tr>\n",
              "    <tr>\n",
              "      <th>13</th>\n",
              "      <td>The Part-Time Job</td>\n",
              "      <td>P. D. James (author)</td>\n",
              "      <td>[5.242366403341293, 4.569202485610731, -0.2750...</td>\n",
              "    </tr>\n",
              "    <tr>\n",
              "      <th>14</th>\n",
              "      <td>Oxford Reading Tree: Level 1+: More Songbirds ...</td>\n",
              "      <td>Julia Donaldson, Clare Kirtley (series editor)</td>\n",
              "      <td>[1.6261527016758919, 6.971303083002567, 2.3100...</td>\n",
              "    </tr>\n",
              "    <tr>\n",
              "      <th>15</th>\n",
              "      <td>Rhyming Cockney Slang</td>\n",
              "      <td>Jack Jones, Alma Duncan</td>\n",
              "      <td>[-2.3431149628013372, -0.032715999288484454, -...</td>\n",
              "    </tr>\n",
              "    <tr>\n",
              "      <th>16</th>\n",
              "      <td>How to Spot a Fascist</td>\n",
              "      <td>Umberto Eco, Alastair McEwen (translator), Ric...</td>\n",
              "      <td>[0.5773179363459349, -0.1788339912891388, 1.77...</td>\n",
              "    </tr>\n",
              "    <tr>\n",
              "      <th>17</th>\n",
              "      <td>Is God Speaking to Me?</td>\n",
              "      <td>Lysa TerKeurst (author)</td>\n",
              "      <td>[4.640813134610653, 1.6347020156681538, -1.684...</td>\n",
              "    </tr>\n",
              "    <tr>\n",
              "      <th>18</th>\n",
              "      <td>The Garden of Forking Paths</td>\n",
              "      <td>Jorge Luis Borges (author)</td>\n",
              "      <td>[0.14600999653339386, -0.4919239953160286, -0....</td>\n",
              "    </tr>\n",
              "    <tr>\n",
              "      <th>19</th>\n",
              "      <td>Master's Tools Will Never Dismantle the Master...</td>\n",
              "      <td>Audre Lorde (author)</td>\n",
              "      <td>[-0.2989635388366878, 2.517279285704717, 0.390...</td>\n",
              "    </tr>\n",
              "  </tbody>\n",
              "</table>\n",
              "</div>"
            ],
            "text/plain": [
              "                                                title  ...                                            vectors\n",
              "0          The Royal Netherlands Navy of World War II  ...  [7.446045182645321, -6.612745354883373, 7.8881...\n",
              "1                               Fascism and Democracy  ...  [-0.9758202197263017, 2.721654836088419, -0.88...\n",
              "2                                  Interior Chinatown  ...  [2.701486011967063, 2.731433615088463, 0.05646...\n",
              "3           Railroad Depots of Northwest Pennsylvania  ...  [18.998997207032517, 3.5326467955019325, 3.122...\n",
              "4                  Lost Ski Areas of Tahoe and Donner  ...  [20.920971296727657, 1.3233332785312086, 4.163...\n",
              "5                       Colorado's Daring Ivy Baldwin  ...  [7.894896904472262, -1.159395746421069, 2.7348...\n",
              "6                             K2, the Savage Mountain  ...  [-0.849902605637908, 1.7754900306463242, 2.218...\n",
              "7                   Politics and the English Language  ...  [0.30705196945928037, -0.5409900397062302, 2.2...\n",
              "8                           Essential Clinical Skills  ...  [2.72229297272861, 0.04923300817608833, -0.880...\n",
              "9                                        Harry Potter  ...  [1.0643124040216208, -0.7008690896909684, 0.99...\n",
              "10                                        Lone Wolves  ...  [0.6089060083031654, 0.5523469969630241, -0.21...\n",
              "11  Oxford Reading Tree: Level 1+: More Songbirds ...  ...  [1.6261527016758919, 6.971303083002567, 2.3100...\n",
              "12                        The Trouble With Being Born  ...  [-1.0460754130035639, 1.5749590557534248, 0.25...\n",
              "13                                  The Part-Time Job  ...  [5.242366403341293, 4.569202485610731, -0.2750...\n",
              "14  Oxford Reading Tree: Level 1+: More Songbirds ...  ...  [1.6261527016758919, 6.971303083002567, 2.3100...\n",
              "15                              Rhyming Cockney Slang  ...  [-2.3431149628013372, -0.032715999288484454, -...\n",
              "16                              How to Spot a Fascist  ...  [0.5773179363459349, -0.1788339912891388, 1.77...\n",
              "17                             Is God Speaking to Me?  ...  [4.640813134610653, 1.6347020156681538, -1.684...\n",
              "18                        The Garden of Forking Paths  ...  [0.14600999653339386, -0.4919239953160286, -0....\n",
              "19  Master's Tools Will Never Dismantle the Master...  ...  [-0.2989635388366878, 2.517279285704717, 0.390...\n",
              "\n",
              "[20 rows x 3 columns]"
            ]
          },
          "metadata": {
            "tags": []
          },
          "execution_count": 29
        }
      ]
    },
    {
      "cell_type": "markdown",
      "metadata": {
        "id": "s4DErniHaKMx"
      },
      "source": [
        "Group Books into Clusters"
      ]
    },
    {
      "cell_type": "code",
      "metadata": {
        "id": "BHvg2mKRZ4bw"
      },
      "source": [
        "clusters = []\n",
        "for i in data1['vectors']:\n",
        "    clusters.append(kmeans.predict(i.reshape(1, -1))[0])"
      ],
      "execution_count": null,
      "outputs": []
    },
    {
      "cell_type": "code",
      "metadata": {
        "id": "BRkQC1zAaOTj"
      },
      "source": [
        "data1['clusters'] = clusters\n",
        "data1['predetermined_category'] = books_df['category']"
      ],
      "execution_count": null,
      "outputs": []
    },
    {
      "cell_type": "code",
      "metadata": {
        "colab": {
          "base_uri": "https://localhost:8080/",
          "height": 197
        },
        "id": "wDJupAUxaSCz",
        "outputId": "faed231f-78bc-4aae-b017-5f557bfbb529"
      },
      "source": [
        "data1[data1['clusters']==1].tail()"
      ],
      "execution_count": null,
      "outputs": [
        {
          "output_type": "execute_result",
          "data": {
            "text/html": [
              "<div>\n",
              "<style scoped>\n",
              "    .dataframe tbody tr th:only-of-type {\n",
              "        vertical-align: middle;\n",
              "    }\n",
              "\n",
              "    .dataframe tbody tr th {\n",
              "        vertical-align: top;\n",
              "    }\n",
              "\n",
              "    .dataframe thead th {\n",
              "        text-align: right;\n",
              "    }\n",
              "</style>\n",
              "<table border=\"1\" class=\"dataframe\">\n",
              "  <thead>\n",
              "    <tr style=\"text-align: right;\">\n",
              "      <th></th>\n",
              "      <th>title</th>\n",
              "      <th>author</th>\n",
              "      <th>vectors</th>\n",
              "      <th>clusters</th>\n",
              "      <th>predetermined_category</th>\n",
              "    </tr>\n",
              "  </thead>\n",
              "  <tbody>\n",
              "    <tr>\n",
              "      <th>1079</th>\n",
              "      <td>Glastonbury 50</td>\n",
              "      <td>Michael Eavis (author), Emily Eavis (author)</td>\n",
              "      <td>[9.108836023602635, 8.31714609102346, 6.001531...</td>\n",
              "      <td>1</td>\n",
              "      <td>music</td>\n",
              "    </tr>\n",
              "    <tr>\n",
              "      <th>1080</th>\n",
              "      <td>Royal Albert Hall</td>\n",
              "      <td>Royal Albert Hall (associated with work)</td>\n",
              "      <td>[4.6905067805200815, 3.350005256012082, 2.8961...</td>\n",
              "      <td>1</td>\n",
              "      <td>music</td>\n",
              "    </tr>\n",
              "    <tr>\n",
              "      <th>1100</th>\n",
              "      <td>No Such Thing As Forever</td>\n",
              "      <td>Paolo Brillo (photographer)</td>\n",
              "      <td>[3.5603083055466413, 14.090218607423594, 0.913...</td>\n",
              "      <td>1</td>\n",
              "      <td>music</td>\n",
              "    </tr>\n",
              "    <tr>\n",
              "      <th>1241</th>\n",
              "      <td>St. Moritz Chic</td>\n",
              "      <td>Dora Lardelli (author)</td>\n",
              "      <td>[15.31559757143259, 5.760751436377177, 7.89700...</td>\n",
              "      <td>1</td>\n",
              "      <td>travel</td>\n",
              "    </tr>\n",
              "    <tr>\n",
              "      <th>1246</th>\n",
              "      <td>Palm Beach</td>\n",
              "      <td>Aerin Lauder (author)</td>\n",
              "      <td>[12.871418798342347, 4.3620630241930485, 2.201...</td>\n",
              "      <td>1</td>\n",
              "      <td>travel</td>\n",
              "    </tr>\n",
              "  </tbody>\n",
              "</table>\n",
              "</div>"
            ],
            "text/plain": [
              "                         title  ... predetermined_category\n",
              "1079            Glastonbury 50  ...                  music\n",
              "1080         Royal Albert Hall  ...                  music\n",
              "1100  No Such Thing As Forever  ...                  music\n",
              "1241           St. Moritz Chic  ...                 travel\n",
              "1246                Palm Beach  ...                 travel\n",
              "\n",
              "[5 rows x 5 columns]"
            ]
          },
          "metadata": {
            "tags": []
          },
          "execution_count": 32
        }
      ]
    },
    {
      "cell_type": "code",
      "metadata": {
        "colab": {
          "base_uri": "https://localhost:8080/"
        },
        "id": "MrKWtFokt2zp",
        "outputId": "7c311a78-c6d1-4c05-95f5-4197ba9deb6d"
      },
      "source": [
        "for i in range(0,18):\n",
        "  print(\"Cluster\",i,\"=\",data1[data1['clusters']==i].shape[0])"
      ],
      "execution_count": null,
      "outputs": [
        {
          "output_type": "stream",
          "text": [
            "Cluster 0 = 180\n",
            "Cluster 1 = 54\n",
            "Cluster 2 = 57\n",
            "Cluster 3 = 350\n",
            "Cluster 4 = 14\n",
            "Cluster 5 = 1\n",
            "Cluster 6 = 1\n",
            "Cluster 7 = 45\n",
            "Cluster 8 = 2\n",
            "Cluster 9 = 30\n",
            "Cluster 10 = 65\n",
            "Cluster 11 = 1\n",
            "Cluster 12 = 27\n",
            "Cluster 13 = 170\n",
            "Cluster 14 = 77\n",
            "Cluster 15 = 70\n",
            "Cluster 16 = 20\n",
            "Cluster 17 = 50\n"
          ],
          "name": "stdout"
        }
      ]
    },
    {
      "cell_type": "code",
      "metadata": {
        "id": "bSiB6FTxae1i"
      },
      "source": [
        "cluster_dict = data1.groupby('clusters').apply(lambda x: x.to_json(orient='records'))"
      ],
      "execution_count": null,
      "outputs": []
    },
    {
      "cell_type": "code",
      "metadata": {
        "id": "CB7LFVnYo_Wa"
      },
      "source": [
        "cluster_dict.to_pickle('clusters.pkl')"
      ],
      "execution_count": null,
      "outputs": []
    },
    {
      "cell_type": "code",
      "metadata": {
        "id": "KFSibdYFpCZK"
      },
      "source": [
        "pickle.dump(kmeans, open(\"clustering_model.pkl\", \"wb\"))"
      ],
      "execution_count": null,
      "outputs": []
    },
    {
      "cell_type": "markdown",
      "metadata": {
        "id": "-E1ckoLqpKOv"
      },
      "source": [
        "Assign book to Cluster based on short description"
      ]
    },
    {
      "cell_type": "code",
      "metadata": {
        "id": "p7lxsWFypGmb"
      },
      "source": [
        "data = pd.read_pickle('./clusters.pkl')"
      ],
      "execution_count": null,
      "outputs": []
    },
    {
      "cell_type": "code",
      "metadata": {
        "id": "EEli8hcwpSbX"
      },
      "source": [
        "kmeans_model = pickle.load(open(\"clustering_model.pkl\", \"rb\"))"
      ],
      "execution_count": null,
      "outputs": []
    },
    {
      "cell_type": "markdown",
      "metadata": {
        "id": "AvHmIdU2ppFa"
      },
      "source": [
        "<p>Testing model for-<br>\n",
        "Autobiograph of Benito Mussolini<br><br>\n",
        "<i>\"This volume reprints the Italian dictator's extraordinary comments, capturing the spirit and personality of Il Duce as no other book does.\n",
        "Included are Mussolini's views on Italian politics, descriptions of his years as an agitator, journalist, and soldier, the formation of the Fascist Party, the \"March on Rome,\" and his early years in power. The text also contains some of his most famous speeches in the Italian Parliament, his vision of Italy's return to glory, and his definitive statement on the doctrine of Fascism and its political justification.\"</i>\n"
      ]
    },
    {
      "cell_type": "code",
      "metadata": {
        "id": "6Vb4Hv4gpVCx"
      },
      "source": [
        "short_blurb = \"This volume reprints the Italian dictator's extraordinary comments, capturing the spirit and personality of Il Duce as no other book does. Included are Mussolini's views on Italian politics, descriptions of his years as an agitator, journalist, and soldier, the formation of the Fascist Party, the 'March on Rome,' and his early years in power. The text also contains some of his most famous speeches in the Italian Parliament, his vision of Italy's return to glory, and his definitive statement on the doctrine of Fascism and its political justification.\""
      ],
      "execution_count": null,
      "outputs": []
    },
    {
      "cell_type": "code",
      "metadata": {
        "id": "ACtRRRUQp8mp"
      },
      "source": [
        "#Preprocessing\n",
        "short_blurb = short_blurb.replace(r'[\\W_]+', ' ')\n",
        "short_blurb_list = short_blurb.split()\n",
        "short_blurb_lower = [i.lower() for i in short_blurb_list]\n",
        "short_blurb_html = [remove_html(token) for token in short_blurb_lower]\n",
        "short_blurb_punc = [re.sub(r'\\W+', '', token) for token in short_blurb_html]\n",
        "\n",
        "short_blurb_stop = [token for token in short_blurb_punc if token not in stopwords]\n",
        "short_blurb_stem = [porter.stem(token) for token in short_blurb_stop]"
      ],
      "execution_count": null,
      "outputs": []
    },
    {
      "cell_type": "code",
      "metadata": {
        "id": "vfUw0e64qUIr"
      },
      "source": [
        "vector = np.zeros(300) # as word vectors are of zero length\n",
        "for word in short_blurb_stem: # for each word in a review/sentence\n",
        "    if word in glove_words:\n",
        "        vector += model[word]"
      ],
      "execution_count": null,
      "outputs": []
    },
    {
      "cell_type": "code",
      "metadata": {
        "colab": {
          "base_uri": "https://localhost:8080/"
        },
        "id": "3fblGz-YqZRA",
        "outputId": "e15c16f7-6c7f-4195-fec2-0ab38db20d58"
      },
      "source": [
        "prediction = kmeans_model.predict(vector.reshape(1, -1))\n",
        "print(prediction[0])"
      ],
      "execution_count": null,
      "outputs": [
        {
          "output_type": "stream",
          "text": [
            "17\n"
          ],
          "name": "stdout"
        }
      ]
    },
    {
      "cell_type": "markdown",
      "metadata": {
        "id": "vz7vCQo5qhMk"
      },
      "source": [
        "Cluster 17 is assigned to the book<br>\n",
        "Cluster 17 contains the following books"
      ]
    },
    {
      "cell_type": "code",
      "metadata": {
        "colab": {
          "base_uri": "https://localhost:8080/",
          "height": 347
        },
        "id": "QUE8iPdiqfsv",
        "outputId": "8d3ba630-9e22-4342-896f-7b97b384e977"
      },
      "source": [
        "data1[data1['clusters']==17].iloc[-15:-5,:]"
      ],
      "execution_count": null,
      "outputs": [
        {
          "output_type": "execute_result",
          "data": {
            "text/html": [
              "<div>\n",
              "<style scoped>\n",
              "    .dataframe tbody tr th:only-of-type {\n",
              "        vertical-align: middle;\n",
              "    }\n",
              "\n",
              "    .dataframe tbody tr th {\n",
              "        vertical-align: top;\n",
              "    }\n",
              "\n",
              "    .dataframe thead th {\n",
              "        text-align: right;\n",
              "    }\n",
              "</style>\n",
              "<table border=\"1\" class=\"dataframe\">\n",
              "  <thead>\n",
              "    <tr style=\"text-align: right;\">\n",
              "      <th></th>\n",
              "      <th>title</th>\n",
              "      <th>author</th>\n",
              "      <th>vectors</th>\n",
              "      <th>clusters</th>\n",
              "      <th>predetermined_category</th>\n",
              "    </tr>\n",
              "  </thead>\n",
              "  <tbody>\n",
              "    <tr>\n",
              "      <th>1075</th>\n",
              "      <td>Prescriber's Guide</td>\n",
              "      <td>Stephen M. Stahl (author)</td>\n",
              "      <td>[2.089078680612147, -3.47223306261003, -2.2819...</td>\n",
              "      <td>17</td>\n",
              "      <td>medical</td>\n",
              "    </tr>\n",
              "    <tr>\n",
              "      <th>1117</th>\n",
              "      <td>Economics and Sustainability</td>\n",
              "      <td>Karl Bruckmeier (author)</td>\n",
              "      <td>[-0.2717970162630081, 0.4547705111472169, 3.76...</td>\n",
              "      <td>17</td>\n",
              "      <td>politics</td>\n",
              "    </tr>\n",
              "    <tr>\n",
              "      <th>1118</th>\n",
              "      <td>Toward a Coordinated and Balanced Development</td>\n",
              "      <td>Changchun Cheng, Fenghua Yang, Guanghua Chen (...</td>\n",
              "      <td>[-0.004715814255177975, -1.6968912854790688, 1...</td>\n",
              "      <td>17</td>\n",
              "      <td>politics</td>\n",
              "    </tr>\n",
              "    <tr>\n",
              "      <th>1119</th>\n",
              "      <td>Everyday Boundaries, Borders and Post Conflict...</td>\n",
              "      <td>Renata Summa (author)</td>\n",
              "      <td>[0.9491120390594006, 1.1131771756336093, 0.945...</td>\n",
              "      <td>17</td>\n",
              "      <td>politics</td>\n",
              "    </tr>\n",
              "    <tr>\n",
              "      <th>1124</th>\n",
              "      <td>Postcolonial Maghreb and the Limits of IR</td>\n",
              "      <td>Jessica da Silva C. de Oliveira (author)</td>\n",
              "      <td>[2.7490149419754744, -1.7805880159139633, 1.74...</td>\n",
              "      <td>17</td>\n",
              "      <td>politics</td>\n",
              "    </tr>\n",
              "    <tr>\n",
              "      <th>1127</th>\n",
              "      <td>Party Proliferation and Political Contestation...</td>\n",
              "      <td>Catherine Lena Kelly (author)</td>\n",
              "      <td>[2.410142979093507, -2.382439042441547, 6.6521...</td>\n",
              "      <td>17</td>\n",
              "      <td>politics</td>\n",
              "    </tr>\n",
              "    <tr>\n",
              "      <th>1130</th>\n",
              "      <td>Entrepreneurship and Regional Development</td>\n",
              "      <td>Rajagopal (editor), Ramesh Behl (editor)</td>\n",
              "      <td>[2.8250471148639917, 0.38853597885463387, 6.48...</td>\n",
              "      <td>17</td>\n",
              "      <td>politics</td>\n",
              "    </tr>\n",
              "    <tr>\n",
              "      <th>1132</th>\n",
              "      <td>Expressions of War in Australia and the Pacific</td>\n",
              "      <td>Amanda Laugesen (editor), Catherine Fisher (ed...</td>\n",
              "      <td>[2.034563535824418, -0.08189499378204346, 6.01...</td>\n",
              "      <td>17</td>\n",
              "      <td>politics</td>\n",
              "    </tr>\n",
              "    <tr>\n",
              "      <th>1134</th>\n",
              "      <td>Communication, Interpreting and Language in Wa...</td>\n",
              "      <td>Amanda Laugesen (editor), Richard Gehrmann (ed...</td>\n",
              "      <td>[4.022366023156792, -3.125300903338939, 6.1998...</td>\n",
              "      <td>17</td>\n",
              "      <td>politics</td>\n",
              "    </tr>\n",
              "    <tr>\n",
              "      <th>1146</th>\n",
              "      <td>Globalization</td>\n",
              "      <td>C. Gopinath (author)</td>\n",
              "      <td>[0.3114154466748005, 0.4742220640182495, 0.448...</td>\n",
              "      <td>17</td>\n",
              "      <td>politics</td>\n",
              "    </tr>\n",
              "  </tbody>\n",
              "</table>\n",
              "</div>"
            ],
            "text/plain": [
              "                                                  title  ... predetermined_category\n",
              "1075                                 Prescriber's Guide  ...                medical\n",
              "1117                       Economics and Sustainability  ...               politics\n",
              "1118      Toward a Coordinated and Balanced Development  ...               politics\n",
              "1119  Everyday Boundaries, Borders and Post Conflict...  ...               politics\n",
              "1124          Postcolonial Maghreb and the Limits of IR  ...               politics\n",
              "1127  Party Proliferation and Political Contestation...  ...               politics\n",
              "1130          Entrepreneurship and Regional Development  ...               politics\n",
              "1132    Expressions of War in Australia and the Pacific  ...               politics\n",
              "1134  Communication, Interpreting and Language in Wa...  ...               politics\n",
              "1146                                      Globalization  ...               politics\n",
              "\n",
              "[10 rows x 5 columns]"
            ]
          },
          "metadata": {
            "tags": []
          },
          "execution_count": 47
        }
      ]
    },
    {
      "cell_type": "markdown",
      "metadata": {
        "id": "ZHOwpwvFvdmK"
      },
      "source": [
        "<p>Testing model for-<br>\n",
        "<b>Harry Potter Chamber of Secrets</b><br><br>\n",
        "<i>\"Harry Potter's summer has included the worst birthday ever, doomy warnings from a house-elf called Dobby, and rescue from the Dursleys by his friend Ron Weasley in a magical flying car! Back at Hogwarts School of Witchcraft and Wizardry for his second year, Harry hears strange whispers echo through empty corridors - and then the attacks start. Students are found as though turned to stone . Dobby's sinister predictions seem to be coming true.\"</i>\n"
      ]
    },
    {
      "cell_type": "code",
      "metadata": {
        "id": "y8f5BnI0qs1n"
      },
      "source": [
        "short_blurb = \"Harry Potter's summer has included the worst birthday ever, doomy warnings from a house-elf called Dobby, and rescue from the Dursleys by his friend Ron Weasley in a magical flying car! Back at Hogwarts School of Witchcraft and Wizardry for his second year, Harry hears strange whispers echo through empty corridors - and then the attacks start. Students are found as though turned to stone . Dobby's sinister predictions seem to be coming true.\""
      ],
      "execution_count": null,
      "outputs": []
    },
    {
      "cell_type": "code",
      "metadata": {
        "id": "mBTyooMVv5SB"
      },
      "source": [
        "#Preprocessing\n",
        "short_blurb = short_blurb.replace(r'[\\W_]+', ' ')\n",
        "short_blurb_list = short_blurb.split()\n",
        "short_blurb_lower = [i.lower() for i in short_blurb_list]\n",
        "short_blurb_html = [remove_html(token) for token in short_blurb_lower]\n",
        "short_blurb_punc = [re.sub(r'\\W+', '', token) for token in short_blurb_html]\n",
        "\n",
        "short_blurb_stop = [token for token in short_blurb_punc if token not in stopwords]\n",
        "short_blurb_stem = [porter.stem(token) for token in short_blurb_stop]"
      ],
      "execution_count": null,
      "outputs": []
    },
    {
      "cell_type": "code",
      "metadata": {
        "id": "nfJ2EOYXv9u1"
      },
      "source": [
        "vector = np.zeros(300) # as word vectors are of zero length\n",
        "for word in short_blurb_stem: # for each word in a review/sentence\n",
        "    if word in glove_words:\n",
        "        vector += model[word]"
      ],
      "execution_count": null,
      "outputs": []
    },
    {
      "cell_type": "code",
      "metadata": {
        "colab": {
          "base_uri": "https://localhost:8080/"
        },
        "id": "6JhcAXWWwAA1",
        "outputId": "5c461774-d260-40d7-878a-5ebd5a4e03c2"
      },
      "source": [
        "prediction = kmeans_model.predict(vector.reshape(1, -1))\n",
        "print(prediction[0])"
      ],
      "execution_count": null,
      "outputs": [
        {
          "output_type": "stream",
          "text": [
            "14\n"
          ],
          "name": "stdout"
        }
      ]
    },
    {
      "cell_type": "code",
      "metadata": {
        "colab": {
          "base_uri": "https://localhost:8080/",
          "height": 347
        },
        "id": "03Vz6YQKwDFQ",
        "outputId": "9191e482-802d-45a2-8fe8-eaae6dd534c6"
      },
      "source": [
        "data1[data1['clusters']==14].iloc[-23:-13,:]"
      ],
      "execution_count": null,
      "outputs": [
        {
          "output_type": "execute_result",
          "data": {
            "text/html": [
              "<div>\n",
              "<style scoped>\n",
              "    .dataframe tbody tr th:only-of-type {\n",
              "        vertical-align: middle;\n",
              "    }\n",
              "\n",
              "    .dataframe tbody tr th {\n",
              "        vertical-align: top;\n",
              "    }\n",
              "\n",
              "    .dataframe thead th {\n",
              "        text-align: right;\n",
              "    }\n",
              "</style>\n",
              "<table border=\"1\" class=\"dataframe\">\n",
              "  <thead>\n",
              "    <tr style=\"text-align: right;\">\n",
              "      <th></th>\n",
              "      <th>title</th>\n",
              "      <th>author</th>\n",
              "      <th>vectors</th>\n",
              "      <th>clusters</th>\n",
              "      <th>predetermined_category</th>\n",
              "    </tr>\n",
              "  </thead>\n",
              "  <tbody>\n",
              "    <tr>\n",
              "      <th>779</th>\n",
              "      <td>Marvel's Avengers</td>\n",
              "      <td>Paul Davies (author)</td>\n",
              "      <td>[7.359952913597226, -2.769777439069003, 2.6291...</td>\n",
              "      <td>14</td>\n",
              "      <td>computing</td>\n",
              "    </tr>\n",
              "    <tr>\n",
              "      <th>810</th>\n",
              "      <td>James Bond Warren Ellis Collection</td>\n",
              "      <td>Warren Ellis, Jason Masters (artist), Dom Rear...</td>\n",
              "      <td>[1.3866479638963938, 1.8794650849886239, 4.384...</td>\n",
              "      <td>14</td>\n",
              "      <td>crime</td>\n",
              "    </tr>\n",
              "    <tr>\n",
              "      <th>833</th>\n",
              "      <td>Waldorf Games Handbook for the Early Years</td>\n",
              "      <td>Kim John Payne (author), Cory Waletzko (author...</td>\n",
              "      <td>[-0.7361072644253, 3.7867560386657715, -0.9855...</td>\n",
              "      <td>14</td>\n",
              "      <td>education</td>\n",
              "    </tr>\n",
              "    <tr>\n",
              "      <th>842</th>\n",
              "      <td>Gender Swapped Fairy Tales</td>\n",
              "      <td>Karrie Fransman (author), Jonathan Plackett (a...</td>\n",
              "      <td>[5.699320903047919, 8.815158054232597, -4.7405...</td>\n",
              "      <td>14</td>\n",
              "      <td>fiction</td>\n",
              "    </tr>\n",
              "    <tr>\n",
              "      <th>932</th>\n",
              "      <td>Perfect World 4</td>\n",
              "      <td>Rie Aruga (author)</td>\n",
              "      <td>[8.261384668512619, 4.411857014521956, -3.0153...</td>\n",
              "      <td>14</td>\n",
              "      <td>graphicnovels</td>\n",
              "    </tr>\n",
              "    <tr>\n",
              "      <th>937</th>\n",
              "      <td>Tales of the Jedi</td>\n",
              "      <td>John Ostrander, Jan Duursema (artist)</td>\n",
              "      <td>[8.039781089872122, 2.452378150075674, 1.33741...</td>\n",
              "      <td>14</td>\n",
              "      <td>graphicnovels</td>\n",
              "    </tr>\n",
              "    <tr>\n",
              "      <th>938</th>\n",
              "      <td>The Lost Adventures and Team Avatar Tales</td>\n",
              "      <td>Nickelodeon (Television network) (associated w...</td>\n",
              "      <td>[6.906598312780261, 1.1944489629240707, 0.2740...</td>\n",
              "      <td>14</td>\n",
              "      <td>graphicnovels</td>\n",
              "    </tr>\n",
              "    <tr>\n",
              "      <th>941</th>\n",
              "      <td>Time for Lights Out</td>\n",
              "      <td>Raymond Briggs (author)</td>\n",
              "      <td>[1.0603660750202835, 1.3592390334233642, -3.17...</td>\n",
              "      <td>14</td>\n",
              "      <td>graphicnovels</td>\n",
              "    </tr>\n",
              "    <tr>\n",
              "      <th>942</th>\n",
              "      <td>Rick and Morty Vol. 11, Volume 11</td>\n",
              "      <td>Kyle Starks, Magdalene Visaggio, Ian McGinty (...</td>\n",
              "      <td>[-2.927365977317095, 1.1075915059773251, -4.30...</td>\n",
              "      <td>14</td>\n",
              "      <td>graphicnovels</td>\n",
              "    </tr>\n",
              "    <tr>\n",
              "      <th>979</th>\n",
              "      <td>The Japanese</td>\n",
              "      <td>Christopher Harding (author)</td>\n",
              "      <td>[3.3200510516762733, 2.7168519189581275, 0.739...</td>\n",
              "      <td>14</td>\n",
              "      <td>history</td>\n",
              "    </tr>\n",
              "  </tbody>\n",
              "</table>\n",
              "</div>"
            ],
            "text/plain": [
              "                                          title  ... predetermined_category\n",
              "779                           Marvel's Avengers  ...              computing\n",
              "810          James Bond Warren Ellis Collection  ...                  crime\n",
              "833  Waldorf Games Handbook for the Early Years  ...              education\n",
              "842                  Gender Swapped Fairy Tales  ...                fiction\n",
              "932                             Perfect World 4  ...          graphicnovels\n",
              "937                           Tales of the Jedi  ...          graphicnovels\n",
              "938   The Lost Adventures and Team Avatar Tales  ...          graphicnovels\n",
              "941                         Time for Lights Out  ...          graphicnovels\n",
              "942           Rick and Morty Vol. 11, Volume 11  ...          graphicnovels\n",
              "979                                The Japanese  ...                history\n",
              "\n",
              "[10 rows x 5 columns]"
            ]
          },
          "metadata": {
            "tags": []
          },
          "execution_count": 69
        }
      ]
    },
    {
      "cell_type": "code",
      "metadata": {
        "id": "vTY_9mzQwFxS"
      },
      "source": [
        ""
      ],
      "execution_count": null,
      "outputs": []
    }
  ]
}