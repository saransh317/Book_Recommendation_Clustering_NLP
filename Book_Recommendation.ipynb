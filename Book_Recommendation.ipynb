{
  "nbformat": 4,
  "nbformat_minor": 0,
  "metadata": {
    "colab": {
      "name": "Book Recommendation_Project",
      "provenance": [],
      "collapsed_sections": [],
      "authorship_tag": "ABX9TyPkPyMf7CuWQ2MJuKJ2uY9k"
    },
    "kernelspec": {
      "name": "python3",
      "display_name": "Python 3"
    },
    "language_info": {
      "name": "python"
    }
  },
  "cells": [
    {
      "cell_type": "code",
      "metadata": {
        "id": "oEXJrw_1oxGf"
      },
      "source": [
        "import numpy as np \n",
        "import pandas as pd\n",
        "import os\n",
        "import seaborn as sns\n",
        "import matplotlib.pyplot as plt\n",
        "plt.style.use('ggplot')\n",
        "from tqdm import tqdm\n",
        "from progressbar import ProgressBar\n",
        "import re\n",
        "from scipy import stats\n",
        "from pylab import plot, show\n",
        "from sklearn.preprocessing import MinMaxScaler, StandardScaler\n",
        "import textwrap\n",
        "from tabulate import tabulate"
      ],
      "execution_count": null,
      "outputs": []
    },
    {
      "cell_type": "code",
      "metadata": {
        "colab": {
          "base_uri": "https://localhost:8080/",
          "height": 972
        },
        "id": "PEpoP41LpSET",
        "outputId": "ef4db5c9-5de6-45b2-d9cf-ba2ce4aa66d9"
      },
      "source": [
        "df = pd.read_csv('/content/Books_seperate.csv')\n",
        "df.drop(['subtitle','isSecondHand','no_of_pages'],axis=1,inplace=True)\n",
        "df.head(20)"
      ],
      "execution_count": null,
      "outputs": [
        {
          "output_type": "execute_result",
          "data": {
            "text/html": [
              "<div>\n",
              "<style scoped>\n",
              "    .dataframe tbody tr th:only-of-type {\n",
              "        vertical-align: middle;\n",
              "    }\n",
              "\n",
              "    .dataframe tbody tr th {\n",
              "        vertical-align: top;\n",
              "    }\n",
              "\n",
              "    .dataframe thead th {\n",
              "        text-align: right;\n",
              "    }\n",
              "</style>\n",
              "<table border=\"1\" class=\"dataframe\">\n",
              "  <thead>\n",
              "    <tr style=\"text-align: right;\">\n",
              "      <th></th>\n",
              "      <th>publication_date</th>\n",
              "      <th>euro_price</th>\n",
              "      <th>type</th>\n",
              "      <th>category</th>\n",
              "      <th>name</th>\n",
              "      <th>author</th>\n",
              "      <th>publisher</th>\n",
              "      <th>language</th>\n",
              "      <th>weight</th>\n",
              "      <th>salesRank</th>\n",
              "      <th>short_blurb</th>\n",
              "    </tr>\n",
              "  </thead>\n",
              "  <tbody>\n",
              "    <tr>\n",
              "      <th>0</th>\n",
              "      <td>20-Aug-20</td>\n",
              "      <td>9.60</td>\n",
              "      <td>Paperback</td>\n",
              "      <td>history</td>\n",
              "      <td>The Royal Netherlands Navy of World War II</td>\n",
              "      <td>Ryan Noppen, Paul Wright (illustrator)</td>\n",
              "      <td>Bloomsbury Publishing (UK)</td>\n",
              "      <td>English</td>\n",
              "      <td>5.0</td>\n",
              "      <td>25358.0</td>\n",
              "      <td>In the late 19th and early 20th century, a com...</td>\n",
              "    </tr>\n",
              "    <tr>\n",
              "      <th>1</th>\n",
              "      <td>21-Jan-20</td>\n",
              "      <td>2.90</td>\n",
              "      <td>Paperback</td>\n",
              "      <td>literature</td>\n",
              "      <td>Fascism and Democracy</td>\n",
              "      <td>George Orwell (author)</td>\n",
              "      <td>Penguin Books Ltd</td>\n",
              "      <td>English</td>\n",
              "      <td>5.6</td>\n",
              "      <td>2852.0</td>\n",
              "      <td>'Fascism and Democracy' collects five brillian...</td>\n",
              "    </tr>\n",
              "    <tr>\n",
              "      <th>2</th>\n",
              "      <td>5-Nov-20</td>\n",
              "      <td>10.77</td>\n",
              "      <td>Paperback</td>\n",
              "      <td>fiction</td>\n",
              "      <td>Interior Chinatown</td>\n",
              "      <td>Charles Yu (author)</td>\n",
              "      <td>Europa Editions (UK) Ltd.</td>\n",
              "      <td>English</td>\n",
              "      <td>10.0</td>\n",
              "      <td>839.0</td>\n",
              "      <td>A deeply personal novel about race, pop cultur...</td>\n",
              "    </tr>\n",
              "    <tr>\n",
              "      <th>3</th>\n",
              "      <td>9-Nov-20</td>\n",
              "      <td>12.92</td>\n",
              "      <td>Paperback</td>\n",
              "      <td>artanddesign</td>\n",
              "      <td>Railroad Depots of Northwest Pennsylvania</td>\n",
              "      <td>Dan West (author)</td>\n",
              "      <td>Arcadia Publishing</td>\n",
              "      <td>English</td>\n",
              "      <td>16.0</td>\n",
              "      <td>3965.0</td>\n",
              "      <td>From 1860 until the decline of the railroads n...</td>\n",
              "    </tr>\n",
              "    <tr>\n",
              "      <th>4</th>\n",
              "      <td>9-Nov-20</td>\n",
              "      <td>12.92</td>\n",
              "      <td>Paperback</td>\n",
              "      <td>sports</td>\n",
              "      <td>Lost Ski Areas of Tahoe and Donner</td>\n",
              "      <td>Ingrid P. Wicken (author)</td>\n",
              "      <td>Arcadia Publishing</td>\n",
              "      <td>English</td>\n",
              "      <td>19.0</td>\n",
              "      <td>3371.0</td>\n",
              "      <td>At the beginning of the twentieth century, Lak...</td>\n",
              "    </tr>\n",
              "    <tr>\n",
              "      <th>5</th>\n",
              "      <td>13-Jul-20</td>\n",
              "      <td>14.36</td>\n",
              "      <td>Paperback</td>\n",
              "      <td>technology</td>\n",
              "      <td>Colorado's Daring Ivy Baldwin</td>\n",
              "      <td>Dr. Jack Stokes Ballard (author)</td>\n",
              "      <td>Arcadia Publishing</td>\n",
              "      <td>English</td>\n",
              "      <td>21.0</td>\n",
              "      <td>NaN</td>\n",
              "      <td>At the beginning of the twentieth century, aer...</td>\n",
              "    </tr>\n",
              "    <tr>\n",
              "      <th>6</th>\n",
              "      <td>1-Oct-20</td>\n",
              "      <td>12.81</td>\n",
              "      <td>Paperback</td>\n",
              "      <td>travel</td>\n",
              "      <td>K2, the Savage Mountain</td>\n",
              "      <td>Charles S. Houston (author), Robert H. Bates (...</td>\n",
              "      <td>Lyons Press</td>\n",
              "      <td>English</td>\n",
              "      <td>22.0</td>\n",
              "      <td>NaN</td>\n",
              "      <td>The 1953 American expedition to the second hig...</td>\n",
              "    </tr>\n",
              "    <tr>\n",
              "      <th>7</th>\n",
              "      <td>3-Jan-13</td>\n",
              "      <td>2.99</td>\n",
              "      <td>Paperback</td>\n",
              "      <td>literature</td>\n",
              "      <td>Politics and the English Language</td>\n",
              "      <td>George Orwell (author)</td>\n",
              "      <td>Penguin Books Ltd</td>\n",
              "      <td>English</td>\n",
              "      <td>24.0</td>\n",
              "      <td>3618.0</td>\n",
              "      <td>Includes all issues such as political issues, ...</td>\n",
              "    </tr>\n",
              "    <tr>\n",
              "      <th>8</th>\n",
              "      <td>3-May-12</td>\n",
              "      <td>5.64</td>\n",
              "      <td>Paperback</td>\n",
              "      <td>medical</td>\n",
              "      <td>Essential Clinical Skills</td>\n",
              "      <td>Susan Carlisle</td>\n",
              "      <td>Taylor and Francis</td>\n",
              "      <td>English</td>\n",
              "      <td>26.0</td>\n",
              "      <td>6958.0</td>\n",
              "      <td>This handy, pocket-sized book is a quick-refer...</td>\n",
              "    </tr>\n",
              "    <tr>\n",
              "      <th>9</th>\n",
              "      <td>11-Aug-20</td>\n",
              "      <td>7.56</td>\n",
              "      <td>Hardback</td>\n",
              "      <td>stationeryandgift</td>\n",
              "      <td>Harry Potter</td>\n",
              "      <td>Insight Editions</td>\n",
              "      <td>Insight Editions</td>\n",
              "      <td>English</td>\n",
              "      <td>32.0</td>\n",
              "      <td>8778.0</td>\n",
              "      <td>Go behind-the-scenes of the beloved Harry Pott...</td>\n",
              "    </tr>\n",
              "    <tr>\n",
              "      <th>10</th>\n",
              "      <td>10-Dec-20</td>\n",
              "      <td>15.83</td>\n",
              "      <td>Hardback</td>\n",
              "      <td>sf</td>\n",
              "      <td>Lone Wolves</td>\n",
              "      <td>Dan Abnett (author)</td>\n",
              "      <td>Games Workshop</td>\n",
              "      <td>English</td>\n",
              "      <td>35.0</td>\n",
              "      <td>6745.0</td>\n",
              "      <td>Classic Black Library graphic novel, colourise...</td>\n",
              "    </tr>\n",
              "    <tr>\n",
              "      <th>11</th>\n",
              "      <td>5-Jul-12</td>\n",
              "      <td>4.63</td>\n",
              "      <td>Paperback</td>\n",
              "      <td>education</td>\n",
              "      <td>Oxford Reading Tree: Level 1+: More Songbirds ...</td>\n",
              "      <td>Julia Donaldson, Clare Kirtley (series editor)</td>\n",
              "      <td>OUP Oxford</td>\n",
              "      <td>English</td>\n",
              "      <td>36.0</td>\n",
              "      <td>NaN</td>\n",
              "      <td>A delightful phonics story by Julia Donaldson,...</td>\n",
              "    </tr>\n",
              "    <tr>\n",
              "      <th>12</th>\n",
              "      <td>29-Oct-20</td>\n",
              "      <td>8.24</td>\n",
              "      <td>Paperback</td>\n",
              "      <td>history</td>\n",
              "      <td>The Trouble With Being Born</td>\n",
              "      <td>E. M. Cioran, Richard Howard (translator)</td>\n",
              "      <td>Penguin Books Ltd</td>\n",
              "      <td>English</td>\n",
              "      <td>37.0</td>\n",
              "      <td>2833.0</td>\n",
              "      <td>E. M. Cioran grapples with the major questions...</td>\n",
              "    </tr>\n",
              "    <tr>\n",
              "      <th>13</th>\n",
              "      <td>16-Jul-20</td>\n",
              "      <td>4.29</td>\n",
              "      <td>Paperback</td>\n",
              "      <td>crime</td>\n",
              "      <td>The Part-Time Job</td>\n",
              "      <td>P. D. James (author)</td>\n",
              "      <td>Faber &amp; Faber</td>\n",
              "      <td>English</td>\n",
              "      <td>40.0</td>\n",
              "      <td>8770.0</td>\n",
              "      <td>\"My only regret is that I shan't be alive to s...</td>\n",
              "    </tr>\n",
              "    <tr>\n",
              "      <th>14</th>\n",
              "      <td>5-Jul-12</td>\n",
              "      <td>4.65</td>\n",
              "      <td>Paperback</td>\n",
              "      <td>education</td>\n",
              "      <td>Oxford Reading Tree: Level 1+: More Songbirds ...</td>\n",
              "      <td>Julia Donaldson, Clare Kirtley (series editor)</td>\n",
              "      <td>OUP Oxford</td>\n",
              "      <td>English</td>\n",
              "      <td>42.0</td>\n",
              "      <td>NaN</td>\n",
              "      <td>delightful phonics story by Julia Donaldson, t...</td>\n",
              "    </tr>\n",
              "    <tr>\n",
              "      <th>15</th>\n",
              "      <td>1-Nov-71</td>\n",
              "      <td>3.72</td>\n",
              "      <td>Paperback</td>\n",
              "      <td>languages</td>\n",
              "      <td>Rhyming Cockney Slang</td>\n",
              "      <td>Jack Jones, Alma Duncan</td>\n",
              "      <td>Abson</td>\n",
              "      <td>English</td>\n",
              "      <td>43.0</td>\n",
              "      <td>NaN</td>\n",
              "      <td>This is a quirky dictionary of Cockney rhyming...</td>\n",
              "    </tr>\n",
              "    <tr>\n",
              "      <th>16</th>\n",
              "      <td>13-Aug-20</td>\n",
              "      <td>4.29</td>\n",
              "      <td>Paperback</td>\n",
              "      <td>history</td>\n",
              "      <td>How to Spot a Fascist</td>\n",
              "      <td>Umberto Eco, Alastair McEwen (translator), Ric...</td>\n",
              "      <td>Random House</td>\n",
              "      <td>English</td>\n",
              "      <td>45.0</td>\n",
              "      <td>9094.0</td>\n",
              "      <td>We are here to remember what happened and to d...</td>\n",
              "    </tr>\n",
              "    <tr>\n",
              "      <th>17</th>\n",
              "      <td>1-Sep-20</td>\n",
              "      <td>4.01</td>\n",
              "      <td>Paperback</td>\n",
              "      <td>philosophy</td>\n",
              "      <td>Is God Speaking to Me?</td>\n",
              "      <td>Lysa TerKeurst (author)</td>\n",
              "      <td>Harvest House Publishers</td>\n",
              "      <td>English</td>\n",
              "      <td>45.5</td>\n",
              "      <td>NaN</td>\n",
              "      <td>Are you ready to be blessed beyond what you ca...</td>\n",
              "    </tr>\n",
              "    <tr>\n",
              "      <th>18</th>\n",
              "      <td>22-Feb-18</td>\n",
              "      <td>2.46</td>\n",
              "      <td>Paperback</td>\n",
              "      <td>sf</td>\n",
              "      <td>The Garden of Forking Paths</td>\n",
              "      <td>Jorge Luis Borges (author)</td>\n",
              "      <td>Penguin Books Ltd</td>\n",
              "      <td>English</td>\n",
              "      <td>47.0</td>\n",
              "      <td>7478.0</td>\n",
              "      <td>No further information has been provided for t...</td>\n",
              "    </tr>\n",
              "    <tr>\n",
              "      <th>19</th>\n",
              "      <td>22-Feb-18</td>\n",
              "      <td>3.16</td>\n",
              "      <td>Paperback</td>\n",
              "      <td>literature</td>\n",
              "      <td>Master's Tools Will Never Dismantle the Master...</td>\n",
              "      <td>Audre Lorde (author)</td>\n",
              "      <td>Penguin Books Ltd</td>\n",
              "      <td>English</td>\n",
              "      <td>48.0</td>\n",
              "      <td>690.0</td>\n",
              "      <td>From the self-described 'black, lesbian, mothe...</td>\n",
              "    </tr>\n",
              "  </tbody>\n",
              "</table>\n",
              "</div>"
            ],
            "text/plain": [
              "   publication_date  ...                                        short_blurb\n",
              "0         20-Aug-20  ...  In the late 19th and early 20th century, a com...\n",
              "1         21-Jan-20  ...  'Fascism and Democracy' collects five brillian...\n",
              "2          5-Nov-20  ...  A deeply personal novel about race, pop cultur...\n",
              "3          9-Nov-20  ...  From 1860 until the decline of the railroads n...\n",
              "4          9-Nov-20  ...  At the beginning of the twentieth century, Lak...\n",
              "5         13-Jul-20  ...  At the beginning of the twentieth century, aer...\n",
              "6          1-Oct-20  ...  The 1953 American expedition to the second hig...\n",
              "7          3-Jan-13  ...  Includes all issues such as political issues, ...\n",
              "8          3-May-12  ...  This handy, pocket-sized book is a quick-refer...\n",
              "9         11-Aug-20  ...  Go behind-the-scenes of the beloved Harry Pott...\n",
              "10        10-Dec-20  ...  Classic Black Library graphic novel, colourise...\n",
              "11         5-Jul-12  ...  A delightful phonics story by Julia Donaldson,...\n",
              "12        29-Oct-20  ...  E. M. Cioran grapples with the major questions...\n",
              "13        16-Jul-20  ...  \"My only regret is that I shan't be alive to s...\n",
              "14         5-Jul-12  ...  delightful phonics story by Julia Donaldson, t...\n",
              "15         1-Nov-71  ...  This is a quirky dictionary of Cockney rhyming...\n",
              "16        13-Aug-20  ...  We are here to remember what happened and to d...\n",
              "17         1-Sep-20  ...  Are you ready to be blessed beyond what you ca...\n",
              "18        22-Feb-18  ...  No further information has been provided for t...\n",
              "19        22-Feb-18  ...  From the self-described 'black, lesbian, mothe...\n",
              "\n",
              "[20 rows x 11 columns]"
            ]
          },
          "metadata": {
            "tags": []
          },
          "execution_count": 26
        }
      ]
    },
    {
      "cell_type": "code",
      "metadata": {
        "id": "z8h-ZPIghVnV",
        "colab": {
          "base_uri": "https://localhost:8080/",
          "height": 53
        },
        "outputId": "ae8a802c-a494-4c4d-e0d7-29f72a907add"
      },
      "source": [
        "'''import re\n",
        "\n",
        "def cleanhtml(raw_html):\n",
        "  cleanr = re.compile('<.*?>')\n",
        "  cleantext = re.sub(cleanr, '', raw_html)\n",
        "  return cleantext\n",
        "\n",
        "for i in range(df['name'].count()):\n",
        "  df['short_blurb'][i] = cleanhtml(df['short_blurb'][i])\n",
        "df.head()'''"
      ],
      "execution_count": null,
      "outputs": [
        {
          "output_type": "execute_result",
          "data": {
            "application/vnd.google.colaboratory.intrinsic+json": {
              "type": "string"
            },
            "text/plain": [
              "\"import re\\n\\ndef cleanhtml(raw_html):\\n  cleanr = re.compile('<.*?>')\\n  cleantext = re.sub(cleanr, '', raw_html)\\n  return cleantext\\n\\nfor i in range(df['name'].count()):\\n  df['short_blurb'][i] = cleanhtml(df['short_blurb'][i])\\ndf.head()\""
            ]
          },
          "metadata": {
            "tags": []
          },
          "execution_count": 27
        }
      ]
    },
    {
      "cell_type": "code",
      "metadata": {
        "id": "qak0ygaSbZgo"
      },
      "source": [
        "df['language'].fillna('English', inplace=True)"
      ],
      "execution_count": null,
      "outputs": []
    },
    {
      "cell_type": "code",
      "metadata": {
        "id": "0EhVY3WFq55g",
        "colab": {
          "base_uri": "https://localhost:8080/"
        },
        "outputId": "4c579ccf-369c-4d0d-e9a7-237646a0160d"
      },
      "source": [
        "df['short_blurb'].head(5)"
      ],
      "execution_count": null,
      "outputs": [
        {
          "output_type": "execute_result",
          "data": {
            "text/plain": [
              "0    In the late 19th and early 20th century, a com...\n",
              "1    'Fascism and Democracy' collects five brillian...\n",
              "2    A deeply personal novel about race, pop cultur...\n",
              "3    From 1860 until the decline of the railroads n...\n",
              "4    At the beginning of the twentieth century, Lak...\n",
              "Name: short_blurb, dtype: object"
            ]
          },
          "metadata": {
            "tags": []
          },
          "execution_count": 29
        }
      ]
    },
    {
      "cell_type": "code",
      "metadata": {
        "colab": {
          "base_uri": "https://localhost:8080/"
        },
        "id": "X1F8rPn-wZpC",
        "outputId": "a1837f33-45a4-4258-82a1-42096a871e0b"
      },
      "source": [
        "#removing stopwords, null values\n",
        "from sklearn.feature_extraction.text import TfidfVectorizer\n",
        "\n",
        "tfidf = TfidfVectorizer(stop_words='english')\n",
        "df['short_blurb'] = df['short_blurb'].fillna('')\n",
        "\n",
        "tfidf_matrix = tfidf.fit_transform(df['short_blurb'])\n",
        "\n",
        "tfidf_matrix.shape"
      ],
      "execution_count": null,
      "outputs": [
        {
          "output_type": "execute_result",
          "data": {
            "text/plain": [
              "(1250, 11233)"
            ]
          },
          "metadata": {
            "tags": []
          },
          "execution_count": 30
        }
      ]
    },
    {
      "cell_type": "code",
      "metadata": {
        "id": "Y_oSNNQxwnZE"
      },
      "source": [
        "from sklearn.metrics.pairwise import linear_kernel\n",
        "\n",
        "# Compute the cosine similarity matrix\n",
        "cosine_sim = linear_kernel(tfidf_matrix, tfidf_matrix)"
      ],
      "execution_count": null,
      "outputs": []
    },
    {
      "cell_type": "code",
      "metadata": {
        "id": "14tVtX9EwtnK"
      },
      "source": [
        "indices = pd.Series(df.index, index=df['name']).drop_duplicates()"
      ],
      "execution_count": null,
      "outputs": []
    },
    {
      "cell_type": "code",
      "metadata": {
        "id": "lkIQrUD6wwIx"
      },
      "source": [
        "def get_recommendations(weight, cosine_sim=cosine_sim):\n",
        "    # Get the index of book\n",
        "    idx = indices[weight]\n",
        "\n",
        "    # Get the pairwsie similarity scores of all books\n",
        "    sim_scores = list(enumerate(cosine_sim[idx]))\n",
        "\n",
        "    # Sort the books based on the similarity scores\n",
        "    sim_scores = sorted(sim_scores, key=lambda x: x[1], reverse=True)\n",
        "\n",
        "    # Get the scores of the 7 most similar books\n",
        "    sim_scores = sim_scores[1:8]\n",
        "    book_indices = [i[0] for i in sim_scores]\n",
        "\n",
        "    return df.iloc[book_indices]"
      ],
      "execution_count": null,
      "outputs": []
    },
    {
      "cell_type": "code",
      "metadata": {
        "id": "QR5I_2v1tO0y"
      },
      "source": [
        "def book_details(weight):\n",
        "  my_dict = df['weight'].to_dict()\n",
        "  key_list = list(my_dict.keys())\n",
        "  val_list = list(my_dict.values())\n",
        "  position = val_list.index(weight)\n",
        "  p = df.loc[position,['publication_date', 'euro_price', 'type', 'category', 'name',\n",
        "       'author', 'publisher', 'language',\n",
        "       'weight', 'salesRank']]\n",
        "  \n",
        "  b = get_recommendations(weight)\n",
        "\n",
        "  \n",
        "  print(p)\n",
        "  python_desc = df._get_value(position,'short_blurb')\n",
        "  print()\n",
        "  print(\"Short Description\")\n",
        "  my_wrap = textwrap.TextWrapper(width = 40)\n",
        "  wrap_list = my_wrap.wrap(text=python_desc)\n",
        "  for line in wrap_list:\n",
        "    print(line)\n",
        "  print()\n",
        "  print()\n",
        "  \n",
        "  \n",
        "  print(tabulate(b, headers='keys', tablefmt='psql'))  "
      ],
      "execution_count": null,
      "outputs": []
    },
    {
      "cell_type": "code",
      "metadata": {
        "colab": {
          "base_uri": "https://localhost:8080/"
        },
        "id": "jgvbPJVoLroJ",
        "outputId": "dd21f30b-80ca-41c0-906f-351e07bc405a"
      },
      "source": [
        "weight=int(input())\n",
        "book_details(weight)"
      ],
      "execution_count": null,
      "outputs": [
        {
          "output_type": "stream",
          "text": [
            "1056\n",
            "publication_date                                            30-Aug-18\n",
            "euro_price                                                      25.59\n",
            "type                                                        Hardback \n",
            "category                                                homeandgarden\n",
            "name                                                         Spectrum\n",
            "author              Victoria and Albert Museum (associated with work)\n",
            "publisher                                       Thames and Hudson Ltd\n",
            "language                                                      English\n",
            "weight                                                           1056\n",
            "salesRank                                                         NaN\n",
            "Name: 992, dtype: object\n",
            "\n",
            "Short Description\n",
            "A visual analysis of the colours used in\n",
            "furnishing fabrics and wallpapers from\n",
            "the 15th century to now, providing\n",
            "inspiration for designers.\n",
            "\n",
            "\n",
            "+------+--------------------+--------------+-----------+--------------+--------------------------------------------------------------------------+-----------------------------------------------------------------------------------------------------------+------------------------+------------+----------+-------------+------------------------------------------------------------------------------------------------------------------------------------------------------------------------------------------------------------------------------------------------+\n",
            "|      | publication_date   |   euro_price | type      | category     | name                                                                     | author                                                                                                    | publisher              | language   |   weight |   salesRank | short_blurb                                                                                                                                                                                                                                    |\n",
            "|------+--------------------+--------------+-----------+--------------+--------------------------------------------------------------------------+-----------------------------------------------------------------------------------------------------------+------------------------+------------+----------+-------------+------------------------------------------------------------------------------------------------------------------------------------------------------------------------------------------------------------------------------------------------|\n",
            "| 1056 | 12-Jun-18          |        32.1  | Paperback | literature   | The Norton Anthology of English Literature. Volume D The Romantic Period | Stephen Greenblatt (editor)                                                                               | W. W. Norton & Company | English    |      923 |       41577 | A responsive, refreshed, and media-rich revision of the best-selling anthology in the field.                                                                                                                                                   |\n",
            "| 1057 | 12-Jun-18          |        31.66 | Paperback | literature   | The Norton Anthology of English Literature. Volume E The Victorian Age   | Stephen Greenblatt (editor)                                                                               | W. W. Norton & Company | English    |      845 |       17617 | A responsive, refreshed, and media-rich revision of the best-selling anthology in the field.                                                                                                                                                   |\n",
            "| 1059 | 12-Jun-18          |        59.9  | Paperback | literature   | The Norton Anthology of English Literature. Package 1                    | Stephen Greenblatt (editor)                                                                               | W. W. Norton & Company | English    |     2996 |        4146 | A responsive, refreshed, and media-rich revision of the best-selling anthology in the field.                                                                                                                                                   |\n",
            "| 1112 | 19-Nov-20          |        54.98 | Hardback  | philosophy   | Systematic Theology                                                      | Wayne A. Grudem (author)                                                                                  | IVP                    | English    |     2864 |         nan | Revised, updated and expanded edition of a widely-appreciated, best-selling textbook                                                                                                                                                           |\n",
            "|  713 | 2-Nov-12           |        62.79 | Paperback | business     | Economics of Development                                                 | Dwight H. Perkins (author), Steven Radelet (author), David L. Lindauer (author), Steven A. Block (author) | W. W. Norton & Company | English    |     1336 |       23017 | A dynamic revision of the most modern development economics textbook.                                                                                                                                                                          |\n",
            "|  841 | 21-May-17          |        18.53 | Paperback | education    | Eduqas GCSE Food Preparation and Nutrition. Revision Guide               | Jayne Hill (author)                                                                                       | Illuminate Publishing  | English    |      516 |         nan | The Revision Guide is endorsed by Eduqas, offering you high quality support you can trust.  It is an invaluable aid for consolidating knowledge both at home for revision, and at school as a topic-by-topic summary as the course progresses. |\n",
            "|  431 | 1-Oct-20           |        17.74 | Hardback  | artanddesign | 100 Posters That Changed the World                                       | Colin Salter (author)                                                                                     | Pavilion Books         | English    |      902 |        3685 | <p>A collection of the world's most memorable, provocative, best-selling and groundbreaking posters from Johannes Gutenberg to Barack Obama.</p>                                                                                               |\n",
            "+------+--------------------+--------------+-----------+--------------+--------------------------------------------------------------------------+-----------------------------------------------------------------------------------------------------------+------------------------+------------+----------+-------------+------------------------------------------------------------------------------------------------------------------------------------------------------------------------------------------------------------------------------------------------+\n"
          ],
          "name": "stdout"
        }
      ]
    },
    {
      "cell_type": "code",
      "metadata": {
        "id": "faObIrUWPJH6"
      },
      "source": [
        ""
      ],
      "execution_count": null,
      "outputs": []
    }
  ]
}